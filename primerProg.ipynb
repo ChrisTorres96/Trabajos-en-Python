{
 "cells": [
  {
   "cell_type": "code",
   "execution_count": 8,
   "metadata": {},
   "outputs": [],
   "source": [
    "from tkinter import *\n",
    "from tkinter.ttk import *\n",
    "\n",
    "window = Tk() # Creacion de ventana\n",
    "\n",
    "window.title(\"Chris Torres\") # titulo de la ventana\n",
    "window.geometry('350x200') # tamaño de la ventana\n",
    "\n",
    "\n",
    "lbl = Label(window, text=\"Que onda\", font=(\"Arial Bold\",10)) # creacion label\n",
    "lbl.grid(column=0, row=0) #ubicacion del label\n",
    "\n",
    "txt = Entry(window, width=10)\n",
    "txt.grid(column=1, row=0)\n",
    "\n",
    "\n",
    "def clicked():\n",
    "    res = \"Welcome to \" + txt.get()\n",
    "    lbl.configure(text=res)\n",
    "    \n",
    "    \n",
    "btn = Button(window, text=\"Click me\", command=clicked) # creacion boton, bg = color de caja, fg = color de fuente\n",
    "btn.grid(column=2, row=0) #ubicacion del boton\n",
    "\n",
    "combo = Combobox(window)\n",
    "combo['values'] = (1,2,3,4,5,\"Text\")\n",
    "combo.current(0) #set the selected item\n",
    "combo.grid(column=0, row=1)\n",
    "\n",
    "window.mainloop() # ciclo infinito para que la ventana se mantega abierta\n",
    "\n"
   ]
  },
  {
   "cell_type": "code",
   "execution_count": null,
   "metadata": {},
   "outputs": [],
   "source": []
  }
 ],
 "metadata": {
  "kernelspec": {
   "display_name": "Python 3",
   "language": "python",
   "name": "python3"
  },
  "language_info": {
   "codemirror_mode": {
    "name": "ipython",
    "version": 3
   },
   "file_extension": ".py",
   "mimetype": "text/x-python",
   "name": "python",
   "nbconvert_exporter": "python",
   "pygments_lexer": "ipython3",
   "version": "3.7.3"
  }
 },
 "nbformat": 4,
 "nbformat_minor": 2
}
