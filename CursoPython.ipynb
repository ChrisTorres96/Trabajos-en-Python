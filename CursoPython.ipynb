{
 "cells": [
  {
   "cell_type": "markdown",
   "metadata": {},
   "source": [
    "# Curso Think Python"
   ]
  },
  {
   "cell_type": "code",
   "execution_count": 1,
   "metadata": {},
   "outputs": [
    {
     "data": {
      "text/plain": [
       "1"
      ]
     },
     "execution_count": 1,
     "metadata": {},
     "output_type": "execute_result"
    }
   ],
   "source": [
    "\"\"\"Modulo de una division\"\"\"\n",
    "10%3"
   ]
  },
  {
   "cell_type": "code",
   "execution_count": 18,
   "metadata": {},
   "outputs": [
    {
     "data": {
      "text/plain": [
       "4"
      ]
     },
     "execution_count": 18,
     "metadata": {},
     "output_type": "execute_result"
    }
   ],
   "source": [
    "#Exponente\n",
    "2**2"
   ]
  },
  {
   "cell_type": "code",
   "execution_count": 2,
   "metadata": {},
   "outputs": [
    {
     "data": {
      "text/plain": [
       "str"
      ]
     },
     "execution_count": 2,
     "metadata": {},
     "output_type": "execute_result"
    }
   ],
   "source": [
    "#Checa el tipo de dato\n",
    "nombre=(\"chris\")\n",
    "type(nombre)"
   ]
  },
  {
   "cell_type": "code",
   "execution_count": 3,
   "metadata": {},
   "outputs": [
    {
     "name": "stdout",
     "output_type": "stream",
     "text": [
      "Este es un mensaje\n",
      "largo, por ejemplo\n"
     ]
    }
   ],
   "source": [
    "#La triple comilla usada para textos grandes o comentarios\n",
    "mensaje=\"\"\"Este es un mensaje\n",
    "largo, por ejemplo\"\"\"\n",
    "print(mensaje)\n"
   ]
  },
  {
   "cell_type": "code",
   "execution_count": 7,
   "metadata": {},
   "outputs": [
    {
     "name": "stdout",
     "output_type": "stream",
     "text": [
      "throatwarbler\n"
     ]
    },
    {
     "data": {
      "text/plain": [
       "'SpamSpamSpam'"
      ]
     },
     "execution_count": 7,
     "metadata": {},
     "output_type": "execute_result"
    }
   ],
   "source": [
    "#Operaciones String\n",
    "\n",
    "first = 'throat'\n",
    "second = 'warbler'\n",
    "print (first + second)\n",
    "\n",
    "'Spam'*3"
   ]
  },
  {
   "cell_type": "markdown",
   "metadata": {},
   "source": [
    "# Funciones"
   ]
  },
  {
   "cell_type": "code",
   "execution_count": 24,
   "metadata": {},
   "outputs": [
    {
     "data": {
      "text/plain": [
       "str"
      ]
     },
     "execution_count": 24,
     "metadata": {},
     "output_type": "execute_result"
    }
   ],
   "source": [
    "type (first) # Tipos de datos"
   ]
  },
  {
   "cell_type": "code",
   "execution_count": 25,
   "metadata": {},
   "outputs": [
    {
     "data": {
      "text/plain": [
       "32"
      ]
     },
     "execution_count": 25,
     "metadata": {},
     "output_type": "execute_result"
    }
   ],
   "source": [
    "int('32')   #Conversion de String a int \n"
   ]
  },
  {
   "cell_type": "code",
   "execution_count": 31,
   "metadata": {},
   "outputs": [
    {
     "data": {
      "text/plain": [
       "-2"
      ]
     },
     "execution_count": 31,
     "metadata": {},
     "output_type": "execute_result"
    }
   ],
   "source": [
    "int(3.99999)  #Conversion de float a int, descarta el .9999\n",
    "int(-2.3) #Conversion de float a int, descarta el .3"
   ]
  },
  {
   "cell_type": "code",
   "execution_count": 54,
   "metadata": {},
   "outputs": [
    {
     "data": {
      "text/plain": [
       "3.14159"
      ]
     },
     "execution_count": 54,
     "metadata": {},
     "output_type": "execute_result"
    }
   ],
   "source": [
    "float(32) #Convierte de int a float agregando el punto flotante\n",
    "float('3.14159') #Convierte string a float"
   ]
  },
  {
   "cell_type": "markdown",
   "metadata": {},
   "source": [
    "## Funciones Matematicas Modulos"
   ]
  },
  {
   "cell_type": "code",
   "execution_count": 34,
   "metadata": {},
   "outputs": [],
   "source": [
    "\"\"\"import math -> Importa el modulo Math\n",
    "\n",
    "math.log10(variable_definida) -> Calcula el valor de logaritmo en base 10\n",
    "\n",
    "math.sin(variable_definida) -> Calcula el valor del seno\n",
    "\n",
    "math.pi -> Toma el valor de Pi \n",
    "\n",
    "math.exp() -> Exponente de un numero   \"\"\"\""
   ]
  },
  {
   "cell_type": "code",
   "execution_count": 37,
   "metadata": {},
   "outputs": [
    {
     "data": {
      "text/plain": [
       "2.0"
      ]
     },
     "execution_count": 37,
     "metadata": {},
     "output_type": "execute_result"
    }
   ],
   "source": [
    "import math\n",
    "math.sqrt(2) / 2.0 #raiz cuadrada de un numero\n",
    "math.sqrt(4)"
   ]
  },
  {
   "cell_type": "code",
   "execution_count": 38,
   "metadata": {},
   "outputs": [
    {
     "data": {
      "text/plain": [
       "7.38905609893065"
      ]
     },
     "execution_count": 38,
     "metadata": {},
     "output_type": "execute_result"
    }
   ],
   "source": [
    "math.exp(2)"
   ]
  },
  {
   "cell_type": "code",
   "execution_count": 39,
   "metadata": {},
   "outputs": [],
   "source": [
    "#Definir una funcion propia"
   ]
  },
  {
   "cell_type": "code",
   "execution_count": 42,
   "metadata": {},
   "outputs": [],
   "source": [
    "def print_lyrics():\n",
    "    print (\"I'm a lumberjack, and I'm okay.\")\n",
    "    print (\"I sleep all night and I work all day.\")"
   ]
  },
  {
   "cell_type": "code",
   "execution_count": 45,
   "metadata": {},
   "outputs": [
    {
     "data": {
      "text/plain": [
       "function"
      ]
     },
     "execution_count": 45,
     "metadata": {},
     "output_type": "execute_result"
    }
   ],
   "source": [
    "type(print_lyrics) #Tipo de dato funcion"
   ]
  },
  {
   "cell_type": "code",
   "execution_count": 46,
   "metadata": {},
   "outputs": [],
   "source": [
    "#Se puede llamar una funcion dentro de otra funcion\n",
    "def repeat_lyrics():\n",
    "    print_lyrics() \n",
    "    print_lyrics()"
   ]
  },
  {
   "cell_type": "code",
   "execution_count": 55,
   "metadata": {},
   "outputs": [
    {
     "name": "stdout",
     "output_type": "stream",
     "text": [
      "I'm a lumberjack, and I'm okay.\n",
      "I sleep all night and I work all day.\n",
      "I'm a lumberjack, and I'm okay.\n",
      "I sleep all night and I work all day.\n"
     ]
    }
   ],
   "source": [
    "# Los dos fragmentos de codigo juntos se verian asi\n",
    "\n",
    "def print_lyrics():\n",
    "    print (\"I'm a lumberjack, and I'm okay.\")\n",
    "    print (\"I sleep all night and I work all day.\")\n",
    "\n",
    "def repeat_lyrics():\n",
    "    print_lyrics()\n",
    "    print_lyrics()\n",
    "    \n",
    "repeat_lyrics()"
   ]
  },
  {
   "cell_type": "code",
   "execution_count": 71,
   "metadata": {},
   "outputs": [
    {
     "name": "stdout",
     "output_type": "stream",
     "text": [
      "Expresion escrita\n",
      "Expresion escrita\n"
     ]
    }
   ],
   "source": [
    "# Ejemplo de una funcion que toma un argumento\n",
    "# se puede usar una variable como argumento\n",
    "\n",
    "expr = (\"Expresion escrita\")\n",
    "def print_twice(expr):\n",
    "    print (expr)\n",
    "    print (expr)\n",
    "    \n",
    "print_twice(expr)"
   ]
  },
  {
   "cell_type": "code",
   "execution_count": 66,
   "metadata": {},
   "outputs": [
    {
     "name": "stdout",
     "output_type": "stream",
     "text": [
      "Spam\n",
      "Spam\n"
     ]
    }
   ],
   "source": [
    "print_twice('Spam')"
   ]
  },
  {
   "cell_type": "code",
   "execution_count": 72,
   "metadata": {},
   "outputs": [
    {
     "name": "stdout",
     "output_type": "stream",
     "text": [
      "-1.0\n",
      "-1.0\n"
     ]
    }
   ],
   "source": [
    "print_twice(math.cos(math.pi))"
   ]
  },
  {
   "cell_type": "markdown",
   "metadata": {},
   "source": [
    "### Importando con \"From\""
   ]
  },
  {
   "cell_type": "code",
   "execution_count": 2,
   "metadata": {},
   "outputs": [
    {
     "data": {
      "text/plain": [
       "'En lugar de importar el modulo \"import math\" se puede usar \"from\" para importar el objeto desde el modulo'"
      ]
     },
     "execution_count": 2,
     "metadata": {},
     "output_type": "execute_result"
    }
   ],
   "source": [
    "\"\"\"En lugar de importar el modulo \"import math\" se puede usar \"from\" para importar el objeto desde el modulo\"\"\""
   ]
  },
  {
   "cell_type": "code",
   "execution_count": 3,
   "metadata": {},
   "outputs": [
    {
     "name": "stdout",
     "output_type": "stream",
     "text": [
      "3.141592653589793\n"
     ]
    }
   ],
   "source": [
    "from math import pi\n",
    "print (pi)    # Ahora se puede acceder a pi sin usar el ."
   ]
  },
  {
   "cell_type": "code",
   "execution_count": 4,
   "metadata": {},
   "outputs": [
    {
     "data": {
      "text/plain": [
       "-1.0"
      ]
     },
     "execution_count": 4,
     "metadata": {},
     "output_type": "execute_result"
    }
   ],
   "source": [
    "from math import *       # o se puede usar el \"*\" para importar todo del modulo\n",
    "cos(pi)"
   ]
  },
  {
   "cell_type": "code",
   "execution_count": 5,
   "metadata": {},
   "outputs": [
    {
     "data": {
      "text/plain": [
       "'The advantage of importing everything from the math module is that your code can be\\nmore concise. The disadvantage is that there might be conflicts between names defined in\\ndifferent modules, or between a name from a module and one of your variables.'"
      ]
     },
     "execution_count": 5,
     "metadata": {},
     "output_type": "execute_result"
    }
   ],
   "source": [
    "\"\"\"The advantage of importing everything from the math module is that your code can be\n",
    "more concise. The disadvantage is that there might be conflicts between names defined in\n",
    "different modules, or between a name from a module and one of your variables.\"\"\""
   ]
  },
  {
   "cell_type": "code",
   "execution_count": 14,
   "metadata": {},
   "outputs": [],
   "source": [
    "import tkinter #Importamos tkinter "
   ]
  },
  {
   "cell_type": "code",
   "execution_count": 16,
   "metadata": {},
   "outputs": [
    {
     "name": "stdout",
     "output_type": "stream",
     "text": [
      "Python 3.7.3\n"
     ]
    }
   ],
   "source": [
    "import sys\n",
    "!{sys.executable} --version  #Sirve para checar version de python"
   ]
  },
  {
   "cell_type": "code",
   "execution_count": 17,
   "metadata": {},
   "outputs": [
    {
     "name": "stdout",
     "output_type": "stream",
     "text": [
      "Collecting swampy\n",
      "  Downloading https://files.pythonhosted.org/packages/be/24/f86d800c1b38747b8451ac73eaf317d8aa2a70b94708e8140ee288b5e170/swampy-3.0.1.tar.gz (802kB)\n",
      "Building wheels for collected packages: swampy\n",
      "  Building wheel for swampy (setup.py): started\n",
      "  Building wheel for swampy (setup.py): finished with status 'done'\n",
      "  Stored in directory: C:\\Users\\chris\\AppData\\Local\\pip\\Cache\\wheels\\4d\\57\\4c\\8349247b6372b9217a7be43d9399ca5f8968378e24210d1059\n",
      "Successfully built swampy\n",
      "Installing collected packages: swampy\n",
      "Successfully installed swampy-3.0.1\n",
      "Note: you may need to restart the kernel to use updated packages.\n"
     ]
    }
   ],
   "source": [
    "pip install swampy   #Comando para instalar paquete Swampy "
   ]
  },
  {
   "cell_type": "code",
   "execution_count": 1,
   "metadata": {},
   "outputs": [],
   "source": [
    "import swampy #Se importa la paqueteria recien instalada"
   ]
  },
  {
   "cell_type": "code",
   "execution_count": 8,
   "metadata": {},
   "outputs": [
    {
     "name": "stdout",
     "output_type": "stream",
     "text": [
      "<swampy.TurtleWorld.Turtle object at 0x000002496A4B5748>\n"
     ]
    }
   ],
   "source": [
    "#Comandos para formar un cuadrado\n",
    "from swampy.TurtleWorld import *\n",
    "world = TurtleWorld()\n",
    "bob = Turtle()\n",
    "fd(bob, 100)\n",
    "lt(bob)\n",
    "fd(bob, 100)\n",
    "lt(bob)\n",
    "fd(bob, 100)\n",
    "lt(bob)\n",
    "fd(bob, 100)\n",
    "print (bob)\n",
    "wait_for_user()"
   ]
  },
  {
   "cell_type": "code",
   "execution_count": 2,
   "metadata": {},
   "outputs": [
    {
     "name": "stdout",
     "output_type": "stream",
     "text": [
      "<swampy.TurtleWorld.Turtle object at 0x0000023940831940>\n"
     ]
    },
    {
     "data": {
      "text/plain": [
       "'\"This version is actually a little different from the previous square-drawing code because it\\nmakes another turn after drawing the last side of the square. The extra turn takes a little\\nmore time, but it simplifies the code if we do the same thing every time through the loop.\\nThis version also has the effect of leaving the turtle back in the starting position, facing in\\nthe starting direction.'"
      ]
     },
     "execution_count": 2,
     "metadata": {},
     "output_type": "execute_result"
    }
   ],
   "source": [
    "#Comandos para formar un cuadrado con ciclo FOR\n",
    "from swampy.TurtleWorld import *\n",
    "world = TurtleWorld()\n",
    "bob = Turtle()\n",
    "for i in range(4):\n",
    "    fd(bob, 100)\n",
    "    lt(bob)\n",
    "print (bob)\n",
    "wait_for_user()\n",
    "\"\"\"\"This version is actually a little different from the previous square-drawing code because it\n",
    "makes another turn after drawing the last side of the square. The extra turn takes a little\n",
    "more time, but it simplifies the code if we do the same thing every time through the loop.\n",
    "This version also has the effect of leaving the turtle back in the starting position, facing in\n",
    "the starting direction.\"\"\""
   ]
  },
  {
   "cell_type": "code",
   "execution_count": 6,
   "metadata": {},
   "outputs": [
    {
     "name": "stdout",
     "output_type": "stream",
     "text": [
      "<swampy.TurtleWorld.Turtle object at 0x00000239427FFB00>\n"
     ]
    }
   ],
   "source": [
    "#ENCAPSULACION \n",
    "#Wrapping a piece of code up in a function is called encapsulation\n",
    "\n",
    "from swampy.TurtleWorld import *\n",
    "world = TurtleWorld()\n",
    "bob = Turtle()\n",
    "\n",
    "def square(t):\n",
    "    for i in range(4):\n",
    "        fd(t, 100)\n",
    "        lt(t)\n",
    "        \n",
    "square(bob)\n",
    "print (bob)\n",
    "wait_for_user()"
   ]
  },
  {
   "cell_type": "code",
   "execution_count": 9,
   "metadata": {},
   "outputs": [
    {
     "name": "stdout",
     "output_type": "stream",
     "text": [
      "<swampy.TurtleWorld.Turtle object at 0x0000023942804898>\n"
     ]
    }
   ],
   "source": [
    "#GENERALIZACION\n",
    "#Adding a parameter to a function is called generalization because it makes the function\n",
    "#more general\n",
    "\n",
    "from swampy.TurtleWorld import *\n",
    "world = TurtleWorld()\n",
    "bob = Turtle()\n",
    "\n",
    "def square(t, length):\n",
    "    for i in range(4):\n",
    "        fd(t, length)\n",
    "        lt(t)\n",
    "        \n",
    "square(bob, 100)\n",
    "\n",
    "print (bob)\n",
    "wait_for_user()"
   ]
  },
  {
   "cell_type": "code",
   "execution_count": 13,
   "metadata": {},
   "outputs": [
    {
     "name": "stdout",
     "output_type": "stream",
     "text": [
      "<swampy.TurtleWorld.Turtle object at 0x00000239407414E0>\n"
     ]
    }
   ],
   "source": [
    "#Este tambien es de generalizacion pero aqui podemos dar numero de lados del poligono y angulo, es decir el tamaño\n",
    "\n",
    "from swampy.TurtleWorld import *\n",
    "world = TurtleWorld()\n",
    "bob = Turtle()\n",
    "\n",
    "def polygon(t, n, length):\n",
    "    angle = 360.0 / n\n",
    "    for i in range(n):\n",
    "        fd(t, length)\n",
    "        lt(t, angle)\n",
    "        \n",
    "polygon(bob, 7, 70)\n",
    "\n",
    "print (bob)\n",
    "wait_for_user()"
   ]
  },
  {
   "cell_type": "code",
   "execution_count": 16,
   "metadata": {},
   "outputs": [
    {
     "name": "stdout",
     "output_type": "stream",
     "text": [
      "<swampy.TurtleWorld.Turtle object at 0x00000239427FF630>\n"
     ]
    }
   ],
   "source": [
    "#Dibuja un circulo\n",
    "\n",
    "import math\n",
    "from swampy.TurtleWorld import *\n",
    "world = TurtleWorld()\n",
    "bob = Turtle()\n",
    "\n",
    "def circle(t, r):\n",
    "    circumference = 2 * math.pi * r\n",
    "    n = 50\n",
    "    length = circumference / n\n",
    "    polygon(t, n, length)\n",
    "    \n",
    "circle(bob, 100)\n",
    "\n",
    "print (bob)\n",
    "wait_for_user()"
   ]
  },
  {
   "cell_type": "code",
   "execution_count": 17,
   "metadata": {},
   "outputs": [
    {
     "name": "stdout",
     "output_type": "stream",
     "text": [
      "<swampy.TurtleWorld.Turtle object at 0x00000239427FF0B8>\n"
     ]
    }
   ],
   "source": [
    "import math\n",
    "from swampy.TurtleWorld import *\n",
    "world = TurtleWorld()\n",
    "bob = Turtle()\n",
    "\n",
    "def circle(t, r):\n",
    "    circumference = 2 * math.pi * r\n",
    "    n = int(circumference / 3) + 1\n",
    "    length = circumference / n\n",
    "    polygon(t, n, length)\n",
    "    \n",
    "circle(bob, 100)\n",
    "\n",
    "print (bob)\n",
    "wait_for_user()\n"
   ]
  },
  {
   "cell_type": "code",
   "execution_count": 4,
   "metadata": {},
   "outputs": [
    {
     "name": "stdout",
     "output_type": "stream",
     "text": [
      "<swampy.TurtleWorld.Turtle object at 0x0000026D94889400>\n"
     ]
    }
   ],
   "source": [
    "#Ejemplo de Refactorizacion \n",
    "\"\"\"polyline requires four arguments: t has to be a Turtle; n is the number of\n",
    "line segments, so it has to be an integer; length should be a positive number; and angle\n",
    "has to be a number, which is understood to be in degrees.\"\"\"\n",
    "\n",
    "import math\n",
    "from swampy.TurtleWorld import *\n",
    "world = TurtleWorld()\n",
    "bob = Turtle()\n",
    "\n",
    "def polyline(t, n, length, angle):\n",
    "    for i in range(n):\n",
    "        fd(t, length)\n",
    "        lt(t, angle)\n",
    "        \n",
    "def polygon(t, n, length):\n",
    "    angle = 360.0 / n\n",
    "    polyline(t, n, length, angle)\n",
    "\n",
    "def arc(t, r, angle):\n",
    "    arc_length = 2 * math.pi * r * angle / 360\n",
    "    n = int(arc_length / 3) + 1\n",
    "    step_length = arc_length / n\n",
    "    step_angle = float(angle) / n\n",
    "    polyline(t, n, step_length, step_angle)\n",
    "\n",
    "def circle(t, r):\n",
    "    arc(t, r, 360)\n",
    "    \n",
    "circle(bob, 50)\n",
    "\n",
    "print (bob)\n",
    "wait_for_user()\n",
    "\n"
   ]
  },
  {
   "cell_type": "code",
   "execution_count": 11,
   "metadata": {},
   "outputs": [
    {
     "name": "stdout",
     "output_type": "stream",
     "text": [
      "Coeficiente  =  2.3333333333333335\n",
      "Remanente =  1\n"
     ]
    }
   ],
   "source": [
    "#Calcular coeficiente\n",
    "quotient = 7 / 3\n",
    "print(\"Coeficiente  = \",  quotient)\n",
    "\n",
    "#Calcular modulo operando\n",
    "remainder = 7 % 3\n",
    "print(\"Remanente = \", remainder)"
   ]
  },
  {
   "cell_type": "markdown",
   "metadata": {},
   "source": [
    "### Expresiones Booleanas"
   ]
  },
  {
   "cell_type": "code",
   "execution_count": 12,
   "metadata": {},
   "outputs": [
    {
     "data": {
      "text/plain": [
       "True"
      ]
     },
     "execution_count": 12,
     "metadata": {},
     "output_type": "execute_result"
    }
   ],
   "source": [
    "5 == 5"
   ]
  },
  {
   "cell_type": "code",
   "execution_count": 13,
   "metadata": {},
   "outputs": [
    {
     "data": {
      "text/plain": [
       "False"
      ]
     },
     "execution_count": 13,
     "metadata": {},
     "output_type": "execute_result"
    }
   ],
   "source": [
    "5==6"
   ]
  },
  {
   "cell_type": "code",
   "execution_count": 16,
   "metadata": {},
   "outputs": [
    {
     "data": {
      "text/plain": [
       "bool"
      ]
     },
     "execution_count": 16,
     "metadata": {},
     "output_type": "execute_result"
    }
   ],
   "source": [
    "type(True)"
   ]
  },
  {
   "cell_type": "code",
   "execution_count": 17,
   "metadata": {},
   "outputs": [
    {
     "data": {
      "text/plain": [
       "'x != y # x is not equal to y\\nx > y # x is greater than y\\nx < y # x is less than y\\nx >= y # x is greater than or equal to y\\nx <= y # x is less than or equal to y'"
      ]
     },
     "execution_count": 17,
     "metadata": {},
     "output_type": "execute_result"
    }
   ],
   "source": [
    "#Operadores Relacionales\n",
    "\n",
    "\"\"\"x != y # x is not equal to y\n",
    "x > y # x is greater than y\n",
    "x < y # x is less than y\n",
    "x >= y # x is greater than or equal to y\n",
    "x <= y # x is less than or equal to y\"\"\""
   ]
  },
  {
   "cell_type": "markdown",
   "metadata": {},
   "source": [
    "### Operaciones Logicas\n",
    "\n",
    "and, or, not"
   ]
  },
  {
   "cell_type": "markdown",
   "metadata": {},
   "source": [
    "### Condicionales If"
   ]
  },
  {
   "cell_type": "code",
   "execution_count": 22,
   "metadata": {},
   "outputs": [
    {
     "name": "stdout",
     "output_type": "stream",
     "text": [
      "x is positive\n"
     ]
    }
   ],
   "source": [
    "x = 4\n",
    "if x > 0:\n",
    "    print (\"x is positive\")"
   ]
  },
  {
   "cell_type": "code",
   "execution_count": 25,
   "metadata": {},
   "outputs": [
    {
     "name": "stdout",
     "output_type": "stream",
     "text": [
      "x is even\n"
     ]
    }
   ],
   "source": [
    "#Ejecucion Alterna If\n",
    "x = 2\n",
    "if x%2 == 0:\n",
    "    print ('x is even')\n",
    "else:\n",
    "        print ('x is odd')"
   ]
  },
  {
   "cell_type": "code",
   "execution_count": 4,
   "metadata": {},
   "outputs": [
    {
     "name": "stdout",
     "output_type": "stream",
     "text": [
      "x is greater than y\n"
     ]
    }
   ],
   "source": [
    "# If encadenados\n",
    "\n",
    "x = 1\n",
    "y = 1\n",
    "\n",
    "if x < y:\n",
    "    print ('x is less than y')\n",
    "elif x > y:\n",
    "    print ('x is greater than y')\n",
    "else:\n",
    "    print ('x and y are equal')"
   ]
  },
  {
   "cell_type": "code",
   "execution_count": null,
   "metadata": {},
   "outputs": [],
   "source": [
    "# If anidados\n",
    "\n",
    "x=2\n",
    "y=1\n",
    "\n",
    "if x == y:\n",
    "    print ('x and y are equal')\n",
    "else:\n",
    "    if x < y:\n",
    "        print ('x is less than y')\n",
    "    else:\n",
    "        print ('x is greater than y')\n",
    "\n",
    "# Se puede usar operadores logicos para simplificar \n",
    "if 0 < x and x < 10:\n",
    "    print ('x is a positive single-digit number.')"
   ]
  },
  {
   "cell_type": "markdown",
   "metadata": {},
   "source": [
    "## Recursión "
   ]
  },
  {
   "cell_type": "code",
   "execution_count": 15,
   "metadata": {},
   "outputs": [
    {
     "name": "stdout",
     "output_type": "stream",
     "text": [
      "5\n",
      "4\n",
      "3\n",
      "2\n",
      "1\n",
      "Blastoff!\n"
     ]
    }
   ],
   "source": [
    "# Unq funcion que se llama a si misma es recursiva, ese proceso es llamado recursion.\n",
    "\n",
    "def countdown(n):\n",
    "    if n <= 0:\n",
    "        print ('Blastoff!')\n",
    "    else:\n",
    "        print (n)\n",
    "        countdown(n-1)\n",
    "        \n",
    "countdown(5)"
   ]
  },
  {
   "cell_type": "code",
   "execution_count": 20,
   "metadata": {},
   "outputs": [
    {
     "name": "stdout",
     "output_type": "stream",
     "text": [
      "palabra\n",
      "palabra\n",
      "palabra\n",
      "palabra\n",
      "palabra\n"
     ]
    }
   ],
   "source": [
    "def print_n(s, n):\n",
    "    if n <= 0:\n",
    "        return\n",
    "    print (s)\n",
    "    print_n(s, n-1)\n",
    "\n",
    "print_n('palabra', 5)"
   ]
  },
  {
   "cell_type": "code",
   "execution_count": 22,
   "metadata": {},
   "outputs": [
    {
     "ename": "RecursionError",
     "evalue": "maximum recursion depth exceeded",
     "output_type": "error",
     "traceback": [
      "\u001b[1;31m---------------------------------------------------------------------------\u001b[0m",
      "\u001b[1;31mRecursionError\u001b[0m                            Traceback (most recent call last)",
      "\u001b[1;32m<ipython-input-22-f7acc4acf4a4>\u001b[0m in \u001b[0;36m<module>\u001b[1;34m\u001b[0m\n\u001b[0;32m      2\u001b[0m     \u001b[0mrecurse\u001b[0m\u001b[1;33m(\u001b[0m\u001b[1;33m)\u001b[0m\u001b[1;33m\u001b[0m\u001b[1;33m\u001b[0m\u001b[0m\n\u001b[0;32m      3\u001b[0m \u001b[1;33m\u001b[0m\u001b[0m\n\u001b[1;32m----> 4\u001b[1;33m \u001b[0mrecurse\u001b[0m\u001b[1;33m(\u001b[0m\u001b[1;33m)\u001b[0m\u001b[1;33m\u001b[0m\u001b[1;33m\u001b[0m\u001b[0m\n\u001b[0m",
      "\u001b[1;32m<ipython-input-22-f7acc4acf4a4>\u001b[0m in \u001b[0;36mrecurse\u001b[1;34m()\u001b[0m\n\u001b[0;32m      1\u001b[0m \u001b[1;32mdef\u001b[0m \u001b[0mrecurse\u001b[0m\u001b[1;33m(\u001b[0m\u001b[1;33m)\u001b[0m\u001b[1;33m:\u001b[0m\u001b[1;33m\u001b[0m\u001b[1;33m\u001b[0m\u001b[0m\n\u001b[1;32m----> 2\u001b[1;33m     \u001b[0mrecurse\u001b[0m\u001b[1;33m(\u001b[0m\u001b[1;33m)\u001b[0m\u001b[1;33m\u001b[0m\u001b[1;33m\u001b[0m\u001b[0m\n\u001b[0m\u001b[0;32m      3\u001b[0m \u001b[1;33m\u001b[0m\u001b[0m\n\u001b[0;32m      4\u001b[0m \u001b[0mrecurse\u001b[0m\u001b[1;33m(\u001b[0m\u001b[1;33m)\u001b[0m\u001b[1;33m\u001b[0m\u001b[1;33m\u001b[0m\u001b[0m\n",
      "... last 1 frames repeated, from the frame below ...\n",
      "\u001b[1;32m<ipython-input-22-f7acc4acf4a4>\u001b[0m in \u001b[0;36mrecurse\u001b[1;34m()\u001b[0m\n\u001b[0;32m      1\u001b[0m \u001b[1;32mdef\u001b[0m \u001b[0mrecurse\u001b[0m\u001b[1;33m(\u001b[0m\u001b[1;33m)\u001b[0m\u001b[1;33m:\u001b[0m\u001b[1;33m\u001b[0m\u001b[1;33m\u001b[0m\u001b[0m\n\u001b[1;32m----> 2\u001b[1;33m     \u001b[0mrecurse\u001b[0m\u001b[1;33m(\u001b[0m\u001b[1;33m)\u001b[0m\u001b[1;33m\u001b[0m\u001b[1;33m\u001b[0m\u001b[0m\n\u001b[0m\u001b[0;32m      3\u001b[0m \u001b[1;33m\u001b[0m\u001b[0m\n\u001b[0;32m      4\u001b[0m \u001b[0mrecurse\u001b[0m\u001b[1;33m(\u001b[0m\u001b[1;33m)\u001b[0m\u001b[1;33m\u001b[0m\u001b[1;33m\u001b[0m\u001b[0m\n",
      "\u001b[1;31mRecursionError\u001b[0m: maximum recursion depth exceeded"
     ]
    }
   ],
   "source": [
    "# Ejemplo sencillo de recursion infinita\n",
    "\n",
    "def recurse():\n",
    "    recurse()\n",
    "\n",
    "recurse()"
   ]
  },
  {
   "cell_type": "code",
   "execution_count": 24,
   "metadata": {},
   "outputs": [
    {
     "name": "stdout",
     "output_type": "stream",
     "text": [
      "-0.4575749056067512\n"
     ]
    }
   ],
   "source": []
  },
  {
   "cell_type": "code",
   "execution_count": 2,
   "metadata": {},
   "outputs": [
    {
     "data": {
      "text/plain": [
       "5.0"
      ]
     },
     "execution_count": 2,
     "metadata": {},
     "output_type": "execute_result"
    }
   ],
   "source": [
    "# Encontrar la distancia entre dos puntos mediante sus coordenadas\n",
    "\n",
    "import math\n",
    "def distance(x1, y1, x2, y2):\n",
    "    dx = x2 - x1\n",
    "    dy = y2 - y1\n",
    "    dsquared = dx**2 + dy**2\n",
    "    result = math.sqrt(dsquared)\n",
    "    return result\n",
    "\n",
    "distance(1,2,4,6)"
   ]
  },
  {
   "cell_type": "code",
   "execution_count": 4,
   "metadata": {},
   "outputs": [
    {
     "data": {
      "text/plain": [
       "True"
      ]
     },
     "execution_count": 4,
     "metadata": {},
     "output_type": "execute_result"
    }
   ],
   "source": [
    "# Ejemplo de funciones booleanas\n",
    "\n",
    "def is_divisible(x, y):\n",
    "    if x % y == 0:\n",
    "        return True\n",
    "    else:\n",
    "        return False\n",
    "\n",
    "is_divisible(10,2)"
   ]
  },
  {
   "cell_type": "code",
   "execution_count": 10,
   "metadata": {},
   "outputs": [
    {
     "data": {
      "text/plain": [
       "55"
      ]
     },
     "execution_count": 10,
     "metadata": {},
     "output_type": "execute_result"
    }
   ],
   "source": [
    "#Otro ejemplo de recursion, calcular factorial de un numero\n",
    "\n",
    "def factorial(n):\n",
    "    if n == 0:\n",
    "        return 1\n",
    "    else:\n",
    "        recurse = factorial(n-1)\n",
    "        result = n * recurse\n",
    "        return result\n",
    "def fibonacci (n):\n",
    "    if n == 0:\n",
    "        return 0\n",
    "    elif n == 1:\n",
    "        return 1\n",
    "    else:\n",
    "        return fibonacci(n-1) + fibonacci(n-2)\n",
    "\n",
    "factorial(3)\n",
    "fibonacci(10)\n"
   ]
  },
  {
   "cell_type": "code",
   "execution_count": 16,
   "metadata": {},
   "outputs": [
    {
     "name": "stdout",
     "output_type": "stream",
     "text": [
      "Factorial is only defined for integers.\n"
     ]
    }
   ],
   "source": [
    "# Factorial con excepciones para indicar que no acepta numero negativos y solo enteros.\n",
    "\n",
    "def factorial (n):\n",
    "    if not isinstance(n, int):\n",
    "        print ('Factorial solo esta definido para enteros.')\n",
    "        return None\n",
    "    elif n < 0:\n",
    "        print ('Factorial no esta definido para negativos.')\n",
    "        return None\n",
    "    elif n == 0:\n",
    "        return 1\n",
    "    else:\n",
    "        return n * factorial(n-1)\n",
    "    \n",
    "factorial()"
   ]
  },
  {
   "cell_type": "code",
   "execution_count": null,
   "metadata": {},
   "outputs": [],
   "source": [
    "pip install flask"
   ]
  },
  {
   "cell_type": "code",
   "execution_count": 10,
   "metadata": {},
   "outputs": [
    {
     "name": "stdout",
     "output_type": "stream",
     "text": [
      "10\n",
      "9\n",
      "8\n",
      "7\n",
      "6\n",
      "5\n",
      "4\n",
      "3\n",
      "2\n",
      "1\n",
      "Blastoff!\n"
     ]
    }
   ],
   "source": [
    "# Cuenta regresiva con ciclo while\n",
    "\n",
    "def countdown(n):\n",
    "    while n > 0:\n",
    "        print (n)\n",
    "        n = n-1\n",
    "    print ('Blastoff!')\n",
    "\n",
    "countdown(10)"
   ]
  },
  {
   "cell_type": "code",
   "execution_count": 8,
   "metadata": {},
   "outputs": [
    {
     "name": "stdout",
     "output_type": "stream",
     "text": [
      "3\n",
      "10\n",
      "5.0\n",
      "16.0\n",
      "8.0\n",
      "4.0\n",
      "2.0\n"
     ]
    }
   ],
   "source": [
    "# Programa que imprimi un numero diferente de 1, lo divide entre 2 para ver si es par, si no seria impar y lo multiplica por 3 y le suma 1.\n",
    "# esto lo hace hasta que llegue a 1\n",
    "\n",
    "def sequence(n):\n",
    "    while n != 1:\n",
    "        print (n),\n",
    "        if n%2 == 0: # n is even\n",
    "            n = n/2\n",
    "        else: # n is odd\n",
    "            n = n*3+1\n",
    "\n",
    "sequence(3)"
   ]
  },
  {
   "cell_type": "code",
   "execution_count": 8,
   "metadata": {},
   "outputs": [
    {
     "ename": "NameError",
     "evalue": "name 'raw_input' is not defined",
     "output_type": "error",
     "traceback": [
      "\u001b[1;31m---------------------------------------------------------------------------\u001b[0m",
      "\u001b[1;31mNameError\u001b[0m                                 Traceback (most recent call last)",
      "\u001b[1;32m<ipython-input-8-769811f6a0e5>\u001b[0m in \u001b[0;36m<module>\u001b[1;34m\u001b[0m\n\u001b[0;32m      1\u001b[0m \u001b[1;32mwhile\u001b[0m \u001b[1;32mTrue\u001b[0m\u001b[1;33m:\u001b[0m\u001b[1;33m\u001b[0m\u001b[1;33m\u001b[0m\u001b[0m\n\u001b[1;32m----> 2\u001b[1;33m     \u001b[0mline\u001b[0m \u001b[1;33m=\u001b[0m \u001b[0mraw_input\u001b[0m\u001b[1;33m(\u001b[0m\u001b[1;34m'> '\u001b[0m\u001b[1;33m)\u001b[0m\u001b[1;33m\u001b[0m\u001b[1;33m\u001b[0m\u001b[0m\n\u001b[0m\u001b[0;32m      3\u001b[0m     \u001b[1;32mif\u001b[0m \u001b[0mline\u001b[0m \u001b[1;33m==\u001b[0m \u001b[1;34m'done'\u001b[0m\u001b[1;33m:\u001b[0m\u001b[1;33m\u001b[0m\u001b[1;33m\u001b[0m\u001b[0m\n\u001b[0;32m      4\u001b[0m         \u001b[1;32mbreak\u001b[0m\u001b[1;33m\u001b[0m\u001b[1;33m\u001b[0m\u001b[0m\n\u001b[0;32m      5\u001b[0m     \u001b[0mprint\u001b[0m \u001b[1;33m(\u001b[0m\u001b[0mline\u001b[0m\u001b[1;33m)\u001b[0m\u001b[1;33m\u001b[0m\u001b[1;33m\u001b[0m\u001b[0m\n",
      "\u001b[1;31mNameError\u001b[0m: name 'raw_input' is not defined"
     ]
    }
   ],
   "source": [
    "while True:\n",
    "    line = raw_input('> ')\n",
    "    if line == 'done':\n",
    "        break\n",
    "    print (line)\n",
    "print ('Done!')"
   ]
  },
  {
   "cell_type": "code",
   "execution_count": 2,
   "metadata": {},
   "outputs": [
    {
     "name": "stdout",
     "output_type": "stream",
     "text": [
      "2.1666666666666665\n"
     ]
    }
   ],
   "source": [
    "# Raices cuadradas\n",
    "# Entre mas se vaya ejecutando el programa, cada vez mas se va acercando al 2 exacto\n",
    "#Primera parte\n",
    "x = 3\n",
    "a = 4\n",
    "y = (x + a/x) / 2\n",
    "print (y)"
   ]
  },
  {
   "cell_type": "code",
   "execution_count": 3,
   "metadata": {},
   "outputs": [
    {
     "name": "stdout",
     "output_type": "stream",
     "text": [
      "2.0064102564102564\n"
     ]
    }
   ],
   "source": [
    "#Segunda parte\n",
    "x = y\n",
    "y = (x + a/x) / 2\n",
    "print(y)"
   ]
  },
  {
   "cell_type": "code",
   "execution_count": 4,
   "metadata": {},
   "outputs": [
    {
     "name": "stdout",
     "output_type": "stream",
     "text": [
      "2.1666666666666665\n",
      "2.0064102564102564\n",
      "2.0000102400262145\n",
      "2.0000000000262146\n",
      "2.0\n"
     ]
    }
   ],
   "source": [
    "#Tercera parte. Simplificado las dos anteriores\n",
    "while True:\n",
    "    print (x)\n",
    "    y = (x + a/x) / 2\n",
    "    if y == x:\n",
    "        break\n",
    "    x = y"
   ]
  },
  {
   "cell_type": "markdown",
   "metadata": {},
   "source": [
    "# Strings"
   ]
  },
  {
   "cell_type": "code",
   "execution_count": 18,
   "metadata": {},
   "outputs": [
    {
     "name": "stdout",
     "output_type": "stream",
     "text": [
      "b\n",
      "a\n",
      "n\n",
      "a\n",
      "n\n",
      "a\n"
     ]
    }
   ],
   "source": [
    "#Imprime cada letra del string, el cual los toma de una array\n",
    "\n",
    "fruit = 'banana'\n",
    "index = 0\n",
    "\n",
    "while index < len(fruit):\n",
    "    letter = fruit[index]\n",
    "    print (letter)\n",
    "    index = index + 1"
   ]
  },
  {
   "cell_type": "code",
   "execution_count": 19,
   "metadata": {},
   "outputs": [
    {
     "name": "stdout",
     "output_type": "stream",
     "text": [
      "b\n",
      "a\n",
      "n\n",
      "a\n",
      "n\n",
      "a\n"
     ]
    }
   ],
   "source": [
    "#Lo mismo que lo anterior pero mas facil :D\n",
    "for char in fruit:\n",
    "    print (char)"
   ]
  },
  {
   "cell_type": "code",
   "execution_count": 42,
   "metadata": {},
   "outputs": [
    {
     "name": "stdout",
     "output_type": "stream",
     "text": [
      "Jack\n",
      "Kack\n",
      "Lack\n",
      "Mack\n",
      "Nack\n",
      "Ouack\n",
      "Oack\n",
      "Pack\n",
      "Qack\n"
     ]
    }
   ],
   "source": [
    "prefixes = 'JKLMNOPQ'\n",
    "suffix = 'ack'\n",
    "ad = 'uack'\n",
    "for letter in prefixes:\n",
    "    print (letter + suffix)\n",
    "    if letter == 'O' and 'Q':\n",
    "        print (letter + ad)"
   ]
  },
  {
   "cell_type": "code",
   "execution_count": 3,
   "metadata": {},
   "outputs": [
    {
     "data": {
      "text/plain": [
       "0"
      ]
     },
     "execution_count": 3,
     "metadata": {},
     "output_type": "execute_result"
    }
   ],
   "source": [
    "word = 'palabra'\n",
    "letter = 'p'\n",
    "def find(word, letter):\n",
    "    index = 0\n",
    "    while index < len(word):\n",
    "        if word[index] == letter:\n",
    "            return index\n",
    "        index = index + 1\n",
    "        return -1\n",
    "find(word,letter)"
   ]
  },
  {
   "cell_type": "code",
   "execution_count": 7,
   "metadata": {},
   "outputs": [
    {
     "name": "stdout",
     "output_type": "stream",
     "text": [
      "3\n"
     ]
    }
   ],
   "source": [
    "#Cuenta la cantidad de veces que aparece la letra a en la palabra banana\n",
    "word = 'banana'\n",
    "count = 0\n",
    "for letter in word:\n",
    "    if letter == 'a':\n",
    "        count = count + 1\n",
    "print (count)"
   ]
  },
  {
   "cell_type": "code",
   "execution_count": 4,
   "metadata": {},
   "outputs": [
    {
     "name": "stdout",
     "output_type": "stream",
     "text": [
      "BANANA banana\n"
     ]
    }
   ],
   "source": [
    "#Convierta el string en mayusculas y minusculas\n",
    "word = 'banana'\n",
    "word1 = word.upper()\n",
    "word2 = word.lower()\n",
    "print (word1, word2)"
   ]
  },
  {
   "cell_type": "code",
   "execution_count": 17,
   "metadata": {},
   "outputs": [
    {
     "name": "stdout",
     "output_type": "stream",
     "text": [
      "1\n"
     ]
    }
   ],
   "source": [
    "#Busca en el string la letra n e indica que posicion se encuentra\n",
    "word = 'banana'\n",
    "index = word.find('a')\n",
    "print (index)"
   ]
  },
  {
   "cell_type": "code",
   "execution_count": 14,
   "metadata": {},
   "outputs": [
    {
     "data": {
      "text/plain": [
       "2"
      ]
     },
     "execution_count": 14,
     "metadata": {},
     "output_type": "execute_result"
    }
   ],
   "source": [
    "#Tambien puede buscar substrings\n",
    "word.find('na')"
   ]
  },
  {
   "cell_type": "code",
   "execution_count": 20,
   "metadata": {},
   "outputs": [
    {
     "data": {
      "text/plain": [
       "4"
      ]
     },
     "execution_count": 20,
     "metadata": {},
     "output_type": "execute_result"
    }
   ],
   "source": [
    "#Puede indicarse como segundo argumento desde que posicion puede empezar a buscar\n",
    "word.find('na', 3)"
   ]
  },
  {
   "cell_type": "code",
   "execution_count": 22,
   "metadata": {},
   "outputs": [
    {
     "data": {
      "text/plain": [
       "3"
      ]
     },
     "execution_count": 22,
     "metadata": {},
     "output_type": "execute_result"
    }
   ],
   "source": [
    "#EL tercer parametro indica en que posicion detenerse en la busqueda, el numero stop no cuenta como busqueda\n",
    "word.find('a', 2, 4)"
   ]
  },
  {
   "cell_type": "code",
   "execution_count": 25,
   "metadata": {},
   "outputs": [
    {
     "data": {
      "text/plain": [
       "2"
      ]
     },
     "execution_count": 25,
     "metadata": {},
     "output_type": "execute_result"
    }
   ],
   "source": [
    "#Ejercicio 8.7. Metodo para contar letras en un string\n",
    "word.count('n')"
   ]
  },
  {
   "cell_type": "code",
   "execution_count": 37,
   "metadata": {},
   "outputs": [
    {
     "name": "stdout",
     "output_type": "stream",
     "text": [
      "a\n",
      "e\n",
      "s\n"
     ]
    }
   ],
   "source": [
    "# El 'in' es un booleano que toma dos strings y retorna True si el primero aparece en el segundo\n",
    "\n",
    "def in_both(word1, word2):\n",
    "    for letter in word1:\n",
    "        if letter in word2:\n",
    "            print (letter)\n",
    "in_both('apples', 'oranges')"
   ]
  },
  {
   "cell_type": "code",
   "execution_count": 42,
   "metadata": {},
   "outputs": [
    {
     "name": "stdout",
     "output_type": "stream",
     "text": [
      "Your word. pineapples, comes after banana.\n"
     ]
    }
   ],
   "source": [
    "#Otras operaciones relacionales son utiles para poner palabras en orden alfabetico\n",
    "#Este no reconoce mayusculas \n",
    "word = 'pineapples'\n",
    "if word < 'banana':\n",
    "    print ('Your word, ' + word + ', comes before banana.')\n",
    "elif word > 'banana':\n",
    "    print ('Your word. ' + word + ', comes after banana.')\n",
    "else:\n",
    "    print ('All right, bananas.')"
   ]
  },
  {
   "cell_type": "code",
   "execution_count": 11,
   "metadata": {},
   "outputs": [
    {
     "name": "stdout",
     "output_type": "stream",
     "text": [
      "0 3\n"
     ]
    },
    {
     "data": {
      "text/plain": [
       "True"
      ]
     },
     "execution_count": 11,
     "metadata": {},
     "output_type": "execute_result"
    }
   ],
   "source": [
    "def is_reverse(word1, word2):\n",
    "    if len(word1) != len(word2):\n",
    "        return False\n",
    "    \n",
    "    i = 0\n",
    "    j = len(word2) -1\n",
    "    \n",
    "    while j > 0:\n",
    "        print (i, j)\n",
    "        if word1[i] != word2[j]:\n",
    "            return False\n",
    "        i = i+1\n",
    "        j = j-1\n",
    "        return True\n",
    "\n",
    "is_reverse('pots', 'stop')"
   ]
  },
  {
   "cell_type": "code",
   "execution_count": 28,
   "metadata": {},
   "outputs": [
    {
     "data": {
      "text/plain": [
       "True"
      ]
     },
     "execution_count": 28,
     "metadata": {},
     "output_type": "execute_result"
    }
   ],
   "source": [
    "#Checa el string y imprime true si esta en minus y false si esta en mayus (por lo menos la primera letra)\n",
    "def any_lowercase1(s):\n",
    "    for c in s:\n",
    "        if c.islower():\n",
    "            return True\n",
    "        else:\n",
    "            return False\n",
    "any_lowercase1('HOLA')"
   ]
  },
  {
   "cell_type": "code",
   "execution_count": 33,
   "metadata": {},
   "outputs": [
    {
     "data": {
      "text/plain": [
       "'True'"
      ]
     },
     "execution_count": 33,
     "metadata": {},
     "output_type": "execute_result"
    }
   ],
   "source": [
    "\n",
    "def any_lowercase2(s):\n",
    "    for c in s:\n",
    "        if 'c'.islower():\n",
    "            return 'True'\n",
    "        else:\n",
    "            return 'False'\n",
    "any_lowercase2('Cola')"
   ]
  },
  {
   "cell_type": "code",
   "execution_count": 29,
   "metadata": {},
   "outputs": [
    {
     "data": {
      "text/plain": [
       "False"
      ]
     },
     "execution_count": 29,
     "metadata": {},
     "output_type": "execute_result"
    }
   ],
   "source": [
    "#Es otra forma de hacer la funcion 1\n",
    "def any_lowercase3(s):\n",
    "    for c in s:\n",
    "        flag = c.islower()\n",
    "        return flag\n",
    "any_lowercase3('String')"
   ]
  },
  {
   "cell_type": "code",
   "execution_count": 35,
   "metadata": {},
   "outputs": [
    {
     "data": {
      "text/plain": [
       "False"
      ]
     },
     "execution_count": 35,
     "metadata": {},
     "output_type": "execute_result"
    }
   ],
   "source": [
    "#Otra ejemplo del 1\n",
    "def any_lowercase4(s):\n",
    "    flag = False\n",
    "    for c in s:\n",
    "        flag = flag or c.islower()\n",
    "        return flag\n",
    "any_lowercase3('STring')"
   ]
  },
  {
   "cell_type": "code",
   "execution_count": 39,
   "metadata": {},
   "outputs": [
    {
     "data": {
      "text/plain": [
       "True"
      ]
     },
     "execution_count": 39,
     "metadata": {},
     "output_type": "execute_result"
    }
   ],
   "source": [
    "#Otro mas\n",
    "def any_lowercase5(s):\n",
    "    for c in s:\n",
    "        if not c.islower():\n",
    "            return False\n",
    "        return True\n",
    "any_lowercase3('sTRING')"
   ]
  },
  {
   "cell_type": "markdown",
   "metadata": {},
   "source": [
    "# Caso de Estudio: Juego de Palabras"
   ]
  },
  {
   "cell_type": "code",
   "execution_count": 2,
   "metadata": {},
   "outputs": [
    {
     "name": "stdout",
     "output_type": "stream",
     "text": [
      "<_io.TextIOWrapper name='words.txt' mode='r' encoding='cp1252'>\n"
     ]
    }
   ],
   "source": [
    "fin = open('words.txt') # Abre un archivo de texto\n",
    "print (fin)"
   ]
  },
  {
   "cell_type": "code",
   "execution_count": 4,
   "metadata": {},
   "outputs": [
    {
     "data": {
      "text/plain": [
       "'aah\\n'"
      ]
     },
     "execution_count": 4,
     "metadata": {},
     "output_type": "execute_result"
    }
   ],
   "source": [
    "fin.readline()"
   ]
  },
  {
   "cell_type": "code",
   "execution_count": null,
   "metadata": {},
   "outputs": [],
   "source": [
    "#Lee el documento y imprime todas las palabras\n",
    "fin = open('words.txt')\n",
    "for line in fin:\n",
    "    word = line.strip()\n",
    "    print (word)"
   ]
  },
  {
   "cell_type": "code",
   "execution_count": 8,
   "metadata": {},
   "outputs": [
    {
     "name": "stdout",
     "output_type": "stream",
     "text": [
      "counterdemonstrations\n",
      "hyperaggressivenesses\n",
      "microminiaturizations\n"
     ]
    }
   ],
   "source": [
    "#Abre el documento, lo lee e imprime solo las palabras con mas de 20 caracteres\n",
    "fin = open('words.txt')\n",
    "for line in fin:\n",
    "    word = line.strip()\n",
    "    if len(word) > 20:\n",
    "        print (word)"
   ]
  },
  {
   "cell_type": "code",
   "execution_count": null,
   "metadata": {},
   "outputs": [],
   "source": [
    "#Funcion que checa si la palabra no contiene la letra e, retorna true o false\n",
    "def has_no_e(word):\n",
    "    for letter in word:\n",
    "        if letter == 'e':\n",
    "            print (word, ' False')\n",
    "        print (word, ' True')\n",
    "\n",
    "fin = open('words.txt')\n",
    "for line in fin:\n",
    "    word = line.strip()\n",
    "    has_no_e(word)"
   ]
  },
  {
   "cell_type": "code",
   "execution_count": 22,
   "metadata": {},
   "outputs": [
    {
     "data": {
      "text/plain": [
       "True"
      ]
     },
     "execution_count": 22,
     "metadata": {},
     "output_type": "execute_result"
    }
   ],
   "source": [
    "def avoids(word, forbidden):\n",
    "    for letter in word:\n",
    "        if letter in forbidden:\n",
    "            return False\n",
    "        return True\n",
    "\n",
    "avoids(word,'a')"
   ]
  },
  {
   "cell_type": "code",
   "execution_count": 36,
   "metadata": {},
   "outputs": [
    {
     "data": {
      "text/plain": [
       "False"
      ]
     },
     "execution_count": 36,
     "metadata": {},
     "output_type": "execute_result"
    }
   ],
   "source": [
    "#Checa si el string esta compuesto por letras\n",
    "def uses_only(word, available):\n",
    "    for letter in word:\n",
    "        if letter not in available:\n",
    "            return False\n",
    "        return True\n",
    "uses_only('hola','ao')"
   ]
  },
  {
   "cell_type": "code",
   "execution_count": 37,
   "metadata": {},
   "outputs": [
    {
     "data": {
      "text/plain": [
       "True"
      ]
     },
     "execution_count": 37,
     "metadata": {},
     "output_type": "execute_result"
    }
   ],
   "source": [
    "def uses_all(word, required):\n",
    "    return uses_only(required, word)\n",
    "uses_all('palabra','a')"
   ]
  },
  {
   "cell_type": "markdown",
   "metadata": {},
   "source": [
    "# Listas"
   ]
  },
  {
   "cell_type": "code",
   "execution_count": 45,
   "metadata": {},
   "outputs": [
    {
     "name": "stdout",
     "output_type": "stream",
     "text": [
      "Cheddar\n",
      "Edam\n",
      "Gouda\n"
     ]
    }
   ],
   "source": [
    "cheeses = ['Cheddar', 'Edam', 'Gouda']\n",
    "for cheese in cheeses:\n",
    "    print (cheese)"
   ]
  },
  {
   "cell_type": "code",
   "execution_count": 47,
   "metadata": {},
   "outputs": [
    {
     "name": "stdout",
     "output_type": "stream",
     "text": [
      "34\n",
      "246\n"
     ]
    }
   ],
   "source": [
    "numbers = [17, 123]\n",
    "for i in range(len(numbers)): #For con rango al numero de elementos de la lista\n",
    "    numbers[i] = numbers[i] * 2\n",
    "for number in numbers:\n",
    "    print (number)"
   ]
  },
  {
   "cell_type": "code",
   "execution_count": 52,
   "metadata": {},
   "outputs": [],
   "source": [
    "#Un for con una lista vacia NUNCA ejecutara el body\n",
    "vacio = []\n",
    "for x in vacio:\n",
    "    print ('This never happens.')"
   ]
  },
  {
   "cell_type": "code",
   "execution_count": 53,
   "metadata": {},
   "outputs": [
    {
     "name": "stdout",
     "output_type": "stream",
     "text": [
      "[1, 2, 3, 4, 5, 6]\n"
     ]
    }
   ],
   "source": [
    "# EL operador + concatena las listas\n",
    "a = [1, 2, 3]\n",
    "b = [4, 5, 6]\n",
    "c = a + b\n",
    "print (c)"
   ]
  },
  {
   "cell_type": "code",
   "execution_count": 54,
   "metadata": {},
   "outputs": [
    {
     "data": {
      "text/plain": [
       "[1, 2, 3, 1, 2, 3, 1, 2, 3]"
      ]
     },
     "execution_count": 54,
     "metadata": {},
     "output_type": "execute_result"
    }
   ],
   "source": [
    "#El operador * multiplica la lista el numero de veces especificada\n",
    "[1, 2, 3] * 3"
   ]
  },
  {
   "cell_type": "code",
   "execution_count": 57,
   "metadata": {},
   "outputs": [
    {
     "data": {
      "text/plain": [
       "['b', 'c']"
      ]
     },
     "execution_count": 57,
     "metadata": {},
     "output_type": "execute_result"
    }
   ],
   "source": [
    "#Los 'slices' se pueden usar en listas, contando el primero pero omitiendo el ultimo\n",
    "# Si omites el primer indice, el slice empieza al inicio, si omites el segundo el slice ira hasta el final.\n",
    "#Si omites ambos el slice es una copia de toda la lista\n",
    "t = ['a', 'b', 'c', 'd', 'e', 'f']\n",
    "    # 0 ,  1,   2,   3,   4,   5 \n",
    "t[1:3]"
   ]
  },
  {
   "cell_type": "code",
   "execution_count": 58,
   "metadata": {},
   "outputs": [
    {
     "name": "stdout",
     "output_type": "stream",
     "text": [
      "['a', 'x', 'y', 'd', 'e', 'f']\n"
     ]
    }
   ],
   "source": [
    "# Los slices son utiles para actualizar listas\n",
    "t = ['a', 'b', 'c', 'd', 'e', 'f']\n",
    "t[1:3] = ['x', 'y']\n",
    "print (t)"
   ]
  },
  {
   "cell_type": "code",
   "execution_count": 61,
   "metadata": {},
   "outputs": [
    {
     "name": "stdout",
     "output_type": "stream",
     "text": [
      "['a', 'b', 'c', 'd']\n"
     ]
    }
   ],
   "source": [
    "#Append agrega un elemento al final de lista, SOLO TOMA 1 ARGUMENTO\n",
    "t = ['a', 'b', 'c']\n",
    "t.append('d')\n",
    "print(t)"
   ]
  },
  {
   "cell_type": "code",
   "execution_count": 65,
   "metadata": {},
   "outputs": [
    {
     "name": "stdout",
     "output_type": "stream",
     "text": [
      "['a', 'b', 'c', 'd', 'e']\n"
     ]
    }
   ],
   "source": [
    "# Extend toma una lista como argumento y agrega todos sus elementos a su lista\n",
    "# Este ejemplo deja a t2 sin modificar\n",
    "t1 = ['a', 'b', 'c']\n",
    "t2 = ['d', 'e']\n",
    "t1.extend(t2)\n",
    "print (t1)"
   ]
  },
  {
   "cell_type": "code",
   "execution_count": 70,
   "metadata": {},
   "outputs": [
    {
     "name": "stdout",
     "output_type": "stream",
     "text": [
      "['a', 'b', 'c', 'd', 'e']\n"
     ]
    }
   ],
   "source": [
    "# Sort ordena las lista alfabeticamente\n",
    "t = ['d', 'c', 'e', 'b', 'a']\n",
    "t.sort()\n",
    "print (t)"
   ]
  },
  {
   "cell_type": "code",
   "execution_count": 76,
   "metadata": {},
   "outputs": [
    {
     "data": {
      "text/plain": [
       "10"
      ]
     },
     "execution_count": 76,
     "metadata": {},
     "output_type": "execute_result"
    }
   ],
   "source": [
    "# sum suma todos los valores de una lista\n",
    "t = [2, 2, 2, 2, 2]\n",
    "sum(t)"
   ]
  },
  {
   "cell_type": "code",
   "execution_count": 130,
   "metadata": {},
   "outputs": [
    {
     "data": {
      "text/plain": [
       "21"
      ]
     },
     "execution_count": 130,
     "metadata": {},
     "output_type": "execute_result"
    }
   ],
   "source": [
    "# Ejercicio 10.1. Funcion que suma todos los elementos de una lista anidada\n",
    "\n",
    "x = [2,[2, 2],[1], 4, [2, 8]]\n",
    "\n",
    "def nested_sum(x):\n",
    "    total = 0\n",
    "    for i in x:\n",
    "        if isinstance(i, list):\n",
    "            total += nested_sum(i)\n",
    "        else:\n",
    "            total += i\n",
    "    return total\n",
    "\n",
    "nested_sum(x)\n",
    "\n",
    "# Otra alternativa\n",
    "def nested_sum2(x):\n",
    "    total = 0\n",
    "    for item in x:\n",
    "        try:\n",
    "            total += item\n",
    "        except TypeError:\n",
    "            total +=nested_sum(item)\n",
    "    return total\n",
    "nested_sum2(x)"
   ]
  },
  {
   "cell_type": "code",
   "execution_count": 89,
   "metadata": {},
   "outputs": [
    {
     "data": {
      "text/plain": [
       "['Hola', 'Mundo', 'Soy', 'Chris']"
      ]
     },
     "execution_count": 89,
     "metadata": {},
     "output_type": "execute_result"
    }
   ],
   "source": [
    "# Funcion que pone en mayusculas todos los strings (primera letra), de una lista a otra\n",
    "t = ['hola', 'mundo', 'soy', 'Chris']\n",
    "def capitalize_all(t):\n",
    "    res = []\n",
    "    for s in t:\n",
    "        res.append(s.capitalize())\n",
    "    return res\n",
    "capitalize_all(t)"
   ]
  },
  {
   "cell_type": "code",
   "execution_count": 3,
   "metadata": {},
   "outputs": [
    {
     "data": {
      "text/plain": [
       "['E', 'J', 'E', 'M', 'P', 'L', 'O']"
      ]
     },
     "execution_count": 3,
     "metadata": {},
     "output_type": "execute_result"
    }
   ],
   "source": [
    "# isUpper es un metodo string que retorna true solo si el string contiene letras mayus\n",
    "t = 'EJEMPLO'\n",
    "def only_upper(t):\n",
    "    res = []\n",
    "    for s in t:\n",
    "        if s.isupper():\n",
    "            res.append(s)\n",
    "    return res\n",
    "only_upper(t)"
   ]
  },
  {
   "cell_type": "code",
   "execution_count": 131,
   "metadata": {},
   "outputs": [
    {
     "ename": "IndexError",
     "evalue": "list index out of range",
     "output_type": "error",
     "traceback": [
      "\u001b[1;31m---------------------------------------------------------------------------\u001b[0m",
      "\u001b[1;31mIndexError\u001b[0m                                Traceback (most recent call last)",
      "\u001b[1;32m<ipython-input-131-80e7c9824303>\u001b[0m in \u001b[0;36m<module>\u001b[1;34m\u001b[0m\n\u001b[0;32m      3\u001b[0m \u001b[1;33m\u001b[0m\u001b[0m\n\u001b[0;32m      4\u001b[0m \u001b[1;32mfor\u001b[0m \u001b[0mi\u001b[0m \u001b[1;32min\u001b[0m \u001b[0mrange\u001b[0m \u001b[1;33m(\u001b[0m\u001b[0mlen\u001b[0m\u001b[1;33m(\u001b[0m\u001b[0mx\u001b[0m\u001b[1;33m)\u001b[0m\u001b[1;33m)\u001b[0m\u001b[1;33m:\u001b[0m\u001b[1;33m\u001b[0m\u001b[1;33m\u001b[0m\u001b[0m\n\u001b[1;32m----> 5\u001b[1;33m     \u001b[0mx\u001b[0m\u001b[1;33m[\u001b[0m\u001b[0mi\u001b[0m\u001b[1;33m]\u001b[0m \u001b[1;33m=\u001b[0m \u001b[0mx\u001b[0m\u001b[1;33m[\u001b[0m\u001b[0mi\u001b[0m\u001b[1;33m]\u001b[0m \u001b[1;33m+\u001b[0m \u001b[0mx\u001b[0m\u001b[1;33m[\u001b[0m\u001b[0mi\u001b[0m\u001b[1;33m+\u001b[0m\u001b[1;36m1\u001b[0m\u001b[1;33m]\u001b[0m\u001b[1;33m\u001b[0m\u001b[1;33m\u001b[0m\u001b[0m\n\u001b[0m\u001b[0;32m      6\u001b[0m \u001b[1;33m\u001b[0m\u001b[0m\n\u001b[0;32m      7\u001b[0m \u001b[0mprint\u001b[0m\u001b[1;33m(\u001b[0m\u001b[0mx\u001b[0m\u001b[1;33m)\u001b[0m\u001b[1;33m\u001b[0m\u001b[1;33m\u001b[0m\u001b[0m\n",
      "\u001b[1;31mIndexError\u001b[0m: list index out of range"
     ]
    }
   ],
   "source": [
    "# Ejercicio 10.3\n",
    "x = [1,2,3]  # [1,3,6]\n",
    "\n",
    "for i in range (len(x)):\n",
    "    x[i] = x[i] + x[i+1]\n",
    "\n",
    "print(x)\n",
    "\n",
    "#x[1] = x[0] + x[1]\n",
    "#x[2] = x[1] + x[2]"
   ]
  },
  {
   "cell_type": "markdown",
   "metadata": {},
   "source": [
    "## Borrar elementos"
   ]
  },
  {
   "cell_type": "code",
   "execution_count": 80,
   "metadata": {},
   "outputs": [
    {
     "name": "stdout",
     "output_type": "stream",
     "text": [
      "['a', 'c']\n",
      "b\n"
     ]
    }
   ],
   "source": [
    "# pop sirve para remover un elemento si se conoce el numero de index y se puede guardar en otro lado\n",
    "\n",
    "t = ['a', 'b', 'c']\n",
    "x = t.pop(1)\n",
    "print (t)\n",
    "print (x)"
   ]
  },
  {
   "cell_type": "code",
   "execution_count": 93,
   "metadata": {},
   "outputs": [
    {
     "name": "stdout",
     "output_type": "stream",
     "text": [
      "['a', 'c']\n"
     ]
    }
   ],
   "source": [
    "# Si no necesita el elemento lo puede eliminar con del\n",
    "t = ['a', 'b', 'c']\n",
    "del t[1]\n",
    "print (t)"
   ]
  },
  {
   "cell_type": "code",
   "execution_count": 94,
   "metadata": {},
   "outputs": [
    {
     "name": "stdout",
     "output_type": "stream",
     "text": [
      "['a', 'c']\n"
     ]
    }
   ],
   "source": [
    "# Si no conoce el numero de index pero conoce el elemento, puede usar remove\n",
    "\n",
    "t = ['a', 'b', 'c']\n",
    "t.remove('b')\n",
    "print (t)"
   ]
  },
  {
   "cell_type": "code",
   "execution_count": 95,
   "metadata": {},
   "outputs": [
    {
     "name": "stdout",
     "output_type": "stream",
     "text": [
      "['a', 'f']\n"
     ]
    }
   ],
   "source": [
    "# Puede remover mas de un elemento con el slice\n",
    "\n",
    "t = ['a', 'b', 'c', 'd', 'e', 'f']\n",
    "del t[1:5]\n",
    "print (t)"
   ]
  },
  {
   "cell_type": "code",
   "execution_count": 126,
   "metadata": {},
   "outputs": [
    {
     "name": "stdout",
     "output_type": "stream",
     "text": [
      "[2, 3, 4, 5, 6, 8, 8]\n"
     ]
    }
   ],
   "source": [
    "#Ejercicio 10.4. ELimina el primer y ultimo elemento de la lista dada\n",
    "\n",
    "def middle(lista):\n",
    "    del lista[0] \n",
    "    lista.pop()\n",
    "    print (lista)\n",
    "\n",
    "middle([1,2,3,4,5,6,8,8,10])"
   ]
  },
  {
   "cell_type": "markdown",
   "metadata": {},
   "source": [
    "## Listas y Strings"
   ]
  },
  {
   "cell_type": "code",
   "execution_count": 114,
   "metadata": {},
   "outputs": [
    {
     "name": "stdout",
     "output_type": "stream",
     "text": [
      "['s', 'p', 'a', 'm']\n"
     ]
    }
   ],
   "source": [
    "# Se puede convertir un string a una lista de caracteres individuales con list\n",
    "s = 'spam'\n",
    "t = list(s)\n",
    "print (t)"
   ]
  },
  {
   "cell_type": "code",
   "execution_count": 115,
   "metadata": {},
   "outputs": [
    {
     "name": "stdout",
     "output_type": "stream",
     "text": [
      "['pining', 'for', 'the', 'fjords']\n"
     ]
    }
   ],
   "source": [
    "# Si quieres dividir el string en palabras se puede usar split\n",
    "\n",
    "s = 'pining for the fjords'\n",
    "t = s.split()\n",
    "print (t)"
   ]
  },
  {
   "cell_type": "code",
   "execution_count": 117,
   "metadata": {},
   "outputs": [
    {
     "data": {
      "text/plain": [
       "['spam', 'spam', 'spam']"
      ]
     },
     "execution_count": 117,
     "metadata": {},
     "output_type": "execute_result"
    }
   ],
   "source": [
    "# Delimiter especifica que carater puede usarse como palabra limite\n",
    "# Como el siguiente usa el guion\n",
    "\n",
    "s = 'spam-spam-spam'\n",
    "delimiter = '-'\n",
    "s.split(delimiter)"
   ]
  },
  {
   "cell_type": "code",
   "execution_count": 121,
   "metadata": {},
   "outputs": [
    {
     "data": {
      "text/plain": [
       "'pining for the fjords'"
      ]
     },
     "execution_count": 121,
     "metadata": {},
     "output_type": "execute_result"
    }
   ],
   "source": [
    "# join es la inversa de split. Toma una lista de strings y concatena los elementos. \n",
    "# join es un metodo string, solo tienes que invocarlo en el delimiter y pasar la lista como parametro.\n",
    "\n",
    "t = ['pining', 'for', 'the', 'fjords']\n",
    "delimiter = ' '\n",
    "delimiter.join(t)\n",
    "\n",
    "# En este caso el delimiter es un 'espacio', join pone un espacio entre palabras para concatenar strings sin espacios, puedes usar el string vacio '' como delimiter"
   ]
  },
  {
   "cell_type": "markdown",
   "metadata": {},
   "source": [
    "### Objetos, valores, alias y argumentos de listas"
   ]
  },
  {
   "cell_type": "code",
   "execution_count": 3,
   "metadata": {},
   "outputs": [
    {
     "name": "stdout",
     "output_type": "stream",
     "text": [
      "True\n",
      "False\n"
     ]
    }
   ],
   "source": [
    "# Se pueden referir dos objetos a un mismo valor o en otro caso se refieren al mismo caso\n",
    "a = 'banana'\n",
    "b = 'banana' #In this example, Python only created one string object, and both a and b refer to it.\n",
    "\n",
    "x = [1, 2, 3]\n",
    "y = [1, 2, 3] #But when you create two lists, you get two objects:\n",
    "\n",
    "print(a is b)\n",
    "print(x is y)"
   ]
  },
  {
   "cell_type": "code",
   "execution_count": 4,
   "metadata": {},
   "outputs": [
    {
     "data": {
      "text/plain": [
       "True"
      ]
     },
     "execution_count": 4,
     "metadata": {},
     "output_type": "execute_result"
    }
   ],
   "source": [
    "# An object with more than one reference has more than one name, so we say that the object is aliased. (ALIAS)\n",
    "a = [1,2,3]\n",
    "b = a\n",
    "\n",
    "a is b "
   ]
  },
  {
   "cell_type": "code",
   "execution_count": 5,
   "metadata": {},
   "outputs": [
    {
     "name": "stdout",
     "output_type": "stream",
     "text": [
      "[17, 2, 3]\n"
     ]
    }
   ],
   "source": [
    "# Si el objeto alias es mutable, cambios hechos con un alias tiene efecto sobre el otro: \n",
    "b[0] = 17\n",
    "print (a)"
   ]
  },
  {
   "cell_type": "code",
   "execution_count": 6,
   "metadata": {},
   "outputs": [
    {
     "name": "stdout",
     "output_type": "stream",
     "text": [
      "['b', 'c']\n"
     ]
    }
   ],
   "source": [
    "def delete_head(t):\n",
    "    del t[0]\n",
    "    \n",
    "letters = ['a', 'b', 'c']\n",
    "delete_head(letters)\n",
    "print (letters)"
   ]
  },
  {
   "cell_type": "code",
   "execution_count": 9,
   "metadata": {},
   "outputs": [
    {
     "name": "stdout",
     "output_type": "stream",
     "text": [
      "[1, 2, 3]\n",
      "None\n",
      "[1, 2, 3, 4]\n"
     ]
    }
   ],
   "source": [
    "# EL metodo append modifica una lista, pero el operador + crea una nueva lista\n",
    "t1 = [1, 2]\n",
    "t2 = t1.append(3) # Esta variable retorna un valor None porque esta vacia\n",
    "print (t1)\n",
    "print (t2) \n",
    "t3 = t1 + [4] # Esta variable crea una nueva lista \n",
    "print (t3)"
   ]
  },
  {
   "cell_type": "code",
   "execution_count": 11,
   "metadata": {},
   "outputs": [
    {
     "name": "stdout",
     "output_type": "stream",
     "text": [
      "['b', 'c']\n",
      "['a', 'b', 'c']\n"
     ]
    }
   ],
   "source": [
    "# Esta funcion muestra todos los valores de la lista pero NO modifica la original\n",
    "def tail(t):\n",
    "    return t[1:]\n",
    "letters = ['a', 'b', 'c']\n",
    "rest = tail(letters)\n",
    "print (rest)\n",
    "print (letters)"
   ]
  },
  {
   "cell_type": "markdown",
   "metadata": {},
   "source": [
    "## Errores de listas"
   ]
  },
  {
   "cell_type": "code",
   "execution_count": 20,
   "metadata": {},
   "outputs": [
    {
     "name": "stdout",
     "output_type": "stream",
     "text": [
      "[1, 2, 3, 1, 2, 3]\n"
     ]
    }
   ],
   "source": [
    "t = [1,2,3]\n",
    "t = t.sort() # WRONG! porque la proxima vez que se mande llamar a t dara None\n",
    "t.append([x]) # WRONG! [1, 2, 3, [[1, 2, 3]]]\n",
    "t = t.append(x) # WRONG! Resultado None\n",
    "t + [x] # WRONG!\n",
    "t = t + x # WRONG!\n",
    "print (t)"
   ]
  },
  {
   "cell_type": "markdown",
   "metadata": {},
   "source": [
    "# Diccionarios"
   ]
  },
  {
   "cell_type": "code",
   "execution_count": 1,
   "metadata": {},
   "outputs": [
    {
     "name": "stdout",
     "output_type": "stream",
     "text": [
      "{}\n"
     ]
    }
   ],
   "source": [
    "# Se usa Dict para crear un diccionario, podemos evitar utilizar el metodo a cada rato asignandolo a una variable\n",
    "# Los corchetes vacios indica que el diccionario esta vacio\n",
    "eng2sp = dict()\n",
    "print (eng2sp)"
   ]
  },
  {
   "cell_type": "code",
   "execution_count": 2,
   "metadata": {},
   "outputs": [
    {
     "name": "stdout",
     "output_type": "stream",
     "text": [
      "{'one': 'uno'}\n"
     ]
    }
   ],
   "source": [
    "# Para agregar una key y su value al diccionario usamos:\n",
    "eng2sp['one'] = 'uno'\n",
    "print(eng2sp)"
   ]
  },
  {
   "cell_type": "code",
   "execution_count": 15,
   "metadata": {},
   "outputs": [
    {
     "name": "stdout",
     "output_type": "stream",
     "text": [
      "{'one': 'uno', 'two': 'dos', 'three': 'tres'}\n"
     ]
    }
   ],
   "source": [
    "# Podemos agregar mas de una key-value\n",
    "eng2sp = {'one': 'uno', 'two': 'dos', 'three': 'tres'}\n",
    "print(eng2sp)"
   ]
  },
  {
   "cell_type": "code",
   "execution_count": 16,
   "metadata": {},
   "outputs": [
    {
     "ename": "KeyError",
     "evalue": "'four'",
     "output_type": "error",
     "traceback": [
      "\u001b[1;31m---------------------------------------------------------------------------\u001b[0m",
      "\u001b[1;31mKeyError\u001b[0m                                  Traceback (most recent call last)",
      "\u001b[1;32m<ipython-input-16-a6a9e0b724ac>\u001b[0m in \u001b[0;36m<module>\u001b[1;34m\u001b[0m\n\u001b[0;32m      1\u001b[0m \u001b[1;31m# Si tratamos de buscar una llave-valor que no esta aparece una excepcion\u001b[0m\u001b[1;33m\u001b[0m\u001b[1;33m\u001b[0m\u001b[1;33m\u001b[0m\u001b[0m\n\u001b[1;32m----> 2\u001b[1;33m \u001b[0mprint\u001b[0m\u001b[1;33m(\u001b[0m\u001b[0meng2sp\u001b[0m\u001b[1;33m[\u001b[0m\u001b[1;34m'four'\u001b[0m\u001b[1;33m]\u001b[0m\u001b[1;33m)\u001b[0m\u001b[1;33m\u001b[0m\u001b[1;33m\u001b[0m\u001b[0m\n\u001b[0m",
      "\u001b[1;31mKeyError\u001b[0m: 'four'"
     ]
    }
   ],
   "source": [
    "# Si tratamos de buscar una key-value que no esta aparece una excepcion\n",
    "print(eng2sp['four'])"
   ]
  },
  {
   "cell_type": "code",
   "execution_count": 19,
   "metadata": {},
   "outputs": [
    {
     "name": "stdout",
     "output_type": "stream",
     "text": [
      "3\n",
      "True\n",
      "False\n"
     ]
    }
   ],
   "source": [
    "print (len(eng2sp)) # La funcion len tambein se aplica a diccionarios\n",
    "print ('one' in eng2sp) # El operador in sirve en diccionarios para ver algo dentro de las keys\n",
    "print ('uno' in eng2sp) # Pero no funciona para los values"
   ]
  },
  {
   "cell_type": "code",
   "execution_count": 20,
   "metadata": {},
   "outputs": [
    {
     "data": {
      "text/plain": [
       "True"
      ]
     },
     "execution_count": 20,
     "metadata": {},
     "output_type": "execute_result"
    }
   ],
   "source": [
    "# Para ver que algo aparece como valor en un diccionario, puedes usar el metodo values, el cual regresa los valores como una lista, y usa el operador in:\n",
    "vals = eng2sp.values()\n",
    "'uno' in vals"
   ]
  },
  {
   "cell_type": "code",
   "execution_count": null,
   "metadata": {},
   "outputs": [],
   "source": [
    "# Programa que agrega todas las palabras del archivo words.txt a un diccionario. \n",
    "# Agregando como llave las palabras y como valores numeros\n",
    "dixi = dict()\n",
    "fin = open('words.txt')\n",
    "    \n",
    "def diccionario():\n",
    "    i = 1    \n",
    "    for line in fin:\n",
    "        word = line.strip()\n",
    "        dixi[word] = i\n",
    "        i += 1\n",
    "    print(dixi)\n",
    "\n",
    "diccionario()\n",
    "#'zymurgy' in dixi\n"
   ]
  },
  {
   "cell_type": "code",
   "execution_count": 3,
   "metadata": {},
   "outputs": [
    {
     "name": "stdout",
     "output_type": "stream",
     "text": [
      "{'b': 1, 'r': 2, 'o': 2, 'n': 1, 't': 1, 's': 2, 'a': 1, 'u': 2}\n"
     ]
    }
   ],
   "source": [
    "# Dictionary as a set of counters\n",
    "# Programa que a un string dado cuente la cantidad de veces que aparece cada letra.\n",
    "\n",
    "def histogram(palabra):\n",
    "    diccionario = dict()\n",
    "    for caracter in palabra:\n",
    "        if caracter not in diccionario:\n",
    "            diccionario[caracter] = 1\n",
    "        else:\n",
    "            diccionario[caracter] += 1\n",
    "    return diccionario\n",
    "\n",
    "h = histogram('brontosaurus')\n",
    "print (h)"
   ]
  },
  {
   "cell_type": "code",
   "execution_count": 4,
   "metadata": {},
   "outputs": [
    {
     "name": "stdout",
     "output_type": "stream",
     "text": [
      "{'a': 1}\n",
      "1\n",
      "0\n"
     ]
    }
   ],
   "source": [
    "# get toma una key y un value por default. Si la key aparece en el diccionario, get retorna el valor correspondiente, si no retorna el valor por default\n",
    "h = histogram('a')\n",
    "print (h) #Imprime el histograma\n",
    "print (h.get('a', 0)) # Imprime el value de a que en este caso es 1\n",
    "print (h.get('b', 0)) # Imprime cero porque b no esta en el diccionario, y el valor por default es 0"
   ]
  },
  {
   "cell_type": "code",
   "execution_count": 13,
   "metadata": {},
   "outputs": [
    {
     "name": "stdout",
     "output_type": "stream",
     "text": [
      "p 1\n",
      "a 1\n",
      "r 2\n",
      "o 1\n",
      "t 1\n"
     ]
    }
   ],
   "source": [
    "# Looping and dictionaries\n",
    "# Si usas un diccionario en un for este transversa las keys del diccionario. Por ejemplo, la siguiente funcion imprime cada key y su value correspondiente\n",
    "# Imprime el diccionario de histogram en columnas\n",
    "def print_hist(h):\n",
    "    for c in h:\n",
    "        print (c, h[c])\n",
    "        \n",
    "h = histogram('parrot')\n",
    "#print(h)\n",
    "print_hist(h)"
   ]
  },
  {
   "cell_type": "code",
   "execution_count": 17,
   "metadata": {},
   "outputs": [
    {
     "name": "stdout",
     "output_type": "stream",
     "text": [
      "r\n"
     ]
    }
   ],
   "source": [
    "# Reverse lookup\n",
    "# Es facil buscar un value mediante una key, pero para buscar una key mediante un value no\n",
    "# Esta es una funcion para busqueda que toma un value y retorna la primera key que mapeo a ese value:\n",
    "\n",
    "def reverse_lookup(d, v):\n",
    "    for k in d:\n",
    "        if d[k] == v:\n",
    "            return k\n",
    "    raise ValueError\n",
    "        \n",
    "h = histogram('parrot')\n",
    "k = reverse_lookup(h, 2)   # Este es un caso exitoso, ya que la r aparece con un value de 2 \n",
    "print (k)\n",
    "# k = reverse_lookup(h, 3) # Este es un caso fallido, ya que no hay ninguna key que tenga un valor de 3\n",
    "# print(k)"
   ]
  },
  {
   "cell_type": "code",
   "execution_count": 25,
   "metadata": {},
   "outputs": [
    {
     "name": "stdout",
     "output_type": "stream",
     "text": [
      "{'p': 1, 'a': 1, 'r': 2, 'o': 1, 't': 1}\n",
      "{1: ['p', 'a', 'o', 't'], 2: ['r']}\n"
     ]
    }
   ],
   "source": [
    "# Dictionaries and lists\n",
    "# Las listas pueden aparecer en un diccionario, la siguiente funcion invierte los valores en un diccionario como keys y las keys como values:\n",
    "# las listas pueden aparecer en un diccionario como values pero NUNCA como keys.\n",
    "\n",
    "def invert_dict(d):\n",
    "    inverse = dict()\n",
    "    for key in d:\n",
    "        val = d[key]\n",
    "        if val not in inverse:\n",
    "            inverse[val] = [key]\n",
    "        else:\n",
    "            inverse[val].append(key)\n",
    "    return inverse\n",
    "\n",
    "hist = histogram('parrot')\n",
    "print (hist)\n",
    "inverse = invert_dict(hist) #Los caracteres que solo aparecen una vez lo agrega a su lista correspondiente, asi como pasa con los que aparecen 2 veces\n",
    "print (inverse)"
   ]
  },
  {
   "cell_type": "code",
   "execution_count": 4,
   "metadata": {},
   "outputs": [
    {
     "data": {
      "text/plain": [
       "3"
      ]
     },
     "execution_count": 4,
     "metadata": {},
     "output_type": "execute_result"
    }
   ],
   "source": [
    "# MEMOS \n",
    "# Una solucion para llevar la cuenta de los valores que ya han sido computados se puede guardar en un diccionario.\n",
    "# Un valor previamente computado que esta guardado para usarlo despues es conocido como memo.\n",
    "\n",
    "known = {0:0, 1:1}\n",
    "\n",
    "def fibonacci(n):\n",
    "    if n in known:\n",
    "        return known[n]\n",
    "    res = fibonacci(n-1) + fibonacci(n-2)\n",
    "    known[n] = res\n",
    "    return res\n",
    "fibonacci(4)"
   ]
  },
  {
   "cell_type": "code",
   "execution_count": 31,
   "metadata": {},
   "outputs": [],
   "source": [
    "# Variables Globales\n",
    "\n",
    "# Ejemplo sencillo de un flag\n",
    "verbose = True\n",
    "def example1():\n",
    "    if verbose:\n",
    "        print ('Running example1')\n",
    "example1()"
   ]
  },
  {
   "cell_type": "code",
   "execution_count": 35,
   "metadata": {},
   "outputs": [
    {
     "name": "stdout",
     "output_type": "stream",
     "text": [
      "True\n",
      "False\n"
     ]
    }
   ],
   "source": [
    "# El siguiente ejemplo se supone que se trata de cambiar el flag pero no lo hace porque el example2 crea una variable local nueva llamada been_called.\n",
    "# La varible local se \"va\" cuando la funcion termina, y no tiene efecto en la variable global.\n",
    "\n",
    "been_called = False\n",
    "def example2():\n",
    "    been_called = True\n",
    "    print(been_called)\n",
    "example2()\n",
    "print(been_called)"
   ]
  },
  {
   "cell_type": "code",
   "execution_count": 1,
   "metadata": {},
   "outputs": [],
   "source": [
    "# Para reasignar una variable global dentro de una funcion tienes que declarar la variable global antes de usarla:\n",
    "\n",
    "been_called = False\n",
    "def example2():\n",
    "    global been_called\n",
    "    been_called = True\n",
    "\n",
    "# El estado global le dice al interprete algo asi como \"En esta funcion, cuando digo been_called, me refiero a la variable global, no crees una nueva\""
   ]
  },
  {
   "cell_type": "markdown",
   "metadata": {},
   "source": [
    "# Tuplas"
   ]
  },
  {
   "cell_type": "code",
   "execution_count": 10,
   "metadata": {},
   "outputs": [
    {
     "name": "stdout",
     "output_type": "stream",
     "text": [
      "<class 'tuple'>\n",
      "()\n",
      "('l', 'u', 'p', 'i', 'n', 's')\n"
     ]
    }
   ],
   "source": [
    "# Es una secuencia de valores. los valores pueden ser de cualquier tipo, y son indexados por integers, parecidos a las listas. La diferencia es que son INMUTABLES.\n",
    "\n",
    "t = ('a', 'b', 'c', 'd', 'e')\n",
    "print(type(t)) # Tipo tupla\n",
    "tupla = tuple() # Otra forma de crear una tupla, esta es vacia\n",
    "print (tupla)\n",
    "ejemplo = tuple('lupins') # Si el argumento es una secuencia(string, list o tupla), el resultado es una tupla con elementos de la secuencia:\n",
    "print (ejemplo)"
   ]
  },
  {
   "cell_type": "code",
   "execution_count": 17,
   "metadata": {},
   "outputs": [
    {
     "name": "stdout",
     "output_type": "stream",
     "text": [
      "a\n",
      "('b', 'c')\n",
      "('A', 'b', 'c', 'd', 'e')\n"
     ]
    }
   ],
   "source": [
    "# Los operadores para las listas aplican tambien para las tuplas\n",
    "t = ('a', 'b', 'c', 'd', 'e')\n",
    "print (t[0]) # Mostrar el valor de un indice\n",
    "print (t[1:3]) # Mostrar un slice\n",
    "#t[0] = 'A' # Pero si tratas de modificar una tupla, sale el siguiente error\n",
    "t = ('A',) + t[1:] # No puedes modificar pero pues reemplazar una tupla con otra\n",
    "print (t)"
   ]
  },
  {
   "cell_type": "markdown",
   "metadata": {},
   "source": [
    "### Asignamiento de Tuplas"
   ]
  },
  {
   "cell_type": "markdown",
   "metadata": {},
   "source": [
    "Para crear una variable temporal intercambiando los valores de las variables\n",
    "\n",
    "a, b = b, a  --EL lado izquierdo es una tupla de variables, el derecho una tupla de expresiones. Cada valor es asignado a su respectiva variable. Todas las \n",
    "expresiones del lado derecho es evaluado antes de asignar."
   ]
  },
  {
   "cell_type": "code",
   "execution_count": 19,
   "metadata": {},
   "outputs": [
    {
     "ename": "ValueError",
     "evalue": "too many values to unpack (expected 2)",
     "output_type": "error",
     "traceback": [
      "\u001b[1;31m---------------------------------------------------------------------------\u001b[0m",
      "\u001b[1;31mValueError\u001b[0m                                Traceback (most recent call last)",
      "\u001b[1;32m<ipython-input-19-8904fd2ea925>\u001b[0m in \u001b[0;36m<module>\u001b[1;34m\u001b[0m\n\u001b[1;32m----> 1\u001b[1;33m \u001b[0ma\u001b[0m\u001b[1;33m,\u001b[0m \u001b[0mb\u001b[0m \u001b[1;33m=\u001b[0m \u001b[1;36m1\u001b[0m\u001b[1;33m,\u001b[0m \u001b[1;36m2\u001b[0m\u001b[1;33m,\u001b[0m \u001b[1;36m3\u001b[0m\u001b[1;33m\u001b[0m\u001b[1;33m\u001b[0m\u001b[0m\n\u001b[0m",
      "\u001b[1;31mValueError\u001b[0m: too many values to unpack (expected 2)"
     ]
    }
   ],
   "source": [
    "a, b = 1, 2, 3 # El numero de variables del izquierdo y del derecho deben de ser el mismo"
   ]
  },
  {
   "cell_type": "code",
   "execution_count": 22,
   "metadata": {},
   "outputs": [
    {
     "name": "stdout",
     "output_type": "stream",
     "text": [
      "monty\n",
      "python.org\n"
     ]
    }
   ],
   "source": [
    "# Ejemplo de division de nombre de usuario y dominio\n",
    "addr = 'monty@python.org'\n",
    "uname, domain = addr.split('@')\n",
    "print(uname)\n",
    "print(domain)"
   ]
  },
  {
   "cell_type": "markdown",
   "metadata": {},
   "source": [
    "### Tuplas como retorno de valores"
   ]
  },
  {
   "cell_type": "code",
   "execution_count": 24,
   "metadata": {},
   "outputs": [
    {
     "name": "stdout",
     "output_type": "stream",
     "text": [
      "(2, 1)\n",
      "2\n",
      "1\n"
     ]
    }
   ],
   "source": [
    "# Una funcion solo retorna un valor, pero una tupla puede dar el efecto de retornar multiples resultados\n",
    "# La funcion divmod toma dos argumentos y retorna una tupla de dos valores, el coeficiente y el remanente. Puedes guardar el resultado como una tupla:\n",
    "\n",
    "t = divmod(7, 3)\n",
    "print (t)\n",
    "\n",
    "# O puedes usar el asignamiento de tuplas para guardarlos de forma separada\n",
    "quot, rem = divmod(7, 3)\n",
    "print (quot)\n",
    "print (rem)"
   ]
  },
  {
   "cell_type": "code",
   "execution_count": 28,
   "metadata": {},
   "outputs": [
    {
     "data": {
      "text/plain": [
       "(3, 49)"
      ]
     },
     "execution_count": 28,
     "metadata": {},
     "output_type": "execute_result"
    }
   ],
   "source": [
    "# Ejemplo de una funcion que usa tuplas, retorna el valor minimo y el maximo de una tupla\n",
    "t = (13,24,3,49,48)\n",
    "def min_max(t):\n",
    "    return min(t), max(t)\n",
    "min_max(t)"
   ]
  },
  {
   "cell_type": "markdown",
   "metadata": {},
   "source": [
    "### Variable-length argument tuples"
   ]
  },
  {
   "cell_type": "code",
   "execution_count": 30,
   "metadata": {},
   "outputs": [
    {
     "name": "stdout",
     "output_type": "stream",
     "text": [
      "(1, 2.0, '3')\n"
     ]
    }
   ],
   "source": [
    "# Un nombre de parametro que empieza con * reune argumentos en una tupla\n",
    "# Ejemplo, printall toma cualquier numero de argumentos y los imprime:\n",
    "\n",
    "def printall(*args): # El paremetro puede tomar cualquier nombre, pero args es mas comun\n",
    "    print (args)\n",
    "\n",
    "printall(1, 2.0, '3')"
   ]
  },
  {
   "cell_type": "code",
   "execution_count": 32,
   "metadata": {},
   "outputs": [
    {
     "data": {
      "text/plain": [
       "(2, 1)"
      ]
     },
     "execution_count": 32,
     "metadata": {},
     "output_type": "execute_result"
    }
   ],
   "source": [
    "# Otro complemento es la dispersion, si tienes una secuencia de valores y quieres pasarlas a una funcion como multiples argumentos, puedes usar el operador *.\n",
    "# Ejemplo, divmod toma exactamente dos argumentos, no trabaja con una tupla:\n",
    "t = (7, 3)\n",
    "#divmod(t) # Aqui solo esta tomando 1 argumento ERROR\n",
    "divmod(*t) # Pero si dispersionamos la tupla funciona ya que la tupla tiene 2 valores"
   ]
  },
  {
   "cell_type": "code",
   "execution_count": 89,
   "metadata": {},
   "outputs": [
    {
     "name": "stdout",
     "output_type": "stream",
     "text": [
      "327\n"
     ]
    }
   ],
   "source": [
    "# Funcion que toma cualquier numero de argumentos y los suma\n",
    "\n",
    "def sum_all(*args):\n",
    "    lista = []\n",
    "    for i in range(len(args)):\n",
    "        lista.append(args[i]) \n",
    "    print(sum(lista))\n",
    "\n",
    "sum_all(1,2,3,5,7,34,242,33)"
   ]
  },
  {
   "cell_type": "code",
   "execution_count": 5,
   "metadata": {},
   "outputs": [
    {
     "data": {
      "text/plain": [
       "<zip at 0x14da263fe88>"
      ]
     },
     "execution_count": 5,
     "metadata": {},
     "output_type": "execute_result"
    }
   ],
   "source": [
    "# La funcion zip los \"zipea\" en una lista de tuplas donde cada tupla contiene un elemento para cada secuencia. \n",
    "# Zip retorna un iterador de tuplas pero para mas propositos un iterador se comporta como una LISTA\n",
    "\n",
    "s = 'abc'\n",
    "t = [0, 1, 2]\n",
    "zip(s, t) #zipea un string y una lista\n",
    "# [('a', 0), ('b', 1), ('c', 2)] asi es como resultaria\n",
    "zip('Anne', 'Elk') # Si las secuencias no tienen la misma longitud, el resultado toma el que tenga menor numero de caracteres\n",
    "# [('A', 'E'), ('n', 'l'), ('n', 'k')]"
   ]
  },
  {
   "cell_type": "code",
   "execution_count": 7,
   "metadata": {},
   "outputs": [
    {
     "name": "stdout",
     "output_type": "stream",
     "text": [
      "0 a\n",
      "1 b\n",
      "2 c\n"
     ]
    }
   ],
   "source": [
    "# Puedes usar el asignamiento de tuplas en un ciclo for para transversar una lista de tuplas:\n",
    "t = [('a', 0), ('b', 1), ('c', 2)]\n",
    "for letter, number in t:\n",
    "    print (number, letter)"
   ]
  },
  {
   "cell_type": "code",
   "execution_count": 15,
   "metadata": {},
   "outputs": [
    {
     "data": {
      "text/plain": [
       "True"
      ]
     },
     "execution_count": 15,
     "metadata": {},
     "output_type": "execute_result"
    }
   ],
   "source": [
    "# Si combinas zip, for y el asignamiento de tuplas, obtienes un idioma util para transversar dos (o mas) secuencias al mismo tiempo. \n",
    "# Ejemplo, has_match toma dos secuencias, y retorna True si hay UN index i que sea igual como t1[i] == t2[i]\n",
    "\n",
    "def has_match(t1, t2):\n",
    "    for x, y in zip(t1, t2):\n",
    "        if x == y:\n",
    "            return True\n",
    "    return False\n",
    "\n",
    "has_match('hla', 'h')"
   ]
  },
  {
   "cell_type": "code",
   "execution_count": 44,
   "metadata": {},
   "outputs": [
    {
     "name": "stdout",
     "output_type": "stream",
     "text": [
      "0 a\n",
      "1 b\n",
      "2 c\n"
     ]
    }
   ],
   "source": [
    "# Si necesitas transversar los elementos de una secuencia y sus indices, puedes usar la funcion ENUMERATE\n",
    "for index, element in enumerate('abc'):\n",
    "    print (index, element)"
   ]
  },
  {
   "cell_type": "markdown",
   "metadata": {},
   "source": [
    "### Diccionarios y tuplas"
   ]
  },
  {
   "cell_type": "code",
   "execution_count": 21,
   "metadata": {},
   "outputs": [
    {
     "name": "stdout",
     "output_type": "stream",
     "text": [
      "dict_items([('a', 0), ('b', 1), ('c', 2)])\n",
      "{'a': 0, 'b': 1, 'c': 2}\n"
     ]
    }
   ],
   "source": [
    "# Diccionarios tienen un metodo llamado ITEMS que retorna una lista de tuplas, donde cada tupla es una pareja key-value:\n",
    "\n",
    "d = {'a':0, 'b':1, 'c':2}\n",
    "t = d.items()\n",
    "print (t) # lista de tuplas\n",
    "print(d) #diccionario"
   ]
  },
  {
   "cell_type": "code",
   "execution_count": 23,
   "metadata": {},
   "outputs": [
    {
     "name": "stdout",
     "output_type": "stream",
     "text": [
      "{'a': 0, 'c': 2, 'b': 1}\n"
     ]
    }
   ],
   "source": [
    "# Puedes usar una lista de tuplas para inicializar (llenar) un diccionario:\n",
    "\n",
    "t = [('a', 0), ('c', 2), ('b', 1)]\n",
    "d = dict(t)\n",
    "print (d)"
   ]
  },
  {
   "cell_type": "code",
   "execution_count": 43,
   "metadata": {},
   "outputs": [
    {
     "name": "stdout",
     "output_type": "stream",
     "text": [
      "{'a': 0, 'b': 1, 'c': 2}\n"
     ]
    }
   ],
   "source": [
    "# Usando dict y zip de manera consisa para crear un diccionario\n",
    "d = dict(zip('abc', range(3))) # el range es el numero de valores que tomara de izq a der\n",
    "print (d)"
   ]
  },
  {
   "cell_type": "code",
   "execution_count": 46,
   "metadata": {},
   "outputs": [
    {
     "name": "stdout",
     "output_type": "stream",
     "text": [
      "0 a\n",
      "1 b\n",
      "2 c\n"
     ]
    }
   ],
   "source": [
    "# Combinando items, asignamiento de tuplas y for obtienes otro para transversar una secuencia en pares de keys-values\n",
    "for key, val in d.items():\n",
    "    print (val, key)"
   ]
  },
  {
   "cell_type": "markdown",
   "metadata": {},
   "source": [
    "### Comparando tuplas"
   ]
  },
  {
   "cell_type": "code",
   "execution_count": 50,
   "metadata": {},
   "outputs": [
    {
     "name": "stdout",
     "output_type": "stream",
     "text": [
      "True\n",
      "False\n"
     ]
    }
   ],
   "source": [
    "print((0, 1, 2000000) < (0, 3, 4))# Python compara el primer elemento de cada secuencia y asi con los demas, pero con el el primero sea verdadero no importan los demas\n",
    "print((1, 1, 2000000) < (0, 3, 4))"
   ]
  },
  {
   "cell_type": "markdown",
   "metadata": {},
   "source": [
    "  DSU: \n",
    "- Decorate a sequence by building a list of tuples with one or more sort keys preceding the\n",
    "            elements from the sequence,\n",
    "- Sort the list of tuples, and\n",
    "- Undecorate by extracting the sorted elements of the sequence."
   ]
  },
  {
   "cell_type": "code",
   "execution_count": 57,
   "metadata": {},
   "outputs": [
    {
     "data": {
      "text/plain": [
       "['paraguayositos', 'christian', 'mundo', 'hola', 'z', 'x', 'w', 'c', 'b', 'a']"
      ]
     },
     "execution_count": 57,
     "metadata": {},
     "output_type": "execute_result"
    }
   ],
   "source": [
    "# Supongamos que deseamos orden una lista de palabras de la mas larga a la mas corta\n",
    "# Si se encuentra con una palabra con la misma longitud las orden por alfabetico en orden decreciente\n",
    "lista = ['christian', 'hola', 'mundo', 'a', 'paraguayositos', 'b', 'c', 'z', 'w','x']\n",
    "\n",
    "def sort_by_length(words):\n",
    "    t = []\n",
    "    for word in words:\n",
    "        t.append((len(word), word))\n",
    "    \n",
    "    t.sort(reverse=True) #reverse=True ordena en orden decreciente\n",
    "    \n",
    "    res = []\n",
    "    for length, word in t:\n",
    "        res.append(word)\n",
    "    return res\n",
    "sort_by_length(lista)"
   ]
  },
  {
   "cell_type": "code",
   "execution_count": 60,
   "metadata": {},
   "outputs": [
    {
     "data": {
      "text/plain": [
       "['t', 's', 'r', 'n', 'i', 'i', 'h', 'c', 'a']"
      ]
     },
     "execution_count": 60,
     "metadata": {},
     "output_type": "execute_result"
    }
   ],
   "source": [
    "# Toma una cadena e imprime las letras en orden decreciente al alfabeto\n",
    "def most_frecuent(cadena):\n",
    "    lista = []\n",
    "    for letra in cadena:\n",
    "        lista.append(letra)\n",
    "    \n",
    "    lista.sort(reverse=True)\n",
    "    return lista\n",
    "most_frecuent('christian')"
   ]
  },
  {
   "cell_type": "markdown",
   "metadata": {},
   "source": [
    "### Debugging para estructuras de datos"
   ]
  },
  {
   "cell_type": "markdown",
   "metadata": {},
   "source": [
    "Para verificar la estructura de una estructura de datos como listas, diccionarios y tuplas podemos usar el archivos structureshape.py\n",
    "    Ejemplos:\n",
    "    \n",
    "    from structshape import structshape\n",
    "    t = [1,2,3]\n",
    "    print structshape(t)\n",
    "    list of 3 int"
   ]
  },
  {
   "cell_type": "markdown",
   "metadata": {},
   "source": [
    "# Caso de estudio: Selección de Estructura de Datos"
   ]
  },
  {
   "cell_type": "code",
   "execution_count": 2,
   "metadata": {},
   "outputs": [
    {
     "name": "stdout",
     "output_type": "stream",
     "text": [
      "0.39708075018335565\n",
      "0.7666831499440933\n",
      "0.046984745027506825\n",
      "0.7329672467856936\n",
      "0.5236675400712466\n",
      "0.2679413186645673\n",
      "0.1116943068549785\n",
      "0.38772578984805994\n",
      "0.8116120313037011\n",
      "0.8622224257213816\n"
     ]
    }
   ],
   "source": [
    "# Uso de libreria random para numero aleatorios\n",
    "import random\n",
    "\n",
    "for i in range(10):\n",
    "    x = random.random()\n",
    "    print (x)"
   ]
  },
  {
   "cell_type": "code",
   "execution_count": 10,
   "metadata": {},
   "outputs": [
    {
     "data": {
      "text/plain": [
       "6"
      ]
     },
     "execution_count": 10,
     "metadata": {},
     "output_type": "execute_result"
    }
   ],
   "source": [
    "random.randint(5, 10) # la funcion randint retorna un numero aleatorio dentro de ese rango incluyendo a ambos. parametro low y high "
   ]
  },
  {
   "cell_type": "code",
   "execution_count": 11,
   "metadata": {},
   "outputs": [
    {
     "data": {
      "text/plain": [
       "1"
      ]
     },
     "execution_count": 11,
     "metadata": {},
     "output_type": "execute_result"
    }
   ],
   "source": [
    "t = [1, 2, 3]\n",
    "random.choice(t) # Para elegir un elemento random de una secuencia usamos choice"
   ]
  },
  {
   "cell_type": "code",
   "execution_count": 15,
   "metadata": {},
   "outputs": [
    {
     "name": "stdout",
     "output_type": "stream",
     "text": [
      "Total number of words: 162742\n",
      "Number of different words: 7460\n"
     ]
    }
   ],
   "source": [
    "# Programa que lee un archivo y construye un histograma a partir de las palabras del archivo\n",
    "import string\n",
    "def process_file(filename):\n",
    "    hist = dict()\n",
    "    fp = open(filename)\n",
    "    for line in fp:\n",
    "        process_line(line, hist)\n",
    "    return hist\n",
    "\n",
    "def process_line(line, hist):\n",
    "    line = line.replace('-', ' ')\n",
    "    \n",
    "    for word in line.split():\n",
    "        word = word.strip(string.punctuation + string.whitespace)\n",
    "        word = word.lower()\n",
    "        \n",
    "        hist[word] = hist.get(word, 0) + 1\n",
    "        \n",
    "def total_words(hist):\n",
    "    return sum(hist.values()) #Para contar el total de palabras del archivo, podemos agregar las frecuencias en el histograma\n",
    "\n",
    "def different_words(hist): \n",
    "    return len(hist) # EL numero de diferetes palabras es solo el numero de items del diccinario\n",
    "        \n",
    "hist = process_file('emma.txt')\n",
    "print ('Total number of words:', total_words(hist))\n",
    "print ('Number of different words:', different_words(hist))\n",
    "\n",
    "\"\"\" process_file loops through the lines of the file, passing them one at a time to\n",
    "process_line. The histogram hist is being used as an accumulator.\n",
    "process_line uses the string method replace to replace hyphens with spaces before using\n",
    "split to break the line into a list of strings. It traverses the list of words and uses strip\n",
    "and lower to remove punctuation and convert to lower case. (It is a shorthand to say that\n",
    "strings are “converted;” remember that string are immutable, so methods like strip and\n",
    "lower return new strings.)\n",
    "Finally, process_line updates the histogram by creating a new item or incrementing an\n",
    "existing one. \"\"\""
   ]
  },
  {
   "cell_type": "code",
   "execution_count": 22,
   "metadata": {},
   "outputs": [
    {
     "name": "stdout",
     "output_type": "stream",
     "text": [
      "Las palabras mas comunes son:\n",
      "to \t 5295\n",
      "the \t 5266\n",
      "and \t 4931\n",
      "of \t 4339\n",
      "i \t 3191\n",
      "a \t 3155\n",
      "it \t 2546\n",
      "her \t 2483\n",
      "was \t 2400\n",
      "she \t 2364\n"
     ]
    }
   ],
   "source": [
    "# Usamos el patron DSU, el programa toma un histograma y retorna una lista de tuplas palabra-secuencia, ordenadas por frecuencia:\n",
    "def most_common(hist):\n",
    "    t = []\n",
    "    for key, value in hist.items():\n",
    "        t.append((value, key))\n",
    "        t.sort(reverse=True)\n",
    "    return t\n",
    "\n",
    "t = most_common(hist)\n",
    "print ('Las palabras mas comunes son:')\n",
    "for freq, word in t[0:10]: # Ciclo que imprime las 10 palabras mas comunes\n",
    "    print (word, '\\t', freq)"
   ]
  },
  {
   "cell_type": "code",
   "execution_count": 27,
   "metadata": {},
   "outputs": [
    {
     "name": "stdout",
     "output_type": "stream",
     "text": [
      "The most common words are:\n",
      "to \t 5295\n",
      "the \t 5266\n",
      "and \t 4931\n",
      "of \t 4339\n",
      "i \t 3191\n"
     ]
    }
   ],
   "source": [
    "# Parametros opcionales\n",
    "\n",
    "def print_most_common(hist, num=5): # El primer parametro es requerido, el segundo es opcional. El valor por default de num es 5\n",
    "    t = most_common(hist)\n",
    "    print ('The most common words are:')\n",
    "    for freq, word in t[:num]:\n",
    "        print (word, '\\t', freq)\n",
    "\n",
    "print_most_common(hist) # Si solo le damos un argumento, num toma el valor por default\n",
    "#print_most_common(hist,10) # Si le damos dos argumentos, num toma el valor que se inngrese en el segundo argumento, o sea que sobreescribe num\n",
    "# Todos los parametros obligatorios deben ir al principio, luego los opcionales"
   ]
  },
  {
   "cell_type": "code",
   "execution_count": null,
   "metadata": {},
   "outputs": [],
   "source": [
    "# Substraccion de diccionario\n",
    "# Programa que encuentra palabras del libro que no estan en words.txt \n",
    "# subtract toma diccionarios d1 y d2 y retorna un nuevo diccionario que contiene todas las keys de d1 que no estan en d2. No nos importaran los valores que tengan \n",
    "# asi que podemos ponerlos como None.\n",
    "\n",
    "def subtract(d1, d2):\n",
    "    res = dict()\n",
    "    for key in d1:\n",
    "        if key not in d2:\n",
    "            res[key] = None\n",
    "    return res\n",
    "\n",
    "words = process_file('words.txt') # Para encontrar las palabras podemos usar process_file para contruir un histograma para el txt y luego substraer\n",
    "diff = subtract(hist, words)\n",
    "print (\"Las palabras del libro que no estan en la lista de palabras de words.txt son:\")\n",
    "for word in diff.keys():\n",
    "    print (word,)"
   ]
  },
  {
   "cell_type": "code",
   "execution_count": 28,
   "metadata": {},
   "outputs": [
    {
     "data": {
      "text/plain": [
       "'drew'"
      ]
     },
     "execution_count": 28,
     "metadata": {},
     "output_type": "execute_result"
    }
   ],
   "source": [
    "# Funcion que retorna una palabra aleatoria del histograma que ya hemos creado\n",
    "def random_word(h):\n",
    "    t = []\n",
    "    for word, freq in h.items(): \n",
    "        t.extend([word] * freq) # Crea una lista con copias de freq de la palabra string. El metodo extend es similar a append, excepto que el argumento es una secuencia\n",
    "    return random.choice(t) # Retorna una palabra random en base al numero de veces que aparece la palabra en el histograma, entre mas veces haya aparecido \n",
    "                            # mas probabilidad tiene de aparecer en el random\n",
    "    \n",
    "random_word(hist)\n",
    "# Checar analize_book_3.py hace lo mismo pero de una manera mas eficiente"
   ]
  },
  {
   "cell_type": "code",
   "execution_count": 53,
   "metadata": {},
   "outputs": [
    {
     "data": {
      "text/plain": [
       "'cinco'"
      ]
     },
     "execution_count": 53,
     "metadata": {},
     "output_type": "execute_result"
    }
   ],
   "source": [
    "# Ejemplo mas claro de la funcion anterior\n",
    "\n",
    "dic = {'uno': 0, 'dos': 100, 'tres': 0, 'cuatro': 0, 'cinco': 200}\n",
    "     #  ^     ^\n",
    "     # word: freq\n",
    "def ejemplo(dic):\n",
    "    x = []\n",
    "    for word, freq in dic.items():\n",
    "        x.extend([word] * freq) # Crea una lista de las palabras que mas aparecen\n",
    "    return random.choice(x) # En base a lo anterior elige una al azar, pero la que tenga un valor mayor de aparicion tiene mas probabilidades\n",
    "\n",
    "ejemplo(dic)"
   ]
  },
  {
   "cell_type": "markdown",
   "metadata": {},
   "source": [
    "### Analisis de Markov"
   ]
  },
  {
   "cell_type": "code",
   "execution_count": 12,
   "metadata": {},
   "outputs": [],
   "source": [
    "# Escribir un programa que ejecute el analisis de Markov en un texto. Checar la solucion Markov.py "
   ]
  },
  {
   "cell_type": "markdown",
   "metadata": {},
   "source": [
    "# Archivos "
   ]
  },
  {
   "cell_type": "code",
   "execution_count": 13,
   "metadata": {},
   "outputs": [
    {
     "name": "stdout",
     "output_type": "stream",
     "text": [
      "<_io.TextIOWrapper name='output.txt' mode='w' encoding='cp1252'>\n"
     ]
    }
   ],
   "source": [
    "# Para abrir un archivo en modo de escritura, EN CASO DE QUE EL ARCHIVO NO EXISTA CREARA UN ARCHIVO NUEVO\n",
    "# Si el archivo ya existe, abrirlo en modo escritura borrara todos los datos viejos\n",
    "fout = open('output.txt', 'w')\n",
    "print (fout)"
   ]
  },
  {
   "cell_type": "code",
   "execution_count": 14,
   "metadata": {},
   "outputs": [],
   "source": [
    "# El metodo write escribe datos en el archivo\n",
    "line1 = \"This here's the wattle,\\n\"\n",
    "fout.write(line1)\n",
    "line2 = \"the emblem of our land.\\n\" # Si corremos de nuevo las instrucciones o unas diferentes, agregara al final del archivo\n",
    "fout.write(line2)\n",
    "fout.close() # Cuando acabemos de escribir tenemos que cerrar el archivo"
   ]
  },
  {
   "cell_type": "code",
   "execution_count": 17,
   "metadata": {},
   "outputs": [
    {
     "data": {
      "text/plain": [
       "2"
      ]
     },
     "execution_count": 17,
     "metadata": {},
     "output_type": "execute_result"
    }
   ],
   "source": [
    "# El argumento para write tiene que ser string, si queremos agregar otros valores al archivo, tenemos que convertirlos a string. \n",
    "# La forma mas facil para hacer esto es con 'str':\n",
    "fout = open('output.txt', 'w')\n",
    "x = 52\n",
    "fout.write(str(x))"
   ]
  },
  {
   "cell_type": "code",
   "execution_count": 18,
   "metadata": {},
   "outputs": [
    {
     "data": {
      "text/plain": [
       "'42'"
      ]
     },
     "execution_count": 18,
     "metadata": {},
     "output_type": "execute_result"
    }
   ],
   "source": [
    "# Otra forma es usar el operador formato '%', cuando el primer operando es un string, % es el operador formato.\n",
    "# El primer operando es el formato string, el cual contiene una o mas secuencias de formato, el cual especifica como el segundo operando es formateado.\n",
    "camels = 42\n",
    "'%d' % camels # Ejemplo, la secuencia de formato '%d' quiere decir que el segundo operando deberia ser formateado como un integer (d significa 'decimal')\n",
    "# El resultado es un string"
   ]
  },
  {
   "cell_type": "code",
   "execution_count": 22,
   "metadata": {},
   "outputs": [
    {
     "data": {
      "text/plain": [
       "'I have spotted 42 camels.'"
      ]
     },
     "execution_count": 22,
     "metadata": {},
     "output_type": "execute_result"
    }
   ],
   "source": [
    "# Una secuencia de formato puede aparecer donde sea en el string, puedes agregar un valor en una sentencia:\n",
    "camels = 42\n",
    "'I have spotted %d camels.' % camels"
   ]
  },
  {
   "cell_type": "code",
   "execution_count": 23,
   "metadata": {},
   "outputs": [
    {
     "data": {
      "text/plain": [
       "'In 3 years I have spotted 0.1 camels.'"
      ]
     },
     "execution_count": 23,
     "metadata": {},
     "output_type": "execute_result"
    }
   ],
   "source": [
    "# Si hay mas de una secuencia de formato en el string, el segundo argumento tiene que ser una tupla. Cada secuencia de formato es matched con un elemento \n",
    "# en la tupla, en orden. El siguiente ejemplo usa '%d' para formatear un integer, '%g' para formatear un numero float y '%s' para un string:\n",
    "\n",
    "'In %d years I have spotted %g %s.' % (3, 0.1, 'camels')"
   ]
  },
  {
   "cell_type": "code",
   "execution_count": null,
   "metadata": {},
   "outputs": [],
   "source": [
    "# El numero de elementos en la tupla tiene que match con el numero de secuencias de formato en el string, asi como el tipo de los elementos:\n",
    "'%d %d %d' % (1, 2) # Aqui no suficientes elementos the element is the wrong\n",
    "'%d' % 'dollars' # Aqui el elementos es del tipo equivocado"
   ]
  },
  {
   "cell_type": "markdown",
   "metadata": {},
   "source": [
    "### Nombres de archivo y directorios"
   ]
  },
  {
   "cell_type": "code",
   "execution_count": 29,
   "metadata": {},
   "outputs": [
    {
     "name": "stdout",
     "output_type": "stream",
     "text": [
      "C:\\Users\\chris\\OneDrive\\Escritorio\\Python\n"
     ]
    }
   ],
   "source": [
    "# El modulo os porvee funciones para trabajar con archivos y directorios (“os” significa 'sistema operativo')\n",
    "import os\n",
    "cwd = os.getcwd() # os.getcwd retorna el nombre del directorio actual\n",
    "print (cwd) # cwd significa 'current working directory'"
   ]
  },
  {
   "cell_type": "code",
   "execution_count": null,
   "metadata": {},
   "outputs": [],
   "source": [
    "# absolut path es el directorio raiz de un archvivo\n",
    "import os\n",
    "os.path.abspath('emma.txt') # Se usa abspath para encontrar el absolut path de un archivo\n",
    "os.path.exists('emma.txt') # Checa si un archivo existe\n",
    "os.path.isdir('music') # Si existe, comprueba si es un directorio\n",
    "os.path.isfile('emma.txt')# Comprueba si es un archivo\n",
    "os.listdir(cwd) # Retorna una lista de los archivos (y otros directorios) en el directorio dado."
   ]
  },
  {
   "cell_type": "code",
   "execution_count": 36,
   "metadata": {},
   "outputs": [
    {
     "name": "stdout",
     "output_type": "stream",
     "text": [
      "C:\\Users\\chris\\OneDrive\\Escritorio\\Python\\.ipynb_checkpoints\\analyze_book-checkpoint.py\n",
      "C:\\Users\\chris\\OneDrive\\Escritorio\\Python\\.ipynb_checkpoints\\analyze_book2-checkpoint.py\n",
      "C:\\Users\\chris\\OneDrive\\Escritorio\\Python\\.ipynb_checkpoints\\CursoPython-checkpoint.ipynb\n",
      "C:\\Users\\chris\\OneDrive\\Escritorio\\Python\\analyze_book.py\n",
      "C:\\Users\\chris\\OneDrive\\Escritorio\\Python\\analyze_book2.py\n",
      "C:\\Users\\chris\\OneDrive\\Escritorio\\Python\\analyze_book3.py\n",
      "C:\\Users\\chris\\OneDrive\\Escritorio\\Python\\canvas_demo.py\n",
      "C:\\Users\\chris\\OneDrive\\Escritorio\\Python\\CursoPython.ipynb\n",
      "C:\\Users\\chris\\OneDrive\\Escritorio\\Python\\emma.txt\n",
      "C:\\Users\\chris\\OneDrive\\Escritorio\\Python\\ImageBrowser.py\n",
      "C:\\Users\\chris\\OneDrive\\Escritorio\\Python\\image_demo.py\n",
      "C:\\Users\\chris\\OneDrive\\Escritorio\\Python\\Lumpy.py\n",
      "C:\\Users\\chris\\OneDrive\\Escritorio\\Python\\lumpy_demo1.py\n",
      "C:\\Users\\chris\\OneDrive\\Escritorio\\Python\\output.txt\n",
      "C:\\Users\\chris\\OneDrive\\Escritorio\\Python\\Poker.py\n",
      "C:\\Users\\chris\\OneDrive\\Escritorio\\Python\\rotate.py\n",
      "C:\\Users\\chris\\OneDrive\\Escritorio\\Python\\structshape.py\n",
      "C:\\Users\\chris\\OneDrive\\Escritorio\\Python\\tictactoe.py\n",
      "C:\\Users\\chris\\OneDrive\\Escritorio\\Python\\words.txt\n",
      "C:\\Users\\chris\\OneDrive\\Escritorio\\Python\\__pycache__\\analyze_book.cpython-37.pyc\n"
     ]
    }
   ],
   "source": [
    "# Imprime los nombres de todos los archivos, y llama a si mismo recursivamente en todos los directorios\n",
    "\n",
    "def walk(dirname):\n",
    "    for name in os.listdir(dirname):\n",
    "        path = os.path.join(dirname, name) # TOma un directorio y un nombre de archivo y se une con ellos en path completo.\n",
    "        if os.path.isfile(path):\n",
    "            print (path)\n",
    "        else:\n",
    "            walk(path)\n",
    "\n",
    "walk(cwd)"
   ]
  },
  {
   "cell_type": "code",
   "execution_count": null,
   "metadata": {},
   "outputs": [],
   "source": [
    "fin = open('bad_file') # Si tratas de abrir un archivo que no existe aparece lo siguiente\n",
    "# IOError: [Errno 2] No such file or directory: 'bad_file'\n",
    "fout = open('/etc/passwd', 'w') # Si no tienes permiso para acceder a un archivo\n",
    "# IOError: [Errno 13] Permission denied: '/etc/passwd'\n",
    "fin = open('/home') # Si tratas de abrir un directorio para leer, obtenemos\n",
    "# IOError: [Errno 21] Is a directory\n",
    "\n",
    "# Para evitar estos problemas podemos usar las instrucciones pasadas"
   ]
  },
  {
   "cell_type": "code",
   "execution_count": 41,
   "metadata": {},
   "outputs": [
    {
     "name": "stdout",
     "output_type": "stream",
     "text": [
      "Something went wrong.\n"
     ]
    }
   ],
   "source": [
    "# Usamos try para tratar problemas, su sintaxis es parecida al if, ejecuta primero lo del try y si hay un error se brinca al except\n",
    "try:\n",
    "    fin = open('bad_file')\n",
    "    for line in fin:\n",
    "        print (line)\n",
    "    fin.close()\n",
    "except:\n",
    "    print ('Something went wrong.')"
   ]
  },
  {
   "cell_type": "markdown",
   "metadata": {},
   "source": [
    "### Pickling"
   ]
  },
  {
   "cell_type": "code",
   "execution_count": 46,
   "metadata": {},
   "outputs": [
    {
     "data": {
      "text/plain": [
       "b'\\x80\\x03]q\\x00(K\\x01K\\x02K\\x03e.'"
      ]
     },
     "execution_count": 46,
     "metadata": {},
     "output_type": "execute_result"
    }
   ],
   "source": [
    "# Puedes usar pickle para almacenar no-strings en una base de datos. Es comun para encapsular en el modulo shelve.\n",
    "\n",
    "import pickle #  Traduce casi cualquier tipo de dato de objeto en un string adecuado para almacenar en una base de datos, y luego traduce los strings de nuevo en objetos\n",
    "t = [1, 2, 3]\n",
    "pickle.dumps(t) # Toma un onjeto como parametro y retorna una representacion string (dumps es abreviacion de \"dump string\""
   ]
  },
  {
   "cell_type": "code",
   "execution_count": 48,
   "metadata": {},
   "outputs": [
    {
     "name": "stdout",
     "output_type": "stream",
     "text": [
      "[1, 2, 3]\n"
     ]
    }
   ],
   "source": [
    "# El formato no es para lectura humand, ahora es facil para un interprete.\n",
    "t1 = [1, 2, 3]\n",
    "s = pickle.dumps(t1)\n",
    "t2 = pickle.loads(s) # pickle.loads (“carga un string”) reconstituye el objeto\n",
    "print (t2)"
   ]
  },
  {
   "cell_type": "code",
   "execution_count": 51,
   "metadata": {},
   "outputs": [
    {
     "name": "stdout",
     "output_type": "stream",
     "text": [
      "True\n",
      "False\n"
     ]
    }
   ],
   "source": [
    "# El nuevo objeto tiene el mismo valor que el viejo, no es (en general) el mismo objeto:\n",
    "print(t1 == t2) #Mismo valor\n",
    "print(t1 is t2) # No son el mismo objeto"
   ]
  },
  {
   "cell_type": "markdown",
   "metadata": {},
   "source": [
    "### Escribiendo Modulos"
   ]
  },
  {
   "cell_type": "code",
   "execution_count": 33,
   "metadata": {},
   "outputs": [
    {
     "name": "stdout",
     "output_type": "stream",
     "text": [
      "<module 'count' from 'C:\\\\Users\\\\chris\\\\OneDrive\\\\Escritorio\\\\Python\\\\count.py'>\n",
      "__main__\n"
     ]
    }
   ],
   "source": [
    "# Cualquier archivo que contenga codigo Python se puede importar como modulo\n",
    "# Por ejemplo, el archivo count.py se llama asi mismo e imprime el numero de lineas del archivo que es 7 \n",
    "import count # Se puede importar asi \n",
    "print(count) # Ahora tenemos el modulo count\n",
    "count.linecount('count.py') # El cual provee el modulo linecount, que cuenta el numero de lineas\n",
    "print(__name__)\n",
    "# El unico problema con este ejemplo es que cuando importamos el modulo ejecuta el test code hasta al final. Normalmente cuando tu importas un modulo, \n",
    "# define nuevas funciones pero no las ejecuta. Solo lo hace si agregamos:\n",
    "# if  __name__ == '__main__':"
   ]
  },
  {
   "cell_type": "markdown",
   "metadata": {},
   "source": [
    "### Debug para errores de modulos"
   ]
  },
  {
   "cell_type": "code",
   "execution_count": 37,
   "metadata": {},
   "outputs": [
    {
     "name": "stdout",
     "output_type": "stream",
     "text": [
      "1 2\t 3\n",
      " 4\n",
      "'1 2\\t 3\\n 4'\n"
     ]
    }
   ],
   "source": [
    "# Para evitar errores en modulos como espacios podemos usar repr\n",
    "# Otro error conocido son las diferencias de caracteres de diferentes sistemas\n",
    "s = '1 2\\t 3\\n 4'\n",
    "print (s)\n",
    "print (repr(s)) # repr toma cualquier objeto como argumento y retorna una representacion string del objeto. \n",
    "                # Para strings representa caracteres de espacios en blanco con secuencias backslash (\\)"
   ]
  },
  {
   "cell_type": "code",
   "execution_count": 43,
   "metadata": {},
   "outputs": [
    {
     "ename": "URLError",
     "evalue": "<urlopen error [Errno 11001] getaddrinfo failed>",
     "output_type": "error",
     "traceback": [
      "\u001b[1;31m---------------------------------------------------------------------------\u001b[0m",
      "\u001b[1;31mgaierror\u001b[0m                                  Traceback (most recent call last)",
      "\u001b[1;32m~\\Anaconda3\\lib\\urllib\\request.py\u001b[0m in \u001b[0;36mdo_open\u001b[1;34m(self, http_class, req, **http_conn_args)\u001b[0m\n\u001b[0;32m   1316\u001b[0m                 h.request(req.get_method(), req.selector, req.data, headers,\n\u001b[1;32m-> 1317\u001b[1;33m                           encode_chunked=req.has_header('Transfer-encoding'))\n\u001b[0m\u001b[0;32m   1318\u001b[0m             \u001b[1;32mexcept\u001b[0m \u001b[0mOSError\u001b[0m \u001b[1;32mas\u001b[0m \u001b[0merr\u001b[0m\u001b[1;33m:\u001b[0m \u001b[1;31m# timeout error\u001b[0m\u001b[1;33m\u001b[0m\u001b[1;33m\u001b[0m\u001b[0m\n",
      "\u001b[1;32m~\\Anaconda3\\lib\\http\\client.py\u001b[0m in \u001b[0;36mrequest\u001b[1;34m(self, method, url, body, headers, encode_chunked)\u001b[0m\n\u001b[0;32m   1228\u001b[0m         \u001b[1;34m\"\"\"Send a complete request to the server.\"\"\"\u001b[0m\u001b[1;33m\u001b[0m\u001b[1;33m\u001b[0m\u001b[0m\n\u001b[1;32m-> 1229\u001b[1;33m         \u001b[0mself\u001b[0m\u001b[1;33m.\u001b[0m\u001b[0m_send_request\u001b[0m\u001b[1;33m(\u001b[0m\u001b[0mmethod\u001b[0m\u001b[1;33m,\u001b[0m \u001b[0murl\u001b[0m\u001b[1;33m,\u001b[0m \u001b[0mbody\u001b[0m\u001b[1;33m,\u001b[0m \u001b[0mheaders\u001b[0m\u001b[1;33m,\u001b[0m \u001b[0mencode_chunked\u001b[0m\u001b[1;33m)\u001b[0m\u001b[1;33m\u001b[0m\u001b[1;33m\u001b[0m\u001b[0m\n\u001b[0m\u001b[0;32m   1230\u001b[0m \u001b[1;33m\u001b[0m\u001b[0m\n",
      "\u001b[1;32m~\\Anaconda3\\lib\\http\\client.py\u001b[0m in \u001b[0;36m_send_request\u001b[1;34m(self, method, url, body, headers, encode_chunked)\u001b[0m\n\u001b[0;32m   1274\u001b[0m             \u001b[0mbody\u001b[0m \u001b[1;33m=\u001b[0m \u001b[0m_encode\u001b[0m\u001b[1;33m(\u001b[0m\u001b[0mbody\u001b[0m\u001b[1;33m,\u001b[0m \u001b[1;34m'body'\u001b[0m\u001b[1;33m)\u001b[0m\u001b[1;33m\u001b[0m\u001b[1;33m\u001b[0m\u001b[0m\n\u001b[1;32m-> 1275\u001b[1;33m         \u001b[0mself\u001b[0m\u001b[1;33m.\u001b[0m\u001b[0mendheaders\u001b[0m\u001b[1;33m(\u001b[0m\u001b[0mbody\u001b[0m\u001b[1;33m,\u001b[0m \u001b[0mencode_chunked\u001b[0m\u001b[1;33m=\u001b[0m\u001b[0mencode_chunked\u001b[0m\u001b[1;33m)\u001b[0m\u001b[1;33m\u001b[0m\u001b[1;33m\u001b[0m\u001b[0m\n\u001b[0m\u001b[0;32m   1276\u001b[0m \u001b[1;33m\u001b[0m\u001b[0m\n",
      "\u001b[1;32m~\\Anaconda3\\lib\\http\\client.py\u001b[0m in \u001b[0;36mendheaders\u001b[1;34m(self, message_body, encode_chunked)\u001b[0m\n\u001b[0;32m   1223\u001b[0m             \u001b[1;32mraise\u001b[0m \u001b[0mCannotSendHeader\u001b[0m\u001b[1;33m(\u001b[0m\u001b[1;33m)\u001b[0m\u001b[1;33m\u001b[0m\u001b[1;33m\u001b[0m\u001b[0m\n\u001b[1;32m-> 1224\u001b[1;33m         \u001b[0mself\u001b[0m\u001b[1;33m.\u001b[0m\u001b[0m_send_output\u001b[0m\u001b[1;33m(\u001b[0m\u001b[0mmessage_body\u001b[0m\u001b[1;33m,\u001b[0m \u001b[0mencode_chunked\u001b[0m\u001b[1;33m=\u001b[0m\u001b[0mencode_chunked\u001b[0m\u001b[1;33m)\u001b[0m\u001b[1;33m\u001b[0m\u001b[1;33m\u001b[0m\u001b[0m\n\u001b[0m\u001b[0;32m   1225\u001b[0m \u001b[1;33m\u001b[0m\u001b[0m\n",
      "\u001b[1;32m~\\Anaconda3\\lib\\http\\client.py\u001b[0m in \u001b[0;36m_send_output\u001b[1;34m(self, message_body, encode_chunked)\u001b[0m\n\u001b[0;32m   1015\u001b[0m         \u001b[1;32mdel\u001b[0m \u001b[0mself\u001b[0m\u001b[1;33m.\u001b[0m\u001b[0m_buffer\u001b[0m\u001b[1;33m[\u001b[0m\u001b[1;33m:\u001b[0m\u001b[1;33m]\u001b[0m\u001b[1;33m\u001b[0m\u001b[1;33m\u001b[0m\u001b[0m\n\u001b[1;32m-> 1016\u001b[1;33m         \u001b[0mself\u001b[0m\u001b[1;33m.\u001b[0m\u001b[0msend\u001b[0m\u001b[1;33m(\u001b[0m\u001b[0mmsg\u001b[0m\u001b[1;33m)\u001b[0m\u001b[1;33m\u001b[0m\u001b[1;33m\u001b[0m\u001b[0m\n\u001b[0m\u001b[0;32m   1017\u001b[0m \u001b[1;33m\u001b[0m\u001b[0m\n",
      "\u001b[1;32m~\\Anaconda3\\lib\\http\\client.py\u001b[0m in \u001b[0;36msend\u001b[1;34m(self, data)\u001b[0m\n\u001b[0;32m    955\u001b[0m             \u001b[1;32mif\u001b[0m \u001b[0mself\u001b[0m\u001b[1;33m.\u001b[0m\u001b[0mauto_open\u001b[0m\u001b[1;33m:\u001b[0m\u001b[1;33m\u001b[0m\u001b[1;33m\u001b[0m\u001b[0m\n\u001b[1;32m--> 956\u001b[1;33m                 \u001b[0mself\u001b[0m\u001b[1;33m.\u001b[0m\u001b[0mconnect\u001b[0m\u001b[1;33m(\u001b[0m\u001b[1;33m)\u001b[0m\u001b[1;33m\u001b[0m\u001b[1;33m\u001b[0m\u001b[0m\n\u001b[0m\u001b[0;32m    957\u001b[0m             \u001b[1;32melse\u001b[0m\u001b[1;33m:\u001b[0m\u001b[1;33m\u001b[0m\u001b[1;33m\u001b[0m\u001b[0m\n",
      "\u001b[1;32m~\\Anaconda3\\lib\\http\\client.py\u001b[0m in \u001b[0;36mconnect\u001b[1;34m(self)\u001b[0m\n\u001b[0;32m    927\u001b[0m         self.sock = self._create_connection(\n\u001b[1;32m--> 928\u001b[1;33m             (self.host,self.port), self.timeout, self.source_address)\n\u001b[0m\u001b[0;32m    929\u001b[0m         \u001b[0mself\u001b[0m\u001b[1;33m.\u001b[0m\u001b[0msock\u001b[0m\u001b[1;33m.\u001b[0m\u001b[0msetsockopt\u001b[0m\u001b[1;33m(\u001b[0m\u001b[0msocket\u001b[0m\u001b[1;33m.\u001b[0m\u001b[0mIPPROTO_TCP\u001b[0m\u001b[1;33m,\u001b[0m \u001b[0msocket\u001b[0m\u001b[1;33m.\u001b[0m\u001b[0mTCP_NODELAY\u001b[0m\u001b[1;33m,\u001b[0m \u001b[1;36m1\u001b[0m\u001b[1;33m)\u001b[0m\u001b[1;33m\u001b[0m\u001b[1;33m\u001b[0m\u001b[0m\n",
      "\u001b[1;32m~\\Anaconda3\\lib\\socket.py\u001b[0m in \u001b[0;36mcreate_connection\u001b[1;34m(address, timeout, source_address)\u001b[0m\n\u001b[0;32m    706\u001b[0m     \u001b[0merr\u001b[0m \u001b[1;33m=\u001b[0m \u001b[1;32mNone\u001b[0m\u001b[1;33m\u001b[0m\u001b[1;33m\u001b[0m\u001b[0m\n\u001b[1;32m--> 707\u001b[1;33m     \u001b[1;32mfor\u001b[0m \u001b[0mres\u001b[0m \u001b[1;32min\u001b[0m \u001b[0mgetaddrinfo\u001b[0m\u001b[1;33m(\u001b[0m\u001b[0mhost\u001b[0m\u001b[1;33m,\u001b[0m \u001b[0mport\u001b[0m\u001b[1;33m,\u001b[0m \u001b[1;36m0\u001b[0m\u001b[1;33m,\u001b[0m \u001b[0mSOCK_STREAM\u001b[0m\u001b[1;33m)\u001b[0m\u001b[1;33m:\u001b[0m\u001b[1;33m\u001b[0m\u001b[1;33m\u001b[0m\u001b[0m\n\u001b[0m\u001b[0;32m    708\u001b[0m         \u001b[0maf\u001b[0m\u001b[1;33m,\u001b[0m \u001b[0msocktype\u001b[0m\u001b[1;33m,\u001b[0m \u001b[0mproto\u001b[0m\u001b[1;33m,\u001b[0m \u001b[0mcanonname\u001b[0m\u001b[1;33m,\u001b[0m \u001b[0msa\u001b[0m \u001b[1;33m=\u001b[0m \u001b[0mres\u001b[0m\u001b[1;33m\u001b[0m\u001b[1;33m\u001b[0m\u001b[0m\n",
      "\u001b[1;32m~\\Anaconda3\\lib\\socket.py\u001b[0m in \u001b[0;36mgetaddrinfo\u001b[1;34m(host, port, family, type, proto, flags)\u001b[0m\n\u001b[0;32m    747\u001b[0m     \u001b[0maddrlist\u001b[0m \u001b[1;33m=\u001b[0m \u001b[1;33m[\u001b[0m\u001b[1;33m]\u001b[0m\u001b[1;33m\u001b[0m\u001b[1;33m\u001b[0m\u001b[0m\n\u001b[1;32m--> 748\u001b[1;33m     \u001b[1;32mfor\u001b[0m \u001b[0mres\u001b[0m \u001b[1;32min\u001b[0m \u001b[0m_socket\u001b[0m\u001b[1;33m.\u001b[0m\u001b[0mgetaddrinfo\u001b[0m\u001b[1;33m(\u001b[0m\u001b[0mhost\u001b[0m\u001b[1;33m,\u001b[0m \u001b[0mport\u001b[0m\u001b[1;33m,\u001b[0m \u001b[0mfamily\u001b[0m\u001b[1;33m,\u001b[0m \u001b[0mtype\u001b[0m\u001b[1;33m,\u001b[0m \u001b[0mproto\u001b[0m\u001b[1;33m,\u001b[0m \u001b[0mflags\u001b[0m\u001b[1;33m)\u001b[0m\u001b[1;33m:\u001b[0m\u001b[1;33m\u001b[0m\u001b[1;33m\u001b[0m\u001b[0m\n\u001b[0m\u001b[0;32m    749\u001b[0m         \u001b[0maf\u001b[0m\u001b[1;33m,\u001b[0m \u001b[0msocktype\u001b[0m\u001b[1;33m,\u001b[0m \u001b[0mproto\u001b[0m\u001b[1;33m,\u001b[0m \u001b[0mcanonname\u001b[0m\u001b[1;33m,\u001b[0m \u001b[0msa\u001b[0m \u001b[1;33m=\u001b[0m \u001b[0mres\u001b[0m\u001b[1;33m\u001b[0m\u001b[1;33m\u001b[0m\u001b[0m\n",
      "\u001b[1;31mgaierror\u001b[0m: [Errno 11001] getaddrinfo failed",
      "\nDuring handling of the above exception, another exception occurred:\n",
      "\u001b[1;31mURLError\u001b[0m                                  Traceback (most recent call last)",
      "\u001b[1;32m<ipython-input-43-9cbf97bbc3e9>\u001b[0m in \u001b[0;36m<module>\u001b[1;34m\u001b[0m\n\u001b[0;32m      1\u001b[0m \u001b[1;31m# Ejercicio de libreria urllib\u001b[0m\u001b[1;33m\u001b[0m\u001b[1;33m\u001b[0m\u001b[1;33m\u001b[0m\u001b[0m\n\u001b[0;32m      2\u001b[0m \u001b[1;32mimport\u001b[0m \u001b[0murllib\u001b[0m\u001b[1;33m.\u001b[0m\u001b[0mrequest\u001b[0m\u001b[1;33m\u001b[0m\u001b[1;33m\u001b[0m\u001b[0m\n\u001b[1;32m----> 3\u001b[1;33m \u001b[1;32mwith\u001b[0m \u001b[0murllib\u001b[0m\u001b[1;33m.\u001b[0m\u001b[0mrequest\u001b[0m\u001b[1;33m.\u001b[0m\u001b[0murlopen\u001b[0m\u001b[1;33m(\u001b[0m\u001b[1;34m'http://thinkpython.com/secret.html'\u001b[0m\u001b[1;33m)\u001b[0m \u001b[1;32mas\u001b[0m \u001b[0murl\u001b[0m\u001b[1;33m:\u001b[0m\u001b[1;33m\u001b[0m\u001b[1;33m\u001b[0m\u001b[0m\n\u001b[0m\u001b[0;32m      4\u001b[0m     \u001b[1;32mfor\u001b[0m \u001b[0mline\u001b[0m \u001b[1;32min\u001b[0m \u001b[0murl\u001b[0m\u001b[1;33m:\u001b[0m\u001b[1;33m\u001b[0m\u001b[1;33m\u001b[0m\u001b[0m\n\u001b[0;32m      5\u001b[0m         \u001b[0mprint\u001b[0m \u001b[1;33m(\u001b[0m\u001b[0mline\u001b[0m\u001b[1;33m.\u001b[0m\u001b[0mstrip\u001b[0m\u001b[1;33m(\u001b[0m\u001b[1;33m)\u001b[0m\u001b[1;33m)\u001b[0m\u001b[1;33m\u001b[0m\u001b[1;33m\u001b[0m\u001b[0m\n",
      "\u001b[1;32m~\\Anaconda3\\lib\\urllib\\request.py\u001b[0m in \u001b[0;36murlopen\u001b[1;34m(url, data, timeout, cafile, capath, cadefault, context)\u001b[0m\n\u001b[0;32m    220\u001b[0m     \u001b[1;32melse\u001b[0m\u001b[1;33m:\u001b[0m\u001b[1;33m\u001b[0m\u001b[1;33m\u001b[0m\u001b[0m\n\u001b[0;32m    221\u001b[0m         \u001b[0mopener\u001b[0m \u001b[1;33m=\u001b[0m \u001b[0m_opener\u001b[0m\u001b[1;33m\u001b[0m\u001b[1;33m\u001b[0m\u001b[0m\n\u001b[1;32m--> 222\u001b[1;33m     \u001b[1;32mreturn\u001b[0m \u001b[0mopener\u001b[0m\u001b[1;33m.\u001b[0m\u001b[0mopen\u001b[0m\u001b[1;33m(\u001b[0m\u001b[0murl\u001b[0m\u001b[1;33m,\u001b[0m \u001b[0mdata\u001b[0m\u001b[1;33m,\u001b[0m \u001b[0mtimeout\u001b[0m\u001b[1;33m)\u001b[0m\u001b[1;33m\u001b[0m\u001b[1;33m\u001b[0m\u001b[0m\n\u001b[0m\u001b[0;32m    223\u001b[0m \u001b[1;33m\u001b[0m\u001b[0m\n\u001b[0;32m    224\u001b[0m \u001b[1;32mdef\u001b[0m \u001b[0minstall_opener\u001b[0m\u001b[1;33m(\u001b[0m\u001b[0mopener\u001b[0m\u001b[1;33m)\u001b[0m\u001b[1;33m:\u001b[0m\u001b[1;33m\u001b[0m\u001b[1;33m\u001b[0m\u001b[0m\n",
      "\u001b[1;32m~\\Anaconda3\\lib\\urllib\\request.py\u001b[0m in \u001b[0;36mopen\u001b[1;34m(self, fullurl, data, timeout)\u001b[0m\n\u001b[0;32m    523\u001b[0m             \u001b[0mreq\u001b[0m \u001b[1;33m=\u001b[0m \u001b[0mmeth\u001b[0m\u001b[1;33m(\u001b[0m\u001b[0mreq\u001b[0m\u001b[1;33m)\u001b[0m\u001b[1;33m\u001b[0m\u001b[1;33m\u001b[0m\u001b[0m\n\u001b[0;32m    524\u001b[0m \u001b[1;33m\u001b[0m\u001b[0m\n\u001b[1;32m--> 525\u001b[1;33m         \u001b[0mresponse\u001b[0m \u001b[1;33m=\u001b[0m \u001b[0mself\u001b[0m\u001b[1;33m.\u001b[0m\u001b[0m_open\u001b[0m\u001b[1;33m(\u001b[0m\u001b[0mreq\u001b[0m\u001b[1;33m,\u001b[0m \u001b[0mdata\u001b[0m\u001b[1;33m)\u001b[0m\u001b[1;33m\u001b[0m\u001b[1;33m\u001b[0m\u001b[0m\n\u001b[0m\u001b[0;32m    526\u001b[0m \u001b[1;33m\u001b[0m\u001b[0m\n\u001b[0;32m    527\u001b[0m         \u001b[1;31m# post-process response\u001b[0m\u001b[1;33m\u001b[0m\u001b[1;33m\u001b[0m\u001b[1;33m\u001b[0m\u001b[0m\n",
      "\u001b[1;32m~\\Anaconda3\\lib\\urllib\\request.py\u001b[0m in \u001b[0;36m_open\u001b[1;34m(self, req, data)\u001b[0m\n\u001b[0;32m    541\u001b[0m         \u001b[0mprotocol\u001b[0m \u001b[1;33m=\u001b[0m \u001b[0mreq\u001b[0m\u001b[1;33m.\u001b[0m\u001b[0mtype\u001b[0m\u001b[1;33m\u001b[0m\u001b[1;33m\u001b[0m\u001b[0m\n\u001b[0;32m    542\u001b[0m         result = self._call_chain(self.handle_open, protocol, protocol +\n\u001b[1;32m--> 543\u001b[1;33m                                   '_open', req)\n\u001b[0m\u001b[0;32m    544\u001b[0m         \u001b[1;32mif\u001b[0m \u001b[0mresult\u001b[0m\u001b[1;33m:\u001b[0m\u001b[1;33m\u001b[0m\u001b[1;33m\u001b[0m\u001b[0m\n\u001b[0;32m    545\u001b[0m             \u001b[1;32mreturn\u001b[0m \u001b[0mresult\u001b[0m\u001b[1;33m\u001b[0m\u001b[1;33m\u001b[0m\u001b[0m\n",
      "\u001b[1;32m~\\Anaconda3\\lib\\urllib\\request.py\u001b[0m in \u001b[0;36m_call_chain\u001b[1;34m(self, chain, kind, meth_name, *args)\u001b[0m\n\u001b[0;32m    501\u001b[0m         \u001b[1;32mfor\u001b[0m \u001b[0mhandler\u001b[0m \u001b[1;32min\u001b[0m \u001b[0mhandlers\u001b[0m\u001b[1;33m:\u001b[0m\u001b[1;33m\u001b[0m\u001b[1;33m\u001b[0m\u001b[0m\n\u001b[0;32m    502\u001b[0m             \u001b[0mfunc\u001b[0m \u001b[1;33m=\u001b[0m \u001b[0mgetattr\u001b[0m\u001b[1;33m(\u001b[0m\u001b[0mhandler\u001b[0m\u001b[1;33m,\u001b[0m \u001b[0mmeth_name\u001b[0m\u001b[1;33m)\u001b[0m\u001b[1;33m\u001b[0m\u001b[1;33m\u001b[0m\u001b[0m\n\u001b[1;32m--> 503\u001b[1;33m             \u001b[0mresult\u001b[0m \u001b[1;33m=\u001b[0m \u001b[0mfunc\u001b[0m\u001b[1;33m(\u001b[0m\u001b[1;33m*\u001b[0m\u001b[0margs\u001b[0m\u001b[1;33m)\u001b[0m\u001b[1;33m\u001b[0m\u001b[1;33m\u001b[0m\u001b[0m\n\u001b[0m\u001b[0;32m    504\u001b[0m             \u001b[1;32mif\u001b[0m \u001b[0mresult\u001b[0m \u001b[1;32mis\u001b[0m \u001b[1;32mnot\u001b[0m \u001b[1;32mNone\u001b[0m\u001b[1;33m:\u001b[0m\u001b[1;33m\u001b[0m\u001b[1;33m\u001b[0m\u001b[0m\n\u001b[0;32m    505\u001b[0m                 \u001b[1;32mreturn\u001b[0m \u001b[0mresult\u001b[0m\u001b[1;33m\u001b[0m\u001b[1;33m\u001b[0m\u001b[0m\n",
      "\u001b[1;32m~\\Anaconda3\\lib\\urllib\\request.py\u001b[0m in \u001b[0;36mhttp_open\u001b[1;34m(self, req)\u001b[0m\n\u001b[0;32m   1343\u001b[0m \u001b[1;33m\u001b[0m\u001b[0m\n\u001b[0;32m   1344\u001b[0m     \u001b[1;32mdef\u001b[0m \u001b[0mhttp_open\u001b[0m\u001b[1;33m(\u001b[0m\u001b[0mself\u001b[0m\u001b[1;33m,\u001b[0m \u001b[0mreq\u001b[0m\u001b[1;33m)\u001b[0m\u001b[1;33m:\u001b[0m\u001b[1;33m\u001b[0m\u001b[1;33m\u001b[0m\u001b[0m\n\u001b[1;32m-> 1345\u001b[1;33m         \u001b[1;32mreturn\u001b[0m \u001b[0mself\u001b[0m\u001b[1;33m.\u001b[0m\u001b[0mdo_open\u001b[0m\u001b[1;33m(\u001b[0m\u001b[0mhttp\u001b[0m\u001b[1;33m.\u001b[0m\u001b[0mclient\u001b[0m\u001b[1;33m.\u001b[0m\u001b[0mHTTPConnection\u001b[0m\u001b[1;33m,\u001b[0m \u001b[0mreq\u001b[0m\u001b[1;33m)\u001b[0m\u001b[1;33m\u001b[0m\u001b[1;33m\u001b[0m\u001b[0m\n\u001b[0m\u001b[0;32m   1346\u001b[0m \u001b[1;33m\u001b[0m\u001b[0m\n\u001b[0;32m   1347\u001b[0m     \u001b[0mhttp_request\u001b[0m \u001b[1;33m=\u001b[0m \u001b[0mAbstractHTTPHandler\u001b[0m\u001b[1;33m.\u001b[0m\u001b[0mdo_request_\u001b[0m\u001b[1;33m\u001b[0m\u001b[1;33m\u001b[0m\u001b[0m\n",
      "\u001b[1;32m~\\Anaconda3\\lib\\urllib\\request.py\u001b[0m in \u001b[0;36mdo_open\u001b[1;34m(self, http_class, req, **http_conn_args)\u001b[0m\n\u001b[0;32m   1317\u001b[0m                           encode_chunked=req.has_header('Transfer-encoding'))\n\u001b[0;32m   1318\u001b[0m             \u001b[1;32mexcept\u001b[0m \u001b[0mOSError\u001b[0m \u001b[1;32mas\u001b[0m \u001b[0merr\u001b[0m\u001b[1;33m:\u001b[0m \u001b[1;31m# timeout error\u001b[0m\u001b[1;33m\u001b[0m\u001b[1;33m\u001b[0m\u001b[0m\n\u001b[1;32m-> 1319\u001b[1;33m                 \u001b[1;32mraise\u001b[0m \u001b[0mURLError\u001b[0m\u001b[1;33m(\u001b[0m\u001b[0merr\u001b[0m\u001b[1;33m)\u001b[0m\u001b[1;33m\u001b[0m\u001b[1;33m\u001b[0m\u001b[0m\n\u001b[0m\u001b[0;32m   1320\u001b[0m             \u001b[0mr\u001b[0m \u001b[1;33m=\u001b[0m \u001b[0mh\u001b[0m\u001b[1;33m.\u001b[0m\u001b[0mgetresponse\u001b[0m\u001b[1;33m(\u001b[0m\u001b[1;33m)\u001b[0m\u001b[1;33m\u001b[0m\u001b[1;33m\u001b[0m\u001b[0m\n\u001b[0;32m   1321\u001b[0m         \u001b[1;32mexcept\u001b[0m\u001b[1;33m:\u001b[0m\u001b[1;33m\u001b[0m\u001b[1;33m\u001b[0m\u001b[0m\n",
      "\u001b[1;31mURLError\u001b[0m: <urlopen error [Errno 11001] getaddrinfo failed>"
     ]
    }
   ],
   "source": [
    "# Ejercicio de libreria urllib\n",
    "import urllib.request\n",
    "with urllib.request.urlopen('http://thinkpython.com/secret.html') as url:\n",
    "    for line in url:\n",
    "        print (line.strip())"
   ]
  },
  {
   "cell_type": "markdown",
   "metadata": {},
   "source": [
    "# Clases y Objetos"
   ]
  },
  {
   "cell_type": "code",
   "execution_count": 5,
   "metadata": {},
   "outputs": [],
   "source": [
    "# Para definir una clase usamos:\n",
    "class Point(object): # Esto indica que es una nueva clase que es un tipo de \"objeto\"\n",
    "    \"\"\"Represents a point in 2-D space.\"\"\""
   ]
  },
  {
   "cell_type": "code",
   "execution_count": 6,
   "metadata": {},
   "outputs": [
    {
     "name": "stdout",
     "output_type": "stream",
     "text": [
      "<class '__main__.Point'>\n"
     ]
    }
   ],
   "source": [
    "print (Point) # Porque Point es definido en el nivel top, su 'nombre completo' es __main__.Point."
   ]
  },
  {
   "cell_type": "code",
   "execution_count": 7,
   "metadata": {},
   "outputs": [
    {
     "name": "stdout",
     "output_type": "stream",
     "text": [
      "<__main__.Point object at 0x00000223AA5784A8>\n"
     ]
    }
   ],
   "source": [
    "# La clase objeto es como una fabrica para crear objetos. Para crear un Point, puedes llamarlo como si fuera una funcion.\n",
    "blank = Point() # El valor return es una referencia al objeto Point, el cual nosotros asignamos a blank. Creating a new\n",
    "print (blank) # Creando un nuevo objeto es llamado instanciacion, y el objeto es una instancia de la clase."
   ]
  },
  {
   "cell_type": "code",
   "execution_count": 8,
   "metadata": {},
   "outputs": [
    {
     "name": "stdout",
     "output_type": "stream",
     "text": [
      "4.0\n",
      "3.0\n"
     ]
    }
   ],
   "source": [
    "# Puedes asignar valores a una instancia con la notacion punto\n",
    "blank.x = 3.0\n",
    "blank.y = 4.0\n",
    "\n",
    "print (blank.y) # Puedes leer el atributo usando la misma sintaxis\n",
    "x = blank.x # La expresion quiere decir “Ve al objeto blank referido y toma el valor de x.”\n",
    "print (x)"
   ]
  },
  {
   "cell_type": "code",
   "execution_count": 9,
   "metadata": {},
   "outputs": [
    {
     "name": "stdout",
     "output_type": "stream",
     "text": [
      "(3, 4)\n",
      "5.0\n"
     ]
    }
   ],
   "source": [
    "# Podemos usar la notacion punto en cualquier parte de una expresion\n",
    "import math\n",
    "print ('(%g, %g)' % (blank.x, blank.y)) # Convertir float a int\n",
    "distance = math.sqrt(blank.x**2 + blank.y**2) # Calcular distancia\n",
    "print (distance)"
   ]
  },
  {
   "cell_type": "code",
   "execution_count": 10,
   "metadata": {},
   "outputs": [
    {
     "name": "stdout",
     "output_type": "stream",
     "text": [
      "(3, 4)\n"
     ]
    }
   ],
   "source": [
    "# Puedes pasar una instancia como un argumento de la forma usual\n",
    "# Esta funcion toma un punto como un argumento y la despliega en notacion matematica. Para invocarla puedes pasar blank como un argumento:\n",
    "def print_point(p):\n",
    "    print ('(%g, %g)' % (p.x, p.y))\n",
    "    \n",
    "print_point(blank) # Dentro de esta funcion, p es un alias para blank, entonces si la funcion modifica p, blank cambia"
   ]
  },
  {
   "cell_type": "code",
   "execution_count": 11,
   "metadata": {},
   "outputs": [
    {
     "name": "stdout",
     "output_type": "stream",
     "text": [
      "5.0\n"
     ]
    }
   ],
   "source": [
    "# Toma dos puntos como argumentos y retorna la distancia entre ellos.\n",
    "def distance_between_points(p1, p2):\n",
    "    distance = math.sqrt(p1**2 + p2**2)\n",
    "    print (distance)\n",
    "\n",
    "distance_between_points(3,4)"
   ]
  },
  {
   "cell_type": "markdown",
   "metadata": {},
   "source": [
    "### Rectangulos"
   ]
  },
  {
   "cell_type": "code",
   "execution_count": 16,
   "metadata": {},
   "outputs": [],
   "source": [
    "class Rectangle(object):\n",
    "    \"\"\"Represents a rectangle.\n",
    "    attributes: width, height, corner.\"\"\"\n",
    "    \n",
    "# Para representar un rectangulo, debemos instanciar un objeto rectangulo y asignar valores a los atributos:\n",
    "box = Rectangle()\n",
    "box.width = 100.0\n",
    "box.height = 200.0\n",
    "box.corner = Point()\n",
    "box.corner.x = 0.0 # Esta expresion quiere decir \"Ve a la caja obejto que refiere y selecciona el atributo llamado corner, \n",
    "box.corner.y = 0.0 # luego ve al objeto y selecciona el atributo llamado x\""
   ]
  },
  {
   "cell_type": "code",
   "execution_count": 13,
   "metadata": {},
   "outputs": [
    {
     "name": "stdout",
     "output_type": "stream",
     "text": [
      "(50, 100)\n"
     ]
    }
   ],
   "source": [
    "# Las funciones pueden retornar valores, ejemplo, find_center toma un rectangulo como argumento y retorna un Point\n",
    "# que contiene las cordenadas del centro del rectangulo. Tomado los valores anteriores.\n",
    "\n",
    "def find_center(rect):\n",
    "    p = Point()\n",
    "    p.x = rect.corner.x + rect.width/2.0 # 0 + 100/2 = 50 \n",
    "    p.y = rect.corner.y + rect.height/2.0 # 0 + 200/2 = 100\n",
    "    return p\n",
    "\n",
    "center = find_center(box) # Ejemplo que pasa un box como argumento y asigna el Point resultante al centro:\n",
    "print_point(center)"
   ]
  },
  {
   "cell_type": "markdown",
   "metadata": {},
   "source": [
    "### Objetos mutables"
   ]
  },
  {
   "cell_type": "code",
   "execution_count": 14,
   "metadata": {},
   "outputs": [
    {
     "name": "stdout",
     "output_type": "stream",
     "text": [
      "150.0\n",
      "250.0\n"
     ]
    }
   ],
   "source": [
    "# Puedes cambiar el estado de un objeto para hacer asignamiento a uno de sus atributos\n",
    "# Para cambiar el tamaño de un rectangulo sin cambiar su posicion, puedes modificar los valores de width y height:\n",
    "box.width = box.width + 50\n",
    "box.height = box.width + 100\n",
    "print(box.width)\n",
    "print(box.height)"
   ]
  },
  {
   "cell_type": "code",
   "execution_count": 17,
   "metadata": {},
   "outputs": [
    {
     "name": "stdout",
     "output_type": "stream",
     "text": [
      "Valores viejos de width: 100.0\n",
      "Valores viejos de height: 200.0\n",
      "Valores nuevos de width: 150.0\n",
      "Valores nuevos de height: 300.0\n"
     ]
    }
   ],
   "source": [
    "# Puedes escribir funciones que modifiquen objetos. por ejemplo el siguiente toma un objeto Rectangle y dos numeros, y agrega los numeros al width y height del rectangle:\n",
    "# Dentro de la funcion, rect es un alias para box, entonces si la funcion modifica rect, box cambia \n",
    "def grow_rectangle(rect, dwidth, dheight): # rectangulo, width, height\n",
    "    rect.width += dwidth\n",
    "    rect.height += dheight\n",
    "\n",
    "print (\"Valores viejos de width:\", box.width) # el valor es 100.0\n",
    "print (\"Valores viejos de height:\", box.height) # el valor es 200.0\n",
    "\n",
    "grow_rectangle(box, 50, 100) # Incrementa los valores de width y height de box\n",
    "\n",
    "print (\"Valores nuevos de width:\", box.width) # El valor es 150.0\n",
    "print (\"Valores nuevos de height:\", box.height)# El valor es 300.0"
   ]
  },
  {
   "cell_type": "code",
   "execution_count": 18,
   "metadata": {},
   "outputs": [
    {
     "name": "stdout",
     "output_type": "stream",
     "text": [
      "Valores viejos de x: 0.0\n",
      "Valores viejos de y: 0.0\n",
      "Valores nuevos de x: 1.0\n",
      "Valores nuevos de y: 1.0\n"
     ]
    }
   ],
   "source": [
    "# Funcion que toma un Rectangle y dos numeros llamados dx y dy. Debe cambiar la localizacion del rectangle agregando dx a la coordenada x de corner y\n",
    "# agregando dy a la coordenada y de corner.\n",
    "\n",
    "def move_rectangle(rect, dx, dy):\n",
    "    rect.corner.x += dx\n",
    "    rect.corner.y += dy\n",
    "\n",
    "print (\"Valores viejos de x:\", box.corner.x) # el valor es 0\n",
    "print (\"Valores viejos de y:\", box.corner.y) # el valor es 0\n",
    "\n",
    "move_rectangle(box, 1, 1)\n",
    "\n",
    "print (\"Valores nuevos de x:\", box.corner.x) # El valor es 1.0\n",
    "print (\"Valores nuevos de y:\", box.corner.y)# El valor es 1.0"
   ]
  },
  {
   "cell_type": "markdown",
   "metadata": {},
   "source": [
    "### Copying"
   ]
  },
  {
   "cell_type": "code",
   "execution_count": 19,
   "metadata": {},
   "outputs": [],
   "source": [
    "# Si no queremos estar usando los alias podemos copiar un objeto con el modulo copy que tiene una funcion llamada copy que duplica cualquier objeto:\n",
    "\n",
    "p1 = Point()\n",
    "p1.x = 3.0\n",
    "p1.y = 4.0\n",
    "\n",
    "import copy\n",
    "p2 = copy.copy(p1)"
   ]
  },
  {
   "cell_type": "code",
   "execution_count": 20,
   "metadata": {},
   "outputs": [
    {
     "name": "stdout",
     "output_type": "stream",
     "text": [
      "(3, 4)\n",
      "(3, 4)\n",
      "False\n",
      "False\n"
     ]
    }
   ],
   "source": [
    "# p1 and p2 contienen los mismos datos, pero NO son el mismo Point.\n",
    "print_point(p1) # (3.0, 4.0)\n",
    "print_point(p2) # (3.0, 4.0)\n",
    "print(p1 is p2) # False\n",
    "print(p1 == p2) # False\n",
    "\n",
    "# El == deberia dar True como pensabamos porque estos puntos contienen los mismos datos.\n",
    "# Pero para INSTANCES, el comportamiento default del operador == es el mismo como el operador 'is', checa que sean IDENTICOS NO EQUIVALENCIA DE OBJETOS\n",
    "# Este comportamiento puede ser cambiendo, veremos como mas delante."
   ]
  },
  {
   "cell_type": "code",
   "execution_count": 21,
   "metadata": {},
   "outputs": [
    {
     "name": "stdout",
     "output_type": "stream",
     "text": [
      "150.0\n",
      "300.0\n",
      "1.0\n",
      "1.0\n",
      "False\n",
      "True\n"
     ]
    }
   ],
   "source": [
    "# Otro ejemplo de copia, se pueden verificar con los datos de arriba\n",
    "box2 = copy.copy(box)\n",
    "print(box2.width)\n",
    "print(box2.height)\n",
    "print(box2.corner.x)\n",
    "print(box2.corner.y)\n",
    "\n",
    "print(box2 is box) # False porque NO son el mismo objeto\n",
    "print(box2.corner is box.corner) # True porque aun esta haciendo referencia a los mismos objetos anteriores\n",
    "\n",
    "# Esta operacion es llamada COPIA SUPERFICIAL porque copia el objeto y cualquier referencia que contenga, pero no los objetos insertados.\n",
    "# Para mas aplicaciones, esto no es lo que queremos. En este ejemplo, invocando grow_rectangle en uno de los Rectangles no afectarian entre si, pero\n",
    "# invocando move_rectangle en otro podria afectar a ambos, este comportamiento es confuso y propenso a errores."
   ]
  },
  {
   "cell_type": "code",
   "execution_count": 22,
   "metadata": {},
   "outputs": [
    {
     "name": "stdout",
     "output_type": "stream",
     "text": [
      "False\n",
      "False\n"
     ]
    }
   ],
   "source": [
    "# Afortunadamente tenemos deepcopy, que copia no solo los objetos si no tambien los objetos que este se refiera y asi\n",
    "\n",
    "box3 = copy.deepcopy(box)\n",
    "print(box3 is box) # False\n",
    "print(box3.corner is box.corner) # False, box3 y box ahora son TOTALMENTE diferentes"
   ]
  },
  {
   "cell_type": "code",
   "execution_count": 25,
   "metadata": {},
   "outputs": [
    {
     "name": "stdout",
     "output_type": "stream",
     "text": [
      "True\n",
      "False\n"
     ]
    }
   ],
   "source": [
    "# hasattr sirve para verificar si un objeto tiene cierto atributo, el primer argumento es un objeto, el segundo es el nombre del atributo a verificar entre comillas \n",
    "print(hasattr(box3, 'corner'))\n",
    "print(hasattr(box3, 'corner2'))"
   ]
  },
  {
   "cell_type": "code",
   "execution_count": 30,
   "metadata": {},
   "outputs": [],
   "source": [
    "# Usando el modulo World de Swampy se pueden crear figuras geometricas en una ventana.\n",
    "\n",
    "from swampy.World import World # Importacion de World\n",
    "world = World() # Creacion de objeto tipo world\n",
    "canvas = world.ca(width=500, height=500, background='white') # El objeto canvas crea una ventana con fondo blanco\n",
    "bbox = [[-150,-100], [150, 100]] # bbox es una lista de listas que representa el cuadro delimitador del rectangulo. La primera coordenada es la esquina inferior-izquierda\n",
    "                                 # y la segunda la esquina superior derecha\n",
    "canvas.rectangle(bbox, outline='black', width=2, fill='green4') # Con los datos anteriores se crea el rectangulo con el metodo rectangulo de canvas, poniendo color de relleno y outlines\n",
    "canvas.circle([-25,0], 70, outline=None, fill='red') # Crea un circulo, el primer parametro es la coordenada del centro, y la segunda es el radio, relleno rojo y sin outlines\n",
    "world.mainloop() # metodo para esperar al usuario hasta que cierre la ventana"
   ]
  },
  {
   "cell_type": "markdown",
   "metadata": {},
   "source": [
    "# Clases y funciones"
   ]
  },
  {
   "cell_type": "code",
   "execution_count": 11,
   "metadata": {},
   "outputs": [],
   "source": [
    "# Crearemos una nueva clase llamada Time, que graba el tiempo del dia\n",
    "\n",
    "class Time(object):\n",
    "    \"\"\"Represents the time of day.\n",
    "    attributes: hour, minute, second\n",
    "    \"\"\""
   ]
  },
  {
   "cell_type": "code",
   "execution_count": 12,
   "metadata": {},
   "outputs": [],
   "source": [
    "# Crearemos un objeto Time asignando atributos para horas, minutos y segundos\n",
    "time = Time()\n",
    "time.hour = 11\n",
    "time.minute = 59\n",
    "time.second = 30"
   ]
  },
  {
   "cell_type": "code",
   "execution_count": 13,
   "metadata": {},
   "outputs": [
    {
     "name": "stdout",
     "output_type": "stream",
     "text": [
      "11:59:30\n"
     ]
    }
   ],
   "source": [
    "# Funcion que toma un objeto Time e imprime en formato hora,minutos y segundos\n",
    "def print_time(time):\n",
    "    print('%.2d:%.2d:%.2d' % (time.hour, time.minute, time.second))\n",
    "    #print('Son las %.2d con %.2d minutos y %.2d segundos' % (time.hour, time.minute, time.second)) \n",
    "    # %.2d es un formato de secuencia que imprime integers de dos digitos, incluyendo el cero de ser necesario\n",
    "    \n",
    "print_time(time)"
   ]
  },
  {
   "cell_type": "code",
   "execution_count": 14,
   "metadata": {},
   "outputs": [
    {
     "data": {
      "text/plain": [
       "True"
      ]
     },
     "execution_count": 14,
     "metadata": {},
     "output_type": "execute_result"
    }
   ],
   "source": [
    "# Write a boolean function called is_after that takes two Time objects, t1 and t2, \n",
    "# and returns True if t1 follows t2 chronologically and False otherwise. Challenge: don’t use an if statement.\n",
    "t1 = Time()\n",
    "t1.hour = 3\n",
    "t1.minute = 15\n",
    "t1.second = 20\n",
    "\n",
    "t2 = Time()\n",
    "t2.hour = 2 \n",
    "t2.minute = 15\n",
    "t2.second = 20\n",
    "\n",
    "def is_after(t1,t2):\n",
    "    while t1.hour > t2.hour:\n",
    "        return True\n",
    "    return False\n",
    "\n",
    "is_after(t1,t2)"
   ]
  },
  {
   "cell_type": "markdown",
   "metadata": {},
   "source": [
    "### Funciones Puras"
   ]
  },
  {
   "cell_type": "code",
   "execution_count": 15,
   "metadata": {},
   "outputs": [],
   "source": [
    "# Vamos a utilizar un plan llamado Prototype and Patch, el cual es una forma de atacar un problema complejo empezando \n",
    "# con prototipo simple y incrementando tratando con las complicaciones\n",
    "def add_time(t1, t2):\n",
    "    sum = Time()\n",
    "    sum.hour = t1.hour + t2.hour\n",
    "    sum.minute = t1.minute + t2.minute\n",
    "    sum.second = t1.second + t2.second\n",
    "    return sum\n",
    "\n",
    "# Esta es una funcion pura porque no modifica ninguno de los objetos que le han pasado como argumentos y no tienen efecto, como desplegar un valor o tomar una entrada del usuario"
   ]
  },
  {
   "cell_type": "code",
   "execution_count": 16,
   "metadata": {},
   "outputs": [
    {
     "name": "stdout",
     "output_type": "stream",
     "text": [
      "10:80:00\n"
     ]
    }
   ],
   "source": [
    "# Para probar la funcion crearemos dos objetos Time: start contiene el tiempo de inicio de una pelicula, y duration contiene la duracion, en este caso 1 hora 35 min\n",
    "# add_time dira cuando la pelicula acabara.\n",
    "\n",
    "start = Time()\n",
    "start.hour = 9\n",
    "start.minute = 45\n",
    "start.second = 0\n",
    "\n",
    "duration = Time()\n",
    "duration.hour = 1\n",
    "duration.minute = 35\n",
    "duration.second = 0\n",
    "\n",
    "done = add_time(start, duration)\n",
    "print_time(done) # El resultado no es el que esperamos debido a que no agrega a los minutos o horas a mas de 60.\n",
    "                 # Tenemos que 'carry' los segundos extra en la columna minuto o los minutos extra en la columna hora."
   ]
  },
  {
   "cell_type": "code",
   "execution_count": 17,
   "metadata": {},
   "outputs": [
    {
     "name": "stdout",
     "output_type": "stream",
     "text": [
      "11:20:00\n"
     ]
    }
   ],
   "source": [
    "# Aqui esta una mas funcional pero con mas codigo, mas delante mejoraremos eso\n",
    "\n",
    "def add_time(t1, t2):\n",
    "    sum = Time()\n",
    "    sum.hour = t1.hour + t2.hour\n",
    "    sum.minute = t1.minute + t2.minute\n",
    "    sum.second = t1.second + t2.second\n",
    "    if sum.second >= 60:\n",
    "        sum.second -= 60\n",
    "        sum.minute += 1\n",
    "    if sum.minute >= 60:\n",
    "        sum.minute -= 60\n",
    "        sum.hour += 1\n",
    "    return sum\n",
    "\n",
    "done = add_time(start, duration)\n",
    "print_time(done)"
   ]
  },
  {
   "cell_type": "markdown",
   "metadata": {},
   "source": [
    "### Modificadores"
   ]
  },
  {
   "cell_type": "code",
   "execution_count": 18,
   "metadata": {},
   "outputs": [
    {
     "name": "stdout",
     "output_type": "stream",
     "text": [
      "09:46:10\n"
     ]
    }
   ],
   "source": [
    "\"\"\"A veces es conveniente para una funcion modificar los objetos que toma como parametros. En ese caso, los cambios son visibles al caller. \n",
    "Este tipo de funciones son llamadas 'modifiers'. Increment, agrega un numero de segundos dado a un objeto Time, puede ser escrito naturalmente como un modifier\"\"\"\n",
    "\n",
    "def increment(time, seconds):\n",
    "    time.second += seconds\n",
    "    while time.second >= 60:\n",
    "        time.second -= 60\n",
    "        time.minute += 1\n",
    "    while time.minute >= 60:\n",
    "        time.minute -= 60\n",
    "        time.hour += 1\n",
    "    return time\n",
    "\n",
    "incr = increment(start, 70) # La funcion suma los segundos dados al objeto, es decir modifica\n",
    "print_time(incr)"
   ]
  },
  {
   "cell_type": "markdown",
   "metadata": {},
   "source": [
    "### Prototipando VS Planeando"
   ]
  },
  {
   "cell_type": "code",
   "execution_count": 5,
   "metadata": {},
   "outputs": [
    {
     "data": {
      "text/plain": [
       "True"
      ]
     },
     "execution_count": 5,
     "metadata": {},
     "output_type": "execute_result"
    }
   ],
   "source": [
    "\"\"\"Planned Develpment es un plan de desarrollo que investiga para que sea mas facil. En los ejemplos anteriores podemos evitarnos todas las complicaciones\n",
    " Estas funciones convierten en base 60 a 10 y de vuelta para que sea mas facil\n",
    " Convierte Times a Integers\"\"\"\n",
    "def time_to_int(time):\n",
    "    minutes = time.hour * 60 + time.minute\n",
    "    seconds = minutes * 60 + time.second\n",
    "    return seconds\n",
    "\n",
    "# Convierte Integers a Times\n",
    "def int_to_time(seconds):\n",
    "    time = Time()\n",
    "    minutes, time.second = divmod(seconds, 60) # rellama a divmod divida el primer argumento por el segundo y retorna el coeficiente y el remanente como una tupla\n",
    "    time.hour, time.minute = divmod(minutes, 60)\n",
    "    return time\n",
    "# Chequeo de consistencia de ambas funciones\n",
    "time_to_int(int_to_time(100)) == 100 # Testeo para ver que sean correctas, dando cualquier valor a x."
   ]
  },
  {
   "cell_type": "code",
   "execution_count": 20,
   "metadata": {},
   "outputs": [
    {
     "name": "stdout",
     "output_type": "stream",
     "text": [
      "11:21:10\n"
     ]
    }
   ],
   "source": [
    "# Funcion add_time reescrita de una forma mas eficiente y corta\n",
    "\n",
    "def add_time(t1, t2):\n",
    "    seconds = time_to_int(t1) + time_to_int(t2)\n",
    "    return int_to_time(seconds)\n",
    "\n",
    "done = add_time(start, duration)\n",
    "print_time(done)"
   ]
  },
  {
   "cell_type": "code",
   "execution_count": 21,
   "metadata": {},
   "outputs": [],
   "source": [
    "# Funcion que valida que un objeto Time tiene invariantes es decir errores como que aparezca un numero mayor de 60 para el parametro de minutos, etc.\n",
    "def valid_time(time):\n",
    "    if time.hour < 0 or time.minute < 0 or time.second < 0 or time.hour > 12:\n",
    "        return False\n",
    "    if time.minute >= 60 or time.second >= 60:\n",
    "        return False\n",
    "    return True"
   ]
  },
  {
   "cell_type": "code",
   "execution_count": 22,
   "metadata": {},
   "outputs": [],
   "source": [
    "t1 = Time()\n",
    "t1.hour = 10 # 9\n",
    "t1.minute = 45 #45\n",
    "t1.second = 0\n",
    "\n",
    "t2 = Time()\n",
    "t2.hour = 1\n",
    "t2.minute = 35\n",
    "t2.second = 0"
   ]
  },
  {
   "cell_type": "code",
   "execution_count": 23,
   "metadata": {},
   "outputs": [],
   "source": [
    "# Entonces podemos checar al inicio de las funciones si los argumentos son validos:\n",
    "def add_time(t1, t2):\n",
    "    if not valid_time(t1) or not valid_time(t2):\n",
    "        raise ValueError('Objeto Time invalido en add_time')\n",
    "    seconds = time_to_int(t1) + time_to_int(t2)\n",
    "    return int_to_time(seconds)\n",
    "\n",
    "# O podemos usar 'assert' el cual checa una invariante dada y sale una excepcion si este falla:\n",
    "def add_timea(t1, t2):\n",
    "    assert valid_time(t1) and valid_time(t2)\n",
    "    seconds = time_to_int(t1) + time_to_int(t2)\n",
    "    return int_to_time(seconds)"
   ]
  },
  {
   "cell_type": "code",
   "execution_count": 24,
   "metadata": {},
   "outputs": [
    {
     "name": "stdout",
     "output_type": "stream",
     "text": [
      "12:20:00\n"
     ]
    }
   ],
   "source": [
    "resul = add_time(t1,t2)\n",
    "print_time(resul)"
   ]
  },
  {
   "cell_type": "markdown",
   "metadata": {},
   "source": [
    "# Clases y Métodos"
   ]
  },
  {
   "cell_type": "code",
   "execution_count": 6,
   "metadata": {},
   "outputs": [],
   "source": [
    "# Las funciones que hemos hecho las podemos agregar a una clase como metodos.\n",
    "# Para agregar un metodo a una clase lo podemos hacer asi: \n",
    "\n",
    "class Time(object):\n",
    "    def print_time(self):  # Se agrega asi porque el primer parametro es llamado 'self', se ve mas elegante\n",
    "        print ('%.2d:%.2d:%.2d' % (self.hour, self.minute, self.second))\n",
    "    \n",
    "    def time_to_int(time):\n",
    "        minutes = time.hour * 60 + time.minute\n",
    "        seconds = minutes * 60 + time.second\n",
    "        return seconds\n",
    "    \n",
    "    # Convierte Integers a Times\n",
    "    def int_to_time(seconds):\n",
    "        time = Time()\n",
    "        minutes, time.second = divmod(seconds, 60) # rellama a divmod divida el primer argumento por el segundo y retorna el coeficiente y el remanente como una tupla\n",
    "        time.hour, time.minute = divmod(minutes, 60)\n",
    "        return time\n",
    "    \n",
    "    def is_after(self, other):\n",
    "        return self.time_to_int() > other.time_to_int() #Este es mas complicado porque toma dos objetos Time como parametros. En este caso es convencional llamar al 1er\n",
    "                                                          #parametro 'self' y al 2do parametro 'other\n",
    "    \n",
    "    \"\"\"El metodo init(abre. de 'inicializacion') es un metodo especial que es invocado cuando un objeto es instanciado. Su nombre\n",
    "    completo es __init__ (2 guiones bajos, seguido por init, luego 2 guiones bajos mas). Un metodo init por la clase Time se ve asi:\"\"\"\n",
    "    def __init__(self, hour=0, minute=0, second=0):\n",
    "        self.hour = hour\n",
    "        self.minute = minute\n",
    "        self.second = second\n",
    "        \n",
    "    # Funcion que valida que un objeto Time tiene invariantes es decir errores como que aparezca un numero mayor de 60 para el parametro de minutos, etc.\n",
    "    def valid_time(self):\n",
    "        if self.hour < 0 or self.minute < 0 or self.second < 0 or self.hour > 12:\n",
    "            return 'Error de horario'\n",
    "        if self.minute >= 60 or self.second >= 60:\n",
    "            return 'Error de horario'\n",
    "        return True\n",
    "    \n",
    "    \"\"\" __str__ es un metodo especial como __init__, se supone que retorna una representacion string de un objeto.\n",
    "    Por ejemplo, aqui esta metodo str para objetos Time: \"\"\"\n",
    "    def __str__(self):\n",
    "        return ('%.2d:%.2d:%.2d' % (self.hour, self.minute, self.second))\n",
    "    \n",
    "    \"\"\"Por definir otros metodos especiales, puedes especificar el comportamiento de operadores en tipos definidos por el usuario. Ejemplo, si defines un metodo llamado\n",
    "    __add__ para la clase Time, puedes usar el operador + en objetos Time. Aqui esta como la definicion podria lucir:\n",
    "    \n",
    "    def __add__(self, other):\n",
    "        seconds = self.time_to_int() + other.time_to_int()\n",
    "        return int_to_time(seconds)\"\"\"\n",
    "    \n",
    "    def __add__(self, other):   # Version mejorada de __add__ que checa el tipo de 'other e invoca entre add_time o increment:\n",
    "        if isinstance(other, Time): # isinstance toma un valor y una clase objeto, y retorna True si el valor es una instancia de la clase.\n",
    "            return self.add_time(other)\n",
    "        else:\n",
    "            return self.increment(other) # Si el valor de other es un numero e invoca increment\n",
    "    \n",
    "    def add_time(self, other): # Metodo que suma dos objetos Time\n",
    "        seconds = self.time_to_int() + other.time_to_int()\n",
    "        return int_to_time(seconds)\n",
    "    \n",
    "    def increment(self, seconds): # Metodo que incrementa la cantidad de segundos (la actualiza)\n",
    "        seconds += self.time_to_int()\n",
    "        return int_to_time(seconds)\n",
    "    \n",
    "    def __radd__(self, other): # Funciona para 'sumar lado-derecho'.Este metodo es invocado cuando un objeto Time aparece en el lado derecho del operador +.\n",
    "        return self.__add__(other)\n",
    "# Movemos las funciones dentro de la clase y se convierten en metodos"
   ]
  },
  {
   "cell_type": "code",
   "execution_count": 26,
   "metadata": {},
   "outputs": [
    {
     "name": "stdout",
     "output_type": "stream",
     "text": [
      "09:45:00\n",
      "09:45:00\n"
     ]
    }
   ],
   "source": [
    "# Hay dos formas de llamar un metodo de una clase\n",
    "\n",
    "start = Time()\n",
    "start.hour = 9 # 9\n",
    "start.minute = 45 #45\n",
    "start.second = 0\n",
    "\n",
    "Time.print_time(start) # La primera y menos comun, es usando la sintaxis de una funcion \n",
    "start.print_time() # La segunda y mas concisa, es usando la sintaxis de un metodo"
   ]
  },
  {
   "cell_type": "code",
   "execution_count": 27,
   "metadata": {},
   "outputs": [
    {
     "name": "stdout",
     "output_type": "stream",
     "text": [
      "09:45:00\n",
      "10:07:17\n"
     ]
    }
   ],
   "source": [
    "# Prueba de los metodos print_time y increment\n",
    "start.print_time()\n",
    "end = start.increment(1337) # El subject, start, es asignado al primer parametro, self. El argumento, 1337, es asignado al segundo parametro, seconds.\n",
    "end.print_time()\n",
    "# end = start.increment(1337, 460) si agregaramos otro argumento lo contaria como un 3ro y seria un error\n",
    "# TypeError: increment() takes exactly 2 arguments (3 given)"
   ]
  },
  {
   "cell_type": "code",
   "execution_count": 28,
   "metadata": {},
   "outputs": [
    {
     "data": {
      "text/plain": [
       "True"
      ]
     },
     "execution_count": 28,
     "metadata": {},
     "output_type": "execute_result"
    }
   ],
   "source": [
    "# Para usar el metodo is_after, tenemos que invocarlo en un objeto y pasar el otro como un argumento:\n",
    "end.is_after(start) #Retorna true si end es mayor cronologicamente que start, si no retorna false\n",
    "\n",
    "# Algo chido de esta sintaxis es que casi se puede leer como en Ingles: “end is after start?”"
   ]
  },
  {
   "cell_type": "markdown",
   "metadata": {},
   "source": [
    "### Método Init"
   ]
  },
  {
   "cell_type": "code",
   "execution_count": 42,
   "metadata": {},
   "outputs": [
    {
     "name": "stdout",
     "output_type": "stream",
     "text": [
      "00:00:00\n",
      "09:00:00\n",
      "09:45:00\n",
      "09:45:15\n"
     ]
    }
   ],
   "source": [
    "# Para el metodo __init__ los parametros son opcionales, si llamas Time sin argumentos, obtienes los valores default.\n",
    "time = Time()\n",
    "time.print_time() #00:00:00\n",
    "time = Time (9) # Si agregas un argumento sobreescribe hour\n",
    "time.print_time() #09:00:00\n",
    "time = Time(9, 45) # Si agregas dos argumentos sobreescribe hour y minute\n",
    "time.print_time() #09:45:00\n",
    "time = Time(9, 45, 15) # Si agregas tres argumentos sobreescribe hour, minute y seconds\n",
    "time.print_time() # 09:45:15"
   ]
  },
  {
   "cell_type": "markdown",
   "metadata": {},
   "source": [
    "### Método _ _str_ _"
   ]
  },
  {
   "cell_type": "code",
   "execution_count": 44,
   "metadata": {},
   "outputs": [
    {
     "name": "stdout",
     "output_type": "stream",
     "text": [
      "09:45:00\n"
     ]
    }
   ],
   "source": [
    "\"\"\" __str__ es un metodo especial como __init__, se supone que retorna una representacion string de un objeto.\n",
    "Por ejemplo, aqui esta metodo str para objetos Time: \n",
    "\n",
    "def __str__(self):\n",
    "    return '%.2d:%.2d:%.2d' % (self.hour, self.minute, self.second)\n",
    "\n",
    "Cuando imprimes un objeto, Python invoca el metodo str:\"\"\"\n",
    "time = Time(9, 45)\n",
    "print (time) # 09:45:00"
   ]
  },
  {
   "cell_type": "markdown",
   "metadata": {},
   "source": [
    "### Sobrecarga de Operadores"
   ]
  },
  {
   "cell_type": "code",
   "execution_count": 49,
   "metadata": {},
   "outputs": [
    {
     "name": "stdout",
     "output_type": "stream",
     "text": [
      "11:20:00\n"
     ]
    }
   ],
   "source": [
    "\"\"\"Por definir otros metodos especiales, puedes especificar el comportamiento de operadores en tipos definidos por el usuario. Ejemplo, si defines un metodo llamado\n",
    "__add__ para la clase Time, puedes usar el operador + en objetos Time. Aqui esta como la definicion podria lucir:\n",
    "\n",
    "def __add__(self, other):\n",
    "    seconds = self.time_to_int() + other.time_to_int()\n",
    "    return int_to_time(seconds)\n",
    "\n",
    "Cuando aplicas el operador + a objetos Time, Python invoca  __add__. Cuando imprimes el resultado, Python invoca __str__. \n",
    "Cambiando el comportamiento de un operador asi trabaja con tipos definidos por el usuario es llamado 'sobrecarga de operador'.\n",
    "Para cada operador en Python hay un metodo especial correspondiente como __add__.\n",
    "\n",
    "Y aqui esta como podrias usarlo: \"\"\"\n",
    "\n",
    "start = Time(9, 45)\n",
    "duration = Time(1, 35)\n",
    "print (start + duration) # 11:20:00"
   ]
  },
  {
   "cell_type": "markdown",
   "metadata": {},
   "source": [
    "### Envio Tipo-Basado"
   ]
  },
  {
   "cell_type": "code",
   "execution_count": null,
   "metadata": {},
   "outputs": [],
   "source": [
    "\"\"\"Si other es un objeto Time, __add__ invoca add_time. De otra forma, asume que el parametro es un numero e invoca increment. \n",
    "Esta operation es llamada un envio tipo-basado porque envia la computacion de diferentes metodos basado en el tipo de los argumentos.\n",
    "Aqui hay ejemplos que usan el operador + con diferentes tipos:\"\"\"\n",
    "start = Time(9, 45)\n",
    "duration = Time(1, 35)\n",
    "print (start + duration) # 11:20:00\n",
    "print (start + 1337) # 10:07:17\n",
    "\n",
    "# Desafortunadamente, esta implementacion de adicion no es comutativa, si el integer es el 1er operador, obtienes:\n",
    "print (1337 + start) #TypeError: unsupported operand type(s) for +: 'int' and 'instance'"
   ]
  },
  {
   "cell_type": "code",
   "execution_count": 63,
   "metadata": {},
   "outputs": [
    {
     "name": "stdout",
     "output_type": "stream",
     "text": [
      "10:07:17\n"
     ]
    }
   ],
   "source": [
    "\"\"\" EL problema es, que en lugar de estar pidiendo al objeto Time agregar un integer, Python esta pidiendo un integer para agregar a un objeto Time.\n",
    "Y no sabe como hacer eso. Pero hay una solucion mas lista para este problema: el metodo especial __radd__, el cual funciona para 'agregar lado-derecho'.\n",
    "Este metodo es invocado cuando un objeto Time aparece en el lado derecho del operador +.\n",
    "Aqui esta la definicion:\n",
    "\n",
    "def __radd__(self, other):\n",
    "    return self.__add__(other) \n",
    "\n",
    "Y aqui esta como es usada: \"\"\"\n",
    "\n",
    "print (1337 + start) # Aqui ya NO nos marca error."
   ]
  },
  {
   "cell_type": "markdown",
   "metadata": {},
   "source": [
    "### Polimorfismo"
   ]
  },
  {
   "cell_type": "code",
   "execution_count": 7,
   "metadata": {},
   "outputs": [
    {
     "name": "stdout",
     "output_type": "stream",
     "text": [
      "23:01:00\n"
     ]
    }
   ],
   "source": [
    "\"\"\" Funciones que pueden trabajar con diferentes tipos son llamados polimorficas. Polimorfismo puede facilitar el reuso de codigo. Por ejemplo, la funcion sum, el cual\n",
    "suma los elementos de una secuencia, trabaja siempre que los elementos de la secuencia admitan la suma.\n",
    "Desde que los objetos Time proveen un metodo suma, ellos trabajan con sum:\"\"\"\n",
    "t1 = Time(7, 43)\n",
    "t2 = Time(7, 41)\n",
    "t3 = Time(7, 37)\n",
    "total = sum([t1, t2, t3])\n",
    "print (total)\n",
    "# En general, si todas las operaciones dentro de una funcion trabajan con un tipo dado, entonces la funcion trabaja con ese tipo."
   ]
  },
  {
   "cell_type": "markdown",
   "metadata": {},
   "source": [
    "### Debugging "
   ]
  },
  {
   "cell_type": "code",
   "execution_count": 9,
   "metadata": {},
   "outputs": [
    {
     "name": "stdout",
     "output_type": "stream",
     "text": [
      "{'hour': 7, 'minute': 43, 'second': 0}\n"
     ]
    }
   ],
   "source": [
    "\"\"\"Otra forma de acceder a los atributos de un objeto es con el atributo especial __dict__, el cual es un diccionario que mapea nombres de atributos(como strings) y valores\"\"\",\n",
    "print (t1.__dict__) # Despliega los atributos de t1"
   ]
  },
  {
   "cell_type": "code",
   "execution_count": 13,
   "metadata": {},
   "outputs": [
    {
     "name": "stdout",
     "output_type": "stream",
     "text": [
      "hour : 7\n",
      "minute : 43\n",
      "second : 0\n"
     ]
    }
   ],
   "source": [
    "\"\"\"Puede ser util mantener esta funcion practica:\n",
    "print_attributes transversa los items en el diccionario del objeto e imprime cada nombre de atributo y su correspondiente valor. \n",
    "La funcion integrada getatte toma un objeto y un nombre de atributo (como string) y retorna el valor del atributo.\"\"\"\n",
    "\n",
    "def print_attributes(obj):\n",
    "    for attr in obj.__dict__:\n",
    "        print (attr,':', getattr(obj, attr))\n",
    "\n",
    "print_attributes(t1)\n"
   ]
  },
  {
   "cell_type": "markdown",
   "metadata": {},
   "source": [
    "# Herencia"
   ]
  },
  {
   "cell_type": "code",
   "execution_count": null,
   "metadata": {},
   "outputs": [],
   "source": [
    "\"\"\"Para este ejercicio utilizaremos el Poker como ejemplo.\n",
    "Esta tabla muestra los palos y su correspondiente codigo integer:\n",
    "Spades -> 3\n",
    "Hearts -> 2\n",
    "Diamonds -> 1\n",
    "Clubs -> 0\n",
    "\n",
    "Este codigo hara mas facil comparar las cartas, asi podemos comparar palos mas facil comparando sus codigos.\n",
    "\n",
    "Jack -> 11\n",
    "Queen -> 12\n",
    "King -> 13\n",
    "\n",
    "Luego tenemos los rangos de las espadas.\"\"\""
   ]
  },
  {
   "cell_type": "code",
   "execution_count": 3,
   "metadata": {},
   "outputs": [],
   "source": [
    "# La definicion de la clase Card se veria asi:\n",
    "\n",
    "class Card(object):\n",
    "    \"\"\"Represents a standard playing card.\"\"\"\n",
    "    def __init__(self, suit=0, rank=2): # La carta default es el 2 de treboles\n",
    "        self.suit = suit\n",
    "        self.rank = rank\n",
    "    \n",
    "    # Atributos de clases\n",
    "    suit_names = ['Clubs', 'Diamonds', 'Hearts', 'Spades'] # Lista de Plaos\n",
    "    rank_names = [None, 'Ace', '2', '3', '4', '5', '6', '7','8', '9', '10', 'Jack', 'Queen', 'King'] # Lista de rangos\n",
    "    \n",
    "    def __str__(self): # Metodo para nombrar un carta\n",
    "        return '%s of %s' % (Card.rank_names[self.rank], Card.suit_names[self.suit])\n",
    "    \n",
    "    def __lt__(self, other): # Metodo para comparar cartas\n",
    "        # check the suits\n",
    "        if self.suit > other.suit: return 1\n",
    "        if self.suit < other.suit: return -1\n",
    "        # suits are the same... check ranks\n",
    "        if self.rank > other.rank: return 1\n",
    "        if self.rank < other.rank: return -1\n",
    "        # ranks are the same... it's a tie\n",
    "        return 0\n",
    "        \n",
    "queen_of_diamonds = Card(1, 12) # Para crear una carta seria de esta forma, 'reina de corazones 1 = Diamantes, 12 = Reina'"
   ]
  },
  {
   "cell_type": "markdown",
   "metadata": {},
   "source": [
    "### Decks"
   ]
  },
  {
   "cell_type": "code",
   "execution_count": 11,
   "metadata": {},
   "outputs": [],
   "source": [
    "\"\"\" La siguiente es una clase para Deck. El metodo init crea los atributos cards y genera el set estandar de 52 cartas:\n",
    "La forma mas facil para crear un deck es con un loop anidado. El loop de afuera enumera los palos desde 0 hasta 3. El loop interno enumera los rangos desde 1 hasta 13\n",
    "Cada iteracion crea una nueva carta con el palo y rango actuales, y lo añade a self.cards.\"\"\"\n",
    "\n",
    "import random \n",
    "\n",
    "class Deck(object):\n",
    "    def __init__(self):\n",
    "        self.cards = []\n",
    "        for suit in range(4): # El rango del loop es 4 debido al numero de palos\n",
    "            for rank in range(1, 14): # El rango del loop es 14 debido al numero de rangos de las cartas\n",
    "                card = Card(suit, rank)\n",
    "                self.cards.append(card)\n",
    "    \n",
    "    def __str__(self): # Construye una lista de strings y luego usa join. Este metodo es invocado en cada carta y retorna la representacion string.\n",
    "        res = []\n",
    "        for card in self.cards:\n",
    "            res.append(str(card))\n",
    "        return '\\n'.join(res)\n",
    "    \n",
    "    def pop_card(self): # Elimina la ultima carta de la deck\n",
    "        return self.cards.pop()\n",
    "    \n",
    "    def add_card(self, card): # Para agregar una carta, utiliza el append, este tipo de funcion es llamada 'veneer' porque no hace la gran cosa\n",
    "        self.cards.append(card)\n",
    "        \n",
    "    def shuffle(self): # Mezcla las cartas utilizando la funcion shuffle del modulo random\n",
    "        random.shuffle(self.cards)\n",
    "    \n",
    "    def sort(self): # Ordena las cartas de la deck en orden decendente\n",
    "        self.cards.sort()\n",
    "    \n",
    "    # Toma un objeto Hand y el numero de cartas. Modifica ambas self y hand, y retorna Nonce    \n",
    "    def move_cards(self, hand, num): # Forma encapsulada para agregar una carta a hand\n",
    "        for i in range(num):\n",
    "            hand.add_card(self.pop_card())\n"
   ]
  },
  {
   "cell_type": "code",
   "execution_count": 5,
   "metadata": {},
   "outputs": [
    {
     "name": "stdout",
     "output_type": "stream",
     "text": [
      "Ace of Clubs\n",
      "2 of Clubs\n",
      "3 of Clubs\n",
      "4 of Clubs\n",
      "5 of Clubs\n",
      "6 of Clubs\n",
      "7 of Clubs\n",
      "8 of Clubs\n",
      "9 of Clubs\n",
      "10 of Clubs\n",
      "Jack of Clubs\n",
      "Queen of Clubs\n",
      "King of Clubs\n",
      "Ace of Diamonds\n",
      "2 of Diamonds\n",
      "3 of Diamonds\n",
      "4 of Diamonds\n",
      "5 of Diamonds\n",
      "6 of Diamonds\n",
      "7 of Diamonds\n",
      "8 of Diamonds\n",
      "9 of Diamonds\n",
      "10 of Diamonds\n",
      "Jack of Diamonds\n",
      "Queen of Diamonds\n",
      "King of Diamonds\n",
      "Ace of Hearts\n",
      "2 of Hearts\n",
      "3 of Hearts\n",
      "4 of Hearts\n",
      "5 of Hearts\n",
      "6 of Hearts\n",
      "7 of Hearts\n",
      "8 of Hearts\n",
      "9 of Hearts\n",
      "10 of Hearts\n",
      "Jack of Hearts\n",
      "Queen of Hearts\n",
      "King of Hearts\n",
      "Ace of Spades\n",
      "2 of Spades\n",
      "3 of Spades\n",
      "4 of Spades\n",
      "5 of Spades\n",
      "6 of Spades\n",
      "7 of Spades\n",
      "8 of Spades\n",
      "9 of Spades\n",
      "10 of Spades\n",
      "Jack of Spades\n",
      "Queen of Spades\n",
      "King of Spades\n"
     ]
    }
   ],
   "source": [
    "# Desde que invocamos join en caracter de nueva linea, las cartas son separadas por nuevas lineas. Aqui esta un ejemplo de como se veria:\n",
    "deck = Deck()\n",
    "print (deck) # El resultado son 52 cartas de una deck"
   ]
  },
  {
   "cell_type": "markdown",
   "metadata": {},
   "source": [
    "### Herencia"
   ]
  },
  {
   "cell_type": "code",
   "execution_count": 12,
   "metadata": {},
   "outputs": [],
   "source": [
    "# La herencia en POO quiere decir que una clase padre hereda sus metodos a una clase hija, es decir, la clase hija obtiene los mismos metodos.\n",
    "# Para definir un clase hija agregamos la clase como siempre solo que entre parentesis pondremos la clase padre:\n",
    "    \n",
    "class Hand(Deck):\n",
    "    \"\"\"Representa una mano de cartas.\"\"\"\n",
    "    #declaramos un nuevo init ya que como la clase deck, en esta no queremos que genere 52 cartas\n",
    "    def __init__(self, label=''):  # agrega una etiqueta a la mano\n",
    "        self.cards = []\n",
    "        self.label = label"
   ]
  },
  {
   "cell_type": "code",
   "execution_count": 13,
   "metadata": {},
   "outputs": [
    {
     "name": "stdout",
     "output_type": "stream",
     "text": [
      "[]\n",
      "new hand\n"
     ]
    }
   ],
   "source": [
    "hand = Hand('new hand') # invoca el metodo que acabamos de crear\n",
    "print (hand.cards) # la mano esta vacio\n",
    "print (hand.label) # la etiqueta de la mano"
   ]
  },
  {
   "cell_type": "code",
   "execution_count": 14,
   "metadata": {},
   "outputs": [
    {
     "name": "stdout",
     "output_type": "stream",
     "text": [
      "King of Spades\n"
     ]
    }
   ],
   "source": [
    "# Como ya heredamos los metodos a hand, entonces los podemos usar:\n",
    "deck = Deck() # se crea una nueva deck\n",
    "card = deck.pop_card() # se elimina la ultima carta de la deck\n",
    "hand.add_card(card) # agregamos la carta que eliminamos de la deck a nuestra mano\n",
    "print (hand) # King of Spades"
   ]
  },
  {
   "cell_type": "markdown",
   "metadata": {},
   "source": [
    "### Debugging de herencia"
   ]
  },
  {
   "cell_type": "code",
   "execution_count": 16,
   "metadata": {},
   "outputs": [
    {
     "name": "stdout",
     "output_type": "stream",
     "text": [
      "<class '__main__.Deck'>\n"
     ]
    }
   ],
   "source": [
    "\"\"\"Funcion que sirve para verificar de que clase provee la definicion de un metodo, dicha funcion toma un objeto y un nombre de metodo (como string) y retorna la\n",
    "clase que provee la definicion del metodo: \"\"\"\n",
    "\n",
    "\"\"\"NOTA: SIEMPRE QUE SOBREESCRIBAS UN METODO, LA INTERFACE DEL NUEVO METODO TIENE QUE SER LA MISMA QUE LA VIEJA. DEBE TOMAR LOS MISMOS PARAMETROS, RETORNAR EL MISMO TIPO\n",
    "Y OBEDECER LAS MISMAS PRECONDICIONES Y POSTCONDICIONES. SI TU OBEDECES ESTA REGLA ENCONTRARAS QUE CUALQUIER FUNCION DISEÑADA PARA TRABAJAR CON UNA INSTANCIA DE UNA SUPERCLASE\n",
    "COMO UNA DECK, TAMBIEN FUNCIONARA CON INSTANCIAS DE SUBCLASES COMO UN HAND O POKERHAND.\"\"\"\n",
    "\n",
    "def find_defining_class(obj, meth_name):\n",
    "    for ty in type(obj).mro(): # mro para tomar la lista de objetos de la clase (tipos) que seran buscados por metodos “MRO” significa “method resolution order.”\n",
    "        if meth_name in ty.__dict__:\n",
    "            return ty\n",
    "        \n",
    "#Ejemplo\n",
    "hand = Hand()\n",
    "print (find_defining_class(hand, 'shuffle')) # Asi el metodo shuffle para esta Hand es el mismo en Deck el cual es su origen."
   ]
  },
  {
   "cell_type": "markdown",
   "metadata": {},
   "source": [
    "# Caso de Estudio: Tkinter"
   ]
  },
  {
   "cell_type": "code",
   "execution_count": 5,
   "metadata": {},
   "outputs": [],
   "source": [
    "from swampy.Gui import *\n",
    "g = Gui()\n",
    "g.title('Gui')\n",
    "def make_label():\n",
    "    g.la(text='Thank you.')\n",
    "button2 = g.bu(text='No, press me!', command=make_label)\n",
    "g.mainloop()"
   ]
  },
  {
   "cell_type": "code",
   "execution_count": 8,
   "metadata": {},
   "outputs": [],
   "source": [
    "\"\"\" Ejercicio 19.2: Write a program that creates a GUI with a single button. When the button is\n",
    "pressed it should create a second button. When that button is pressed, it should create a label that\n",
    "says, “Nice job!”.\"\"\"\n",
    "\n",
    "from swampy.Gui import *\n",
    "g = Gui()\n",
    "g.title('Gui')\n",
    "def make_button():\n",
    "    button2 = g.bu(text='Segundo Boton', command=make_button2)\n",
    "\n",
    "def make_button2():\n",
    "    g.la(text='Nice Job!')\n",
    "    \n",
    "button1 = g.bu(text='Primer Boton', command=make_button)\n",
    "   \n",
    "g.mainloop()\n",
    "# Checar button_ demo.py, que hace lo mismo"
   ]
  },
  {
   "cell_type": "markdown",
   "metadata": {},
   "source": [
    "### Canvas widgets"
   ]
  },
  {
   "cell_type": "code",
   "execution_count": 15,
   "metadata": {},
   "outputs": [],
   "source": [
    "from swampy.Gui import *\n",
    "g = Gui()\n",
    "g.title('Gui')\n",
    "canvas = g.ca(width=500, height=500) # valores en pixeles\n",
    "\"\"\"Despues de crear un widget, puedes cambiar los valores de las opciones con el metodo config. Ejemplo, la opcion bg:\"\"\"\n",
    "canvas.config(bg='cyan') # cambiando el valor del color de fondo con config\n",
    "item = canvas.circle([0,0], 100, fill='red') # EL primer argumento es un par de coordenada especifica el centro; el segundo es el radio.Fill dice el color a rellenar.\n",
    "item.config(fill='yellow', outline='orange', width=10) # para cambiar los parametros\n",
    "g.mainloop()"
   ]
  },
  {
   "cell_type": "code",
   "execution_count": 21,
   "metadata": {},
   "outputs": [],
   "source": [
    "\"\"\"Write a program that creates a Canvas and a Button. When the user presses the\n",
    "Button, it should draw a circle on the canvas.\"\"\"\n",
    "\n",
    "from swampy.Gui import *\n",
    "g = Gui()\n",
    "g.title('Gui')\n",
    "canvas = g.ca(width=100, height=100)\n",
    "def make_circle():\n",
    "    item = canvas.circle([0,0], 30, fill='red') \n",
    "    \n",
    "g.bu(text='Presioname', command=make_circle,bg='cyan')\n",
    "g.mainloop()"
   ]
  },
  {
   "cell_type": "markdown",
   "metadata": {},
   "source": [
    "### Secuencias Coordinadas"
   ]
  },
  {
   "cell_type": "code",
   "execution_count": 4,
   "metadata": {},
   "outputs": [],
   "source": [
    "\"\"\"Este ejemplo dibuja un rectangulo azul con la esquina inferior izquierda en el origen y la esquina superior derecha en (200, 100).\n",
    "Esta forma de especificar esquinas es llamada bounding box porque los dos puntos ligan el rectangulo.\"\"\"\n",
    "from swampy.Gui import * \n",
    "g = Gui()\n",
    "g.title('Gui')\n",
    "canvas = g.ca(width=500, height=500)\n",
    "canvas.rectangle([[0, 0], [200, 100]],fill='blue', outline='orange', width=10) #outline crea un linea perimetral y width es el ancho de la linea\n",
    "\n",
    "g.mainloop()"
   ]
  },
  {
   "cell_type": "code",
   "execution_count": 5,
   "metadata": {},
   "outputs": [],
   "source": [
    "\"\"\"oval toma un bounding box y dibuja un ovalo sin el rectangulo especificado:\"\"\"\n",
    "from swampy.Gui import * \n",
    "g = Gui()\n",
    "g.title('Gui')\n",
    "canvas = g.ca(width=500, height=500)\n",
    "\n",
    "canvas.oval([[0, 0], [200, 100]], outline='orange', width=10)\n",
    "\n",
    "g.mainloop()"
   ]
  },
  {
   "cell_type": "code",
   "execution_count": 6,
   "metadata": {},
   "outputs": [],
   "source": [
    "\"\"\"line toma una secuencia de coordenadas y dibuja una linea que conecta los puntos. Este ejemplo dibuja dos piernas de un triangulo(sin la base):\"\"\"\n",
    "from swampy.Gui import * \n",
    "g = Gui()\n",
    "g.title('Gui')\n",
    "canvas = g.ca(width=500, height=500)\n",
    "\n",
    "canvas.line([[0, 100], [100, 200], [200, 100]], width=10)\n",
    "\n",
    "g.mainloop()"
   ]
  },
  {
   "cell_type": "code",
   "execution_count": 8,
   "metadata": {},
   "outputs": [],
   "source": [
    "\"\"\"polygon toma los mismos argumentos, pero dibuja la ultima pierna del poligono (la base) y rellena:\"\"\"\n",
    "from swampy.Gui import * \n",
    "g = Gui()\n",
    "g.title('Gui')\n",
    "canvas = g.ca(width=500, height=500)\n",
    "\n",
    "canvas.polygon([[0, 100], [100, 200], [200, 100]],fill='red', outline='orange', width=10)\n",
    "\n",
    "g.mainloop()"
   ]
  },
  {
   "cell_type": "markdown",
   "metadata": {},
   "source": [
    "### Mas Widgets"
   ]
  },
  {
   "cell_type": "code",
   "execution_count": 5,
   "metadata": {},
   "outputs": [],
   "source": [
    "\"\"\"Ejemplos de permiten al usario escribir texto. te creates a Text widget. width and height are the dimensions of the widget in characters and lines.\n",
    "insert puts text into the Text widget. END is a special index that indicates the last character in the Text widget.: \"\"\"\n",
    "from swampy.Gui import * \n",
    "g = Gui()\n",
    "g.title('Gui')\n",
    "canvas = g.ca(width=500, height=500)\n",
    "\n",
    "entry = g.en(text='Default text.') # Entry es una sola linea\n",
    "entry.get() # Toma el texto\n",
    "text = g.te(width=100, height=5) # Text toma varias lineas\n",
    "text.insert(END, 'A line of text.')\n",
    "text.insert(1.1, 'nother') # You can also specify a character using a dotted index, like 1.1, which has the line number\n",
    "                           # before the dot and the column number after. The following example adds the letters\n",
    "                           # 'nother' after the first character of the first line.\n",
    "text.get(0.0, END) # The get method reads the text in the widget; it takes a start and end index as arguments.\n",
    "                   # The following example returns all the text in the widget, including the newline character\n",
    "text.delete(1.2, END) # The delete method removes text from the widget; the following example deletes all but the first two characters\n",
    "text.get(0.0, END)\n",
    "g.mainloop()"
   ]
  },
  {
   "cell_type": "code",
   "execution_count": 15,
   "metadata": {},
   "outputs": [],
   "source": [
    "\"\"\"Modify your solution to Exercise 19.2 by adding an Entry widget and a second button. When the user presses the second button, it should read a color name from the Entry and\n",
    "use it to change the fill color of the circle. Use config to modify the existing circle; don’t create a\n",
    "new one. Your program should handle the case where the user tries to change the color of a circle that hasn’t\n",
    "been created, and the case where the color name is invalid.\"\"\"\n",
    "\n",
    "#Checar circle_demo.py\n",
    "\n",
    "from swampy.Gui import *\n",
    "\n",
    "g = Gui()\n",
    "g.title('circle demo')\n",
    "canvas = g.ca(width=500, height=500, bg='white')\n",
    "circle = None\n",
    "\n",
    "def callback1():\n",
    "    \"\"\"called when the user presses 'Create circle' \"\"\"\n",
    "    global circle\n",
    "    circle = canvas.circle([0,0], 100)\n",
    "\n",
    "def callback2():\n",
    "    \"\"\"called when the user presses 'Change color' \"\"\"\n",
    "\n",
    "    # if the circle hasn't been created yet, do nothing\n",
    "    if circle == None:\n",
    "        return\n",
    "\n",
    "    # get the text from the entry and try to change the circle's color\n",
    "    color = entry.get()\n",
    "    try:\n",
    "        circle.config(fill=color)\n",
    "    except (TclError, message):\n",
    "        # probably an unknown color name\n",
    "        print (message)\n",
    "        \n",
    "\n",
    "# create the widgets\n",
    "g.bu(text='Create circle', command=callback1)\n",
    "entry = g.en()\n",
    "g.bu(text='Change color', command=callback2)\n",
    "\n",
    "g.mainloop()"
   ]
  },
  {
   "cell_type": "markdown",
   "metadata": {},
   "source": [
    "### Packing Widgets"
   ]
  },
  {
   "cell_type": "code",
   "execution_count": 1,
   "metadata": {},
   "outputs": [],
   "source": [
    "# Checar simpleturtleworld.py, usa el archivo snowflake.py "
   ]
  },
  {
   "cell_type": "markdown",
   "metadata": {},
   "source": [
    "### Menus y Callables"
   ]
  },
  {
   "cell_type": "code",
   "execution_count": 13,
   "metadata": {},
   "outputs": [],
   "source": [
    "# Puedo checar menubutton_demo.py\n",
    "\n",
    "from swampy.Gui import *\n",
    "\n",
    "g = Gui()\n",
    "g.la('Select a color:')\n",
    "colors = ['red', 'green', 'blue']\n",
    "mb = g.mb(text=colors[0]) # mb crea un Menubutton. Inicialmente, el texto en el boton es el nombre del color default.\n",
    "\n",
    "# Cuando el usario selecciona el menu item y set_color es llamado, este configura el Menubutton para desplegar el nuevo color seleccionado. Tambien imprime el color, si \n",
    "# probamos este ejemplo, podemo confirmar que set_color es llamado cuando seleccionas un item ( y no llamado cuando creas el objeto Callable).\n",
    "def set_color(color):\n",
    "    mb.config(text=color)\n",
    "    print (color)\n",
    "\n",
    "# El siguiente ciclo crea un menu item para cada color:\n",
    "for color in colors:\n",
    "    g.mi(mb, text=color, command=Callable(set_color, color))\n",
    "    # El primer argumento de mi es el Menubutton estos items estan asociados con el. La opcion command  es un objeto Callable. Hasta ahora hemos visto funciones y metodos \n",
    "    # bound usados como callbacks, los cuales trabajan bien si no tienes que pasasr ningun argumento a la funcion. Por otro lado, tienes que construir un objeto Callable\n",
    "    # que contenga una funcion, como set_color y esos argumentos, como color.\n",
    "\n",
    "g.mainloop()"
   ]
  },
  {
   "cell_type": "markdown",
   "metadata": {},
   "source": [
    "### Binding "
   ]
  },
  {
   "cell_type": "code",
   "execution_count": 1,
   "metadata": {},
   "outputs": [],
   "source": [
    "\"\"\" Un binding es una asociacion entre un widget, un evento y un callback: cuando el evento (como presionar un boton) ocurre en un widget, el callback es invocado.\n",
    "Puedo checar el archivo draggable_demo.py. Este ejemplo crea un texto a partir de la entrada para el usuario y los puede mover de lugar haciendo click o si el usuario\n",
    "da click derecho en cualquier parte del area de la ventana crea un circulo color rojo; ambos objetos son 'draggable' o se que se puede tomar con el mouse y mover su\n",
    " ubicacion en la ventana del programa\"\"\"\n",
    "\n",
    "\n",
    "from swampy.Gui import *\n",
    "\n",
    "class Draggable(Item):\n",
    "    \"\"\"A Canvas Item with bindings for dragging and dropping.\n",
    "\n",
    "    Given an item, Draggable(item) creates bindings and returns\n",
    "    a Draggable object with the same canvas and tag as the original.\n",
    "    \"\"\"\n",
    "    def __init__(self, item):\n",
    "        self.canvas = item.canvas\n",
    "        self.tag = item.tag\n",
    "        self.bind('<ButtonPress-1>', self.select)\n",
    "        self.bind('<B1-Motion>', self.drag)\n",
    "        self.bind('<ButtonRelease-1>', self.drop)\n",
    "\n",
    "    # the following event handlers take an event object as a parameter\n",
    "\n",
    "    def select(self, event):\n",
    "        \"\"\"Selects this item for dragging.\"\"\"\n",
    "        self.dragx = event.x\n",
    "        self.dragy = event.y\n",
    "\n",
    "        self.fill = self.cget('fill')\n",
    "        self.config(fill='orange')\n",
    "        \n",
    "    def drag(self, event):\n",
    "        \"\"\"Move this item using the pixel coordinates in the event object.\"\"\"\n",
    "        # see how far we have moved\n",
    "        dx = event.x - self.dragx\n",
    "        dy = event.y - self.dragy\n",
    "\n",
    "        # save the current drag coordinates\n",
    "        self.dragx = event.x\n",
    "        self.dragy = event.y\n",
    "\n",
    "        # move the item \n",
    "        self.move(dx, dy)\n",
    "\n",
    "    def drop(self, event):\n",
    "        \"\"\"Drops this item.\"\"\"\n",
    "        self.config(fill=self.fill)\n",
    "\n",
    "\n",
    "# create the Gui and the Canvas\n",
    "g = Gui()\n",
    "ca = g.ca(width=500, height=500, bg='white')\n",
    "\n",
    "def make_circle(event):\n",
    "    \"\"\"Makes a circle item at the location of a button press.\"\"\"\n",
    "    pos = ca.canvas_coords([event.x, event.y])\n",
    "    item = ca.circle(pos, 5, fill='red')\n",
    "    item = Draggable(item)\n",
    "\n",
    "ca.bind('<ButtonPress-3>', make_circle)\n",
    "\n",
    "def make_text(event=None):\n",
    "    \"\"\"Pressing Return in the Entry makes a text item.\"\"\"\n",
    "    text = en.get()\n",
    "    item = ca.text([0,0], text)\n",
    "    item = Draggable(item)\n",
    "\n",
    "\n",
    "g.row([0,1])\n",
    "bu = g.bu('Make text item:', make_text)\n",
    "en = g.en()\n",
    "en.bind('<Return>', make_text)\n",
    "\n",
    "g.mainloop()"
   ]
  },
  {
   "cell_type": "code",
   "execution_count": 1,
   "metadata": {},
   "outputs": [],
   "source": [
    "# Para este ejemplo haremos un image viewer\n",
    "\n",
    "from swampy.Gui import *\n",
    "from tkinter import PhotoImage\n",
    "\n",
    "g = Gui()\n",
    "canvas = g.ca(width=300)\n",
    "photo = PhotoImage(file='danger.gif')\n",
    "canvas.image([0,0], image=photo)\n",
    "\n",
    "g.mainloop()"
   ]
  },
  {
   "cell_type": "markdown",
   "metadata": {},
   "source": [
    "# Debugging programas Python"
   ]
  },
  {
   "cell_type": "code",
   "execution_count": null,
   "metadata": {},
   "outputs": [],
   "source": []
  }
 ],
 "metadata": {
  "kernelspec": {
   "display_name": "Python 3",
   "language": "python",
   "name": "python3"
  },
  "language_info": {
   "codemirror_mode": {
    "name": "ipython",
    "version": 3
   },
   "file_extension": ".py",
   "mimetype": "text/x-python",
   "name": "python",
   "nbconvert_exporter": "python",
   "pygments_lexer": "ipython3",
   "version": "3.7.3"
  }
 },
 "nbformat": 4,
 "nbformat_minor": 2
}
